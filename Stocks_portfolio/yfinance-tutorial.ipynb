{
 "cells": [
  {
   "cell_type": "code",
   "execution_count": 3,
   "metadata": {},
   "outputs": [],
   "source": [
    "import numpy_financial as npf\n",
    "import pandas as pd\n",
    "import matplotlib.pyplot as plt\n",
    "import plotly.express as px\n",
    "import numpy as np"
   ]
  },
  {
   "cell_type": "code",
   "execution_count": 4,
   "metadata": {},
   "outputs": [
    {
     "name": "stdout",
     "output_type": "stream",
     "text": [
      "1469.33\n"
     ]
    }
   ],
   "source": [
    "res = npf.fv(rate=0.08, nper=5, pmt=0, pv=-1000)\n",
    "print(round(res,2))"
   ]
  },
  {
   "cell_type": "code",
   "execution_count": 5,
   "metadata": {},
   "outputs": [
    {
     "name": "stdout",
     "output_type": "stream",
     "text": [
      "100.0\n"
     ]
    },
    {
     "name": "stderr",
     "output_type": "stream",
     "text": [
      "c:\\Users\\ivana\\anaconda3\\lib\\site-packages\\numpy_financial\\_financial.py:130: RuntimeWarning: invalid value encountered in long_scalars\n",
      "  (1 + rate*when)*(temp - 1)/rate)\n"
     ]
    }
   ],
   "source": [
    "print(npf.fv(rate=0, nper=3, pmt=0, pv=-100))"
   ]
  },
  {
   "cell_type": "code",
   "execution_count": 6,
   "metadata": {},
   "outputs": [
    {
     "data": {
      "text/html": [
       "<div>\n",
       "<style scoped>\n",
       "    .dataframe tbody tr th:only-of-type {\n",
       "        vertical-align: middle;\n",
       "    }\n",
       "\n",
       "    .dataframe tbody tr th {\n",
       "        vertical-align: top;\n",
       "    }\n",
       "\n",
       "    .dataframe thead th {\n",
       "        text-align: right;\n",
       "    }\n",
       "</style>\n",
       "<table border=\"1\" class=\"dataframe\">\n",
       "  <thead>\n",
       "    <tr style=\"text-align: right;\">\n",
       "      <th></th>\n",
       "      <th>Name</th>\n",
       "      <th>Title</th>\n",
       "      <th>Pay</th>\n",
       "      <th>Exercised</th>\n",
       "      <th>Year Born</th>\n",
       "    </tr>\n",
       "  </thead>\n",
       "  <tbody>\n",
       "    <tr>\n",
       "      <th>0</th>\n",
       "      <td>Mr. Elon R. Musk</td>\n",
       "      <td>Technoking of Tesla, CEO &amp; Director</td>\n",
       "      <td>NaN</td>\n",
       "      <td>23.45B</td>\n",
       "      <td>1972.0</td>\n",
       "    </tr>\n",
       "    <tr>\n",
       "      <th>1</th>\n",
       "      <td>Mr. Zachary John Planell Kirkhorn</td>\n",
       "      <td>Master of Coin &amp; CFO</td>\n",
       "      <td>301.15k</td>\n",
       "      <td>3.2M</td>\n",
       "      <td>1985.0</td>\n",
       "    </tr>\n",
       "    <tr>\n",
       "      <th>2</th>\n",
       "      <td>Mr. Andrew D. Baglino</td>\n",
       "      <td>Sr. VP of Powertrain &amp; Energy Engineering</td>\n",
       "      <td>301.15k</td>\n",
       "      <td>20.06M</td>\n",
       "      <td>1981.0</td>\n",
       "    </tr>\n",
       "    <tr>\n",
       "      <th>3</th>\n",
       "      <td>Mr. Vaibhav Taneja</td>\n",
       "      <td>Corp. Controller &amp; Chief Accounting Officer</td>\n",
       "      <td>NaN</td>\n",
       "      <td>NaN</td>\n",
       "      <td>1978.0</td>\n",
       "    </tr>\n",
       "    <tr>\n",
       "      <th>4</th>\n",
       "      <td>Mr. Martin Viecha</td>\n",
       "      <td>Sr. Director for Investor Relations</td>\n",
       "      <td>NaN</td>\n",
       "      <td>NaN</td>\n",
       "      <td>NaN</td>\n",
       "    </tr>\n",
       "    <tr>\n",
       "      <th>5</th>\n",
       "      <td>Mr. Alan Prescott</td>\n",
       "      <td>VP of Legal</td>\n",
       "      <td>NaN</td>\n",
       "      <td>NaN</td>\n",
       "      <td>1979.0</td>\n",
       "    </tr>\n",
       "    <tr>\n",
       "      <th>6</th>\n",
       "      <td>Mr. Dave Arnold</td>\n",
       "      <td>Sr. Director of Global Communications</td>\n",
       "      <td>NaN</td>\n",
       "      <td>NaN</td>\n",
       "      <td>NaN</td>\n",
       "    </tr>\n",
       "    <tr>\n",
       "      <th>7</th>\n",
       "      <td>Brian Scelfo</td>\n",
       "      <td>Sr. Director of Corp. Devel.</td>\n",
       "      <td>NaN</td>\n",
       "      <td>NaN</td>\n",
       "      <td>NaN</td>\n",
       "    </tr>\n",
       "    <tr>\n",
       "      <th>8</th>\n",
       "      <td>Mr. Jeffrey B. Straubel</td>\n",
       "      <td>Sr. Advisor</td>\n",
       "      <td>NaN</td>\n",
       "      <td>NaN</td>\n",
       "      <td>1976.0</td>\n",
       "    </tr>\n",
       "    <tr>\n",
       "      <th>9</th>\n",
       "      <td>Mr. Franz von Holzhausen</td>\n",
       "      <td>Chief Designer</td>\n",
       "      <td>NaN</td>\n",
       "      <td>NaN</td>\n",
       "      <td>NaN</td>\n",
       "    </tr>\n",
       "  </tbody>\n",
       "</table>\n",
       "</div>"
      ],
      "text/plain": [
       "                                Name  \\\n",
       "0                   Mr. Elon R. Musk   \n",
       "1  Mr. Zachary John Planell Kirkhorn   \n",
       "2              Mr. Andrew D. Baglino   \n",
       "3                 Mr. Vaibhav Taneja   \n",
       "4                  Mr. Martin Viecha   \n",
       "5                  Mr. Alan Prescott   \n",
       "6                    Mr. Dave Arnold   \n",
       "7                       Brian Scelfo   \n",
       "8            Mr. Jeffrey B. Straubel   \n",
       "9           Mr. Franz von Holzhausen   \n",
       "\n",
       "                                         Title      Pay Exercised  Year Born  \n",
       "0          Technoking of Tesla, CEO & Director      NaN    23.45B     1972.0  \n",
       "1                         Master of Coin & CFO  301.15k      3.2M     1985.0  \n",
       "2    Sr. VP of Powertrain & Energy Engineering  301.15k    20.06M     1981.0  \n",
       "3  Corp. Controller & Chief Accounting Officer      NaN       NaN     1978.0  \n",
       "4          Sr. Director for Investor Relations      NaN       NaN        NaN  \n",
       "5                                  VP of Legal      NaN       NaN     1979.0  \n",
       "6        Sr. Director of Global Communications      NaN       NaN        NaN  \n",
       "7                 Sr. Director of Corp. Devel.      NaN       NaN        NaN  \n",
       "8                                  Sr. Advisor      NaN       NaN     1976.0  \n",
       "9                               Chief Designer      NaN       NaN        NaN  "
      ]
     },
     "execution_count": 6,
     "metadata": {},
     "output_type": "execute_result"
    }
   ],
   "source": [
    "import requests\n",
    "\n",
    "url_link = 'https://finance.yahoo.com/quote/TSLA/profile'\n",
    "r = requests.get(url_link, headers={'User-Agent':'Mozilla/5.0 (Windows NT 10.0; Win64; x64) AppleWebKit/537.36 (KHTML, like Gecko) Chrome/91.0.4472.124 Safari/537.36'})\n",
    "\n",
    "df = pd.read_html(r.text)\n",
    "df[0]"
   ]
  },
  {
   "cell_type": "code",
   "execution_count": 7,
   "metadata": {},
   "outputs": [
    {
     "data": {
      "text/html": [
       "<div>\n",
       "<style scoped>\n",
       "    .dataframe tbody tr th:only-of-type {\n",
       "        vertical-align: middle;\n",
       "    }\n",
       "\n",
       "    .dataframe tbody tr th {\n",
       "        vertical-align: top;\n",
       "    }\n",
       "\n",
       "    .dataframe thead th {\n",
       "        text-align: right;\n",
       "    }\n",
       "</style>\n",
       "<table border=\"1\" class=\"dataframe\">\n",
       "  <thead>\n",
       "    <tr style=\"text-align: right;\">\n",
       "      <th></th>\n",
       "      <th>Earnings Estimate</th>\n",
       "      <th>Current Qtr. (Dec 2022)</th>\n",
       "      <th>Next Qtr. (Mar 2023)</th>\n",
       "      <th>Current Year (2022)</th>\n",
       "      <th>Next Year (2023)</th>\n",
       "    </tr>\n",
       "  </thead>\n",
       "  <tbody>\n",
       "    <tr>\n",
       "      <th>0</th>\n",
       "      <td>No. of Analysts</td>\n",
       "      <td>20.00</td>\n",
       "      <td>13.00</td>\n",
       "      <td>25.00</td>\n",
       "      <td>26.00</td>\n",
       "    </tr>\n",
       "    <tr>\n",
       "      <th>1</th>\n",
       "      <td>Avg. Estimate</td>\n",
       "      <td>1.26</td>\n",
       "      <td>1.29</td>\n",
       "      <td>4.10</td>\n",
       "      <td>5.64</td>\n",
       "    </tr>\n",
       "    <tr>\n",
       "      <th>2</th>\n",
       "      <td>Low Estimate</td>\n",
       "      <td>0.86</td>\n",
       "      <td>1.04</td>\n",
       "      <td>3.68</td>\n",
       "      <td>4.08</td>\n",
       "    </tr>\n",
       "    <tr>\n",
       "      <th>3</th>\n",
       "      <td>High Estimate</td>\n",
       "      <td>1.51</td>\n",
       "      <td>1.80</td>\n",
       "      <td>4.46</td>\n",
       "      <td>7.97</td>\n",
       "    </tr>\n",
       "    <tr>\n",
       "      <th>4</th>\n",
       "      <td>Year Ago EPS</td>\n",
       "      <td>0.85</td>\n",
       "      <td>1.07</td>\n",
       "      <td>2.26</td>\n",
       "      <td>4.10</td>\n",
       "    </tr>\n",
       "  </tbody>\n",
       "</table>\n",
       "</div>"
      ],
      "text/plain": [
       "  Earnings Estimate  Current Qtr. (Dec 2022)  Next Qtr. (Mar 2023)  \\\n",
       "0   No. of Analysts                    20.00                 13.00   \n",
       "1     Avg. Estimate                     1.26                  1.29   \n",
       "2      Low Estimate                     0.86                  1.04   \n",
       "3     High Estimate                     1.51                  1.80   \n",
       "4      Year Ago EPS                     0.85                  1.07   \n",
       "\n",
       "   Current Year (2022)  Next Year (2023)  \n",
       "0                25.00             26.00  \n",
       "1                 4.10              5.64  \n",
       "2                 3.68              4.08  \n",
       "3                 4.46              7.97  \n",
       "4                 2.26              4.10  "
      ]
     },
     "execution_count": 7,
     "metadata": {},
     "output_type": "execute_result"
    }
   ],
   "source": [
    "url_link_2 = 'https://finance.yahoo.com/quote/TSLA/analysis?p=TSLA'\n",
    "r = requests.get(url_link_2, headers={'User-Agent':'Mozilla/5.0 (Windows NT 10.0; Win64; x64) AppleWebKit/537.36 (KHTML, like Gecko) Chrome/91.0.4472.124 Safari/537.36'})\n",
    "data_2 = pd.read_html(r.text)\n",
    "data_2 = data_2[0]\n",
    "data_2"
   ]
  },
  {
   "cell_type": "code",
   "execution_count": 8,
   "metadata": {},
   "outputs": [
    {
     "data": {
      "text/html": [
       "<div>\n",
       "<style scoped>\n",
       "    .dataframe tbody tr th:only-of-type {\n",
       "        vertical-align: middle;\n",
       "    }\n",
       "\n",
       "    .dataframe tbody tr th {\n",
       "        vertical-align: top;\n",
       "    }\n",
       "\n",
       "    .dataframe thead th {\n",
       "        text-align: right;\n",
       "    }\n",
       "</style>\n",
       "<table border=\"1\" class=\"dataframe\">\n",
       "  <thead>\n",
       "    <tr style=\"text-align: right;\">\n",
       "      <th></th>\n",
       "      <th>Earnings Estimate</th>\n",
       "      <th>Current Qtr. (Dec 2022)</th>\n",
       "      <th>Next Qtr. (Mar 2023)</th>\n",
       "      <th>Current Year (2022)</th>\n",
       "      <th>Next Year (2023)</th>\n",
       "    </tr>\n",
       "  </thead>\n",
       "  <tbody>\n",
       "    <tr>\n",
       "      <th>1</th>\n",
       "      <td>Avg. Estimate</td>\n",
       "      <td>1.26</td>\n",
       "      <td>1.29</td>\n",
       "      <td>4.1</td>\n",
       "      <td>5.64</td>\n",
       "    </tr>\n",
       "  </tbody>\n",
       "</table>\n",
       "</div>"
      ],
      "text/plain": [
       "  Earnings Estimate  Current Qtr. (Dec 2022)  Next Qtr. (Mar 2023)  \\\n",
       "1     Avg. Estimate                     1.26                  1.29   \n",
       "\n",
       "   Current Year (2022)  Next Year (2023)  \n",
       "1                  4.1              5.64  "
      ]
     },
     "execution_count": 8,
     "metadata": {},
     "output_type": "execute_result"
    }
   ],
   "source": [
    "data_2[data_2['Earnings Estimate']=='Avg. Estimate']"
   ]
  },
  {
   "cell_type": "code",
   "execution_count": 9,
   "metadata": {},
   "outputs": [
    {
     "data": {
      "text/html": [
       "<div>\n",
       "<style scoped>\n",
       "    .dataframe tbody tr th:only-of-type {\n",
       "        vertical-align: middle;\n",
       "    }\n",
       "\n",
       "    .dataframe tbody tr th {\n",
       "        vertical-align: top;\n",
       "    }\n",
       "\n",
       "    .dataframe thead th {\n",
       "        text-align: right;\n",
       "    }\n",
       "</style>\n",
       "<table border=\"1\" class=\"dataframe\">\n",
       "  <thead>\n",
       "    <tr style=\"text-align: right;\">\n",
       "      <th></th>\n",
       "      <th>Earnings Estimate</th>\n",
       "      <th>Current Qtr. (Dec 2022)</th>\n",
       "      <th>Next Qtr. (Mar 2023)</th>\n",
       "      <th>Current Year (2022)</th>\n",
       "      <th>Next Year (2023)</th>\n",
       "    </tr>\n",
       "  </thead>\n",
       "  <tbody>\n",
       "    <tr>\n",
       "      <th>1</th>\n",
       "      <td>Avg. Estimate</td>\n",
       "      <td>1.26</td>\n",
       "      <td>1.29</td>\n",
       "      <td>4.1</td>\n",
       "      <td>5.64</td>\n",
       "    </tr>\n",
       "  </tbody>\n",
       "</table>\n",
       "</div>"
      ],
      "text/plain": [
       "  Earnings Estimate  Current Qtr. (Dec 2022)  Next Qtr. (Mar 2023)  \\\n",
       "1     Avg. Estimate                     1.26                  1.29   \n",
       "\n",
       "   Current Year (2022)  Next Year (2023)  \n",
       "1                  4.1              5.64  "
      ]
     },
     "execution_count": 9,
     "metadata": {},
     "output_type": "execute_result"
    }
   ],
   "source": [
    "data_2.iloc[1:2]"
   ]
  },
  {
   "cell_type": "code",
   "execution_count": 10,
   "metadata": {},
   "outputs": [
    {
     "data": {
      "image/png": "[encoded data removed]",
      "text/plain": [
       "<Figure size 1080x864 with 1 Axes>"
      ]
     },
     "metadata": {
      "needs_background": "light"
     },
     "output_type": "display_data"
    }
   ],
   "source": [
    "data_2.iloc[1:2].plot(kind='bar', figsize=(15,12))\n",
    "plt.title('Avg. Estimate')\n",
    "plt.xlabel('Promedio')\n",
    "plt.show()"
   ]
  },
  {
   "cell_type": "code",
   "execution_count": 11,
   "metadata": {},
   "outputs": [],
   "source": [
    "import yfinance as yf"
   ]
  },
  {
   "cell_type": "code",
   "execution_count": 12,
   "metadata": {},
   "outputs": [],
   "source": [
    "data = yf.Ticker('TSLA')"
   ]
  },
  {
   "cell_type": "code",
   "execution_count": 13,
   "metadata": {},
   "outputs": [
    {
     "name": "stdout",
     "output_type": "stream",
     "text": [
      "0.14947\n"
     ]
    }
   ],
   "source": [
    "print(data.info['profitMargins'])"
   ]
  },
  {
   "cell_type": "code",
   "execution_count": 14,
   "metadata": {},
   "outputs": [
    {
     "data": {
      "application/vnd.plotly.v1+json": {
       "config": {
        "plotlyServerURL": "https://plot.ly"
       },
       "data": [
        {
         "hovertemplate": "variable=Revenue<br>Year=%{x}<br>value=%{y}<extra></extra>",
         "legendgroup": "Revenue",
         "line": {
          "color": "#636efa",
          "dash": "solid"
         },
         "marker": {
          "symbol": "circle"
         },
         "mode": "lines",
         "name": "Revenue",
         "orientation": "v",
         "showlegend": true,
         "type": "scatter",
         "x": [
          2018,
          2019,
          2020,
          2021
         ],
         "xaxis": "x",
         "y": [
          21461000000,
          24578000000,
          31536000000,
          53823000000
         ],
         "yaxis": "y"
        },
        {
         "hovertemplate": "variable=Earnings<br>Year=%{x}<br>value=%{y}<extra></extra>",
         "legendgroup": "Earnings",
         "line": {
          "color": "#EF553B",
          "dash": "solid"
         },
         "marker": {
          "symbol": "circle"
         },
         "mode": "lines",
         "name": "Earnings",
         "orientation": "v",
         "showlegend": true,
         "type": "scatter",
         "x": [
          2018,
          2019,
          2020,
          2021
         ],
         "xaxis": "x",
         "y": [
          -976000000,
          -862000000,
          721000000,
          5519000000
         ],
         "yaxis": "y"
        }
       ],
       "layout": {
        "legend": {
         "title": {
          "text": "variable"
         },
         "tracegroupgap": 0
        },
        "margin": {
         "t": 60
        },
        "template": {
         "data": {
          "bar": [
           {
            "error_x": {
             "color": "#2a3f5f"
            },
            "error_y": {
             "color": "#2a3f5f"
            },
            "marker": {
             "line": {
              "color": "#E5ECF6",
              "width": 0.5
             },
             "pattern": {
              "fillmode": "overlay",
              "size": 10,
              "solidity": 0.2
             }
            },
            "type": "bar"
           }
          ],
          "barpolar": [
           {
            "marker": {
             "line": {
              "color": "#E5ECF6",
              "width": 0.5
             },
             "pattern": {
              "fillmode": "overlay",
              "size": 10,
              "solidity": 0.2
             }
            },
            "type": "barpolar"
           }
          ],
          "carpet": [
           {
            "aaxis": {
             "endlinecolor": "#2a3f5f",
             "gridcolor": "white",
             "linecolor": "white",
             "minorgridcolor": "white",
             "startlinecolor": "#2a3f5f"
            },
            "baxis": {
             "endlinecolor": "#2a3f5f",
             "gridcolor": "white",
             "linecolor": "white",
             "minorgridcolor": "white",
             "startlinecolor": "#2a3f5f"
            },
            "type": "carpet"
           }
          ],
          "choropleth": [
           {
            "colorbar": {
             "outlinewidth": 0,
             "ticks": ""
            },
            "type": "choropleth"
           }
          ],
          "contour": [
           {
            "colorbar": {
             "outlinewidth": 0,
             "ticks": ""
            },
            "colorscale": [
             [
              0,
              "#0d0887"
             ],
             [
              0.1111111111111111,
              "#46039f"
             ],
             [
              0.2222222222222222,
              "#7201a8"
             ],
             [
              0.3333333333333333,
              "#9c179e"
             ],
             [
              0.4444444444444444,
              "#bd3786"
             ],
             [
              0.5555555555555556,
              "#d8576b"
             ],
             [
              0.6666666666666666,
              "#ed7953"
             ],
             [
              0.7777777777777778,
              "#fb9f3a"
             ],
             [
              0.8888888888888888,
              "#fdca26"
             ],
             [
              1,
              "#f0f921"
             ]
            ],
            "type": "contour"
           }
          ],
          "contourcarpet": [
           {
            "colorbar": {
             "outlinewidth": 0,
             "ticks": ""
            },
            "type": "contourcarpet"
           }
          ],
          "heatmap": [
           {
            "colorbar": {
             "outlinewidth": 0,
             "ticks": ""
            },
            "colorscale": [
             [
              0,
              "#0d0887"
             ],
             [
              0.1111111111111111,
              "#46039f"
             ],
             [
              0.2222222222222222,
              "#7201a8"
             ],
             [
              0.3333333333333333,
              "#9c179e"
             ],
             [
              0.4444444444444444,
              "#bd3786"
             ],
             [
              0.5555555555555556,
              "#d8576b"
             ],
             [
              0.6666666666666666,
              "#ed7953"
             ],
             [
              0.7777777777777778,
              "#fb9f3a"
             ],
             [
              0.8888888888888888,
              "#fdca26"
             ],
             [
              1,
              "#f0f921"
             ]
            ],
            "type": "heatmap"
           }
          ],
          "heatmapgl": [
           {
            "colorbar": {
             "outlinewidth": 0,
             "ticks": ""
            },
            "colorscale": [
             [
              0,
              "#0d0887"
             ],
             [
              0.1111111111111111,
              "#46039f"
             ],
             [
              0.2222222222222222,
              "#7201a8"
             ],
             [
              0.3333333333333333,
              "#9c179e"
             ],
             [
              0.4444444444444444,
              "#bd3786"
             ],
             [
              0.5555555555555556,
              "#d8576b"
             ],
             [
              0.6666666666666666,
              "#ed7953"
             ],
             [
              0.7777777777777778,
              "#fb9f3a"
             ],
             [
              0.8888888888888888,
              "#fdca26"
             ],
             [
              1,
              "#f0f921"
             ]
            ],
            "type": "heatmapgl"
           }
          ],
          "histogram": [
           {
            "marker": {
             "pattern": {
              "fillmode": "overlay",
              "size": 10,
              "solidity": 0.2
             }
            },
            "type": "histogram"
           }
          ],
          "histogram2d": [
           {
            "colorbar": {
             "outlinewidth": 0,
             "ticks": ""
            },
            "colorscale": [
             [
              0,
              "#0d0887"
             ],
             [
              0.1111111111111111,
              "#46039f"
             ],
             [
              0.2222222222222222,
              "#7201a8"
             ],
             [
              0.3333333333333333,
              "#9c179e"
             ],
             [
              0.4444444444444444,
              "#bd3786"
             ],
             [
              0.5555555555555556,
              "#d8576b"
             ],
             [
              0.6666666666666666,
              "#ed7953"
             ],
             [
              0.7777777777777778,
              "#fb9f3a"
             ],
             [
              0.8888888888888888,
              "#fdca26"
             ],
             [
              1,
              "#f0f921"
             ]
            ],
            "type": "histogram2d"
           }
          ],
          "histogram2dcontour": [
           {
            "colorbar": {
             "outlinewidth": 0,
             "ticks": ""
            },
            "colorscale": [
             [
              0,
              "#0d0887"
             ],
             [
              0.1111111111111111,
              "#46039f"
             ],
             [
              0.2222222222222222,
              "#7201a8"
             ],
             [
              0.3333333333333333,
              "#9c179e"
             ],
             [
              0.4444444444444444,
              "#bd3786"
             ],
             [
              0.5555555555555556,
              "#d8576b"
             ],
             [
              0.6666666666666666,
              "#ed7953"
             ],
             [
              0.7777777777777778,
              "#fb9f3a"
             ],
             [
              0.8888888888888888,
              "#fdca26"
             ],
             [
              1,
              "#f0f921"
             ]
            ],
            "type": "histogram2dcontour"
           }
          ],
          "mesh3d": [
           {
            "colorbar": {
             "outlinewidth": 0,
             "ticks": ""
            },
            "type": "mesh3d"
           }
          ],
          "parcoords": [
           {
            "line": {
             "colorbar": {
              "outlinewidth": 0,
              "ticks": ""
             }
            },
            "type": "parcoords"
           }
          ],
          "pie": [
           {
            "automargin": true,
            "type": "pie"
           }
          ],
          "scatter": [
           {
            "marker": {
             "colorbar": {
              "outlinewidth": 0,
              "ticks": ""
             }
            },
            "type": "scatter"
           }
          ],
          "scatter3d": [
           {
            "line": {
             "colorbar": {
              "outlinewidth": 0,
              "ticks": ""
             }
            },
            "marker": {
             "colorbar": {
              "outlinewidth": 0,
              "ticks": ""
             }
            },
            "type": "scatter3d"
           }
          ],
          "scattercarpet": [
           {
            "marker": {
             "colorbar": {
              "outlinewidth": 0,
              "ticks": ""
             }
            },
            "type": "scattercarpet"
           }
          ],
          "scattergeo": [
           {
            "marker": {
             "colorbar": {
              "outlinewidth": 0,
              "ticks": ""
             }
            },
            "type": "scattergeo"
           }
          ],
          "scattergl": [
           {
            "marker": {
             "colorbar": {
              "outlinewidth": 0,
              "ticks": ""
             }
            },
            "type": "scattergl"
           }
          ],
          "scattermapbox": [
           {
            "marker": {
             "colorbar": {
              "outlinewidth": 0,
              "ticks": ""
             }
            },
            "type": "scattermapbox"
           }
          ],
          "scatterpolar": [
           {
            "marker": {
             "colorbar": {
              "outlinewidth": 0,
              "ticks": ""
             }
            },
            "type": "scatterpolar"
           }
          ],
          "scatterpolargl": [
           {
            "marker": {
             "colorbar": {
              "outlinewidth": 0,
              "ticks": ""
             }
            },
            "type": "scatterpolargl"
           }
          ],
          "scatterternary": [
           {
            "marker": {
             "colorbar": {
              "outlinewidth": 0,
              "ticks": ""
             }
            },
            "type": "scatterternary"
           }
          ],
          "surface": [
           {
            "colorbar": {
             "outlinewidth": 0,
             "ticks": ""
            },
            "colorscale": [
             [
              0,
              "#0d0887"
             ],
             [
              0.1111111111111111,
              "#46039f"
             ],
             [
              0.2222222222222222,
              "#7201a8"
             ],
             [
              0.3333333333333333,
              "#9c179e"
             ],
             [
              0.4444444444444444,
              "#bd3786"
             ],
             [
              0.5555555555555556,
              "#d8576b"
             ],
             [
              0.6666666666666666,
              "#ed7953"
             ],
             [
              0.7777777777777778,
              "#fb9f3a"
             ],
             [
              0.8888888888888888,
              "#fdca26"
             ],
             [
              1,
              "#f0f921"
             ]
            ],
            "type": "surface"
           }
          ],
          "table": [
           {
            "cells": {
             "fill": {
              "color": "#EBF0F8"
             },
             "line": {
              "color": "white"
             }
            },
            "header": {
             "fill": {
              "color": "#C8D4E3"
             },
             "line": {
              "color": "white"
             }
            },
            "type": "table"
           }
          ]
         },
         "layout": {
          "annotationdefaults": {
           "arrowcolor": "#2a3f5f",
           "arrowhead": 0,
           "arrowwidth": 1
          },
          "autotypenumbers": "strict",
          "coloraxis": {
           "colorbar": {
            "outlinewidth": 0,
            "ticks": ""
           }
          },
          "colorscale": {
           "diverging": [
            [
             0,
             "#8e0152"
            ],
            [
             0.1,
             "#c51b7d"
            ],
            [
             0.2,
             "#de77ae"
            ],
            [
             0.3,
             "#f1b6da"
            ],
            [
             0.4,
             "#fde0ef"
            ],
            [
             0.5,
             "#f7f7f7"
            ],
            [
             0.6,
             "#e6f5d0"
            ],
            [
             0.7,
             "#b8e186"
            ],
            [
             0.8,
             "#7fbc41"
            ],
            [
             0.9,
             "#4d9221"
            ],
            [
             1,
             "#276419"
            ]
           ],
           "sequential": [
            [
             0,
             "#0d0887"
            ],
            [
             0.1111111111111111,
             "#46039f"
            ],
            [
             0.2222222222222222,
             "#7201a8"
            ],
            [
             0.3333333333333333,
             "#9c179e"
            ],
            [
             0.4444444444444444,
             "#bd3786"
            ],
            [
             0.5555555555555556,
             "#d8576b"
            ],
            [
             0.6666666666666666,
             "#ed7953"
            ],
            [
             0.7777777777777778,
             "#fb9f3a"
            ],
            [
             0.8888888888888888,
             "#fdca26"
            ],
            [
             1,
             "#f0f921"
            ]
           ],
           "sequentialminus": [
            [
             0,
             "#0d0887"
            ],
            [
             0.1111111111111111,
             "#46039f"
            ],
            [
             0.2222222222222222,
             "#7201a8"
            ],
            [
             0.3333333333333333,
             "#9c179e"
            ],
            [
             0.4444444444444444,
             "#bd3786"
            ],
            [
             0.5555555555555556,
             "#d8576b"
            ],
            [
             0.6666666666666666,
             "#ed7953"
            ],
            [
             0.7777777777777778,
             "#fb9f3a"
            ],
            [
             0.8888888888888888,
             "#fdca26"
            ],
            [
             1,
             "#f0f921"
            ]
           ]
          },
          "colorway": [
           "#636efa",
           "#EF553B",
           "#00cc96",
           "#ab63fa",
           "#FFA15A",
           "#19d3f3",
           "#FF6692",
           "#B6E880",
           "#FF97FF",
           "#FECB52"
          ],
          "font": {
           "color": "#2a3f5f"
          },
          "geo": {
           "bgcolor": "white",
           "lakecolor": "white",
           "landcolor": "#E5ECF6",
           "showlakes": true,
           "showland": true,
           "subunitcolor": "white"
          },
          "hoverlabel": {
           "align": "left"
          },
          "hovermode": "closest",
          "mapbox": {
           "style": "light"
          },
          "paper_bgcolor": "white",
          "plot_bgcolor": "#E5ECF6",
          "polar": {
           "angularaxis": {
            "gridcolor": "white",
            "linecolor": "white",
            "ticks": ""
           },
           "bgcolor": "#E5ECF6",
           "radialaxis": {
            "gridcolor": "white",
            "linecolor": "white",
            "ticks": ""
           }
          },
          "scene": {
           "xaxis": {
            "backgroundcolor": "#E5ECF6",
            "gridcolor": "white",
            "gridwidth": 2,
            "linecolor": "white",
            "showbackground": true,
            "ticks": "",
            "zerolinecolor": "white"
           },
           "yaxis": {
            "backgroundcolor": "#E5ECF6",
            "gridcolor": "white",
            "gridwidth": 2,
            "linecolor": "white",
            "showbackground": true,
            "ticks": "",
            "zerolinecolor": "white"
           },
           "zaxis": {
            "backgroundcolor": "#E5ECF6",
            "gridcolor": "white",
            "gridwidth": 2,
            "linecolor": "white",
            "showbackground": true,
            "ticks": "",
            "zerolinecolor": "white"
           }
          },
          "shapedefaults": {
           "line": {
            "color": "#2a3f5f"
           }
          },
          "ternary": {
           "aaxis": {
            "gridcolor": "white",
            "linecolor": "white",
            "ticks": ""
           },
           "baxis": {
            "gridcolor": "white",
            "linecolor": "white",
            "ticks": ""
           },
           "bgcolor": "#E5ECF6",
           "caxis": {
            "gridcolor": "white",
            "linecolor": "white",
            "ticks": ""
           }
          },
          "title": {
           "x": 0.05
          },
          "xaxis": {
           "automargin": true,
           "gridcolor": "white",
           "linecolor": "white",
           "ticks": "",
           "title": {
            "standoff": 15
           },
           "zerolinecolor": "white",
           "zerolinewidth": 2
          },
          "yaxis": {
           "automargin": true,
           "gridcolor": "white",
           "linecolor": "white",
           "ticks": "",
           "title": {
            "standoff": 15
           },
           "zerolinecolor": "white",
           "zerolinewidth": 2
          }
         }
        },
        "xaxis": {
         "anchor": "y",
         "domain": [
          0,
          1
         ],
         "title": {
          "text": "Year"
         }
        },
        "yaxis": {
         "anchor": "x",
         "domain": [
          0,
          1
         ],
         "title": {
          "text": "value"
         }
        }
       }
      }
     },
     "metadata": {},
     "output_type": "display_data"
    }
   ],
   "source": [
    "x = data.earnings\n",
    "px.line(x)"
   ]
  },
  {
   "cell_type": "code",
   "execution_count": 15,
   "metadata": {},
   "outputs": [
    {
     "data": {
      "text/plain": [
       "[<matplotlib.lines.Line2D at 0x1bded2fc550>,\n",
       " <matplotlib.lines.Line2D at 0x1bded2fcfa0>]"
      ]
     },
     "execution_count": 15,
     "metadata": {},
     "output_type": "execute_result"
    },
    {
     "data": {
      "image/png": "[encoded data removed]",
      "text/plain": [
       "<Figure size 432x288 with 1 Axes>"
      ]
     },
     "metadata": {
      "needs_background": "light"
     },
     "output_type": "display_data"
    }
   ],
   "source": [
    "plt.plot(x)"
   ]
  },
  {
   "cell_type": "code",
   "execution_count": 16,
   "metadata": {},
   "outputs": [
    {
     "name": "stdout",
     "output_type": "stream",
     "text": [
      "        0                                      1\n",
      "0  16.32%        % of Shares Held by All Insider\n",
      "1  44.78%       % of Shares Held by Institutions\n",
      "2  53.51%        % of Float Held by Institutions\n",
      "3    3436  Number of Institutions Holding Shares\n"
     ]
    }
   ],
   "source": [
    "print(data.major_holders)"
   ]
  },
  {
   "cell_type": "code",
   "execution_count": 17,
   "metadata": {},
   "outputs": [
    {
     "data": {
      "text/html": [
       "<div>\n",
       "<style scoped>\n",
       "    .dataframe tbody tr th:only-of-type {\n",
       "        vertical-align: middle;\n",
       "    }\n",
       "\n",
       "    .dataframe tbody tr th {\n",
       "        vertical-align: top;\n",
       "    }\n",
       "\n",
       "    .dataframe thead th {\n",
       "        text-align: right;\n",
       "    }\n",
       "</style>\n",
       "<table border=\"1\" class=\"dataframe\">\n",
       "  <thead>\n",
       "    <tr style=\"text-align: right;\">\n",
       "      <th></th>\n",
       "      <th>Holder</th>\n",
       "      <th>Shares</th>\n",
       "      <th>Date Reported</th>\n",
       "      <th>% Out</th>\n",
       "      <th>Value</th>\n",
       "    </tr>\n",
       "  </thead>\n",
       "  <tbody>\n",
       "    <tr>\n",
       "      <th>0</th>\n",
       "      <td>Vanguard Group, Inc. (The)</td>\n",
       "      <td>213024517</td>\n",
       "      <td>2022-09-29</td>\n",
       "      <td>0.0675</td>\n",
       "      <td>38384888238</td>\n",
       "    </tr>\n",
       "    <tr>\n",
       "      <th>1</th>\n",
       "      <td>Blackrock Inc.</td>\n",
       "      <td>171860959</td>\n",
       "      <td>2022-09-29</td>\n",
       "      <td>0.0544</td>\n",
       "      <td>30967626621</td>\n",
       "    </tr>\n",
       "    <tr>\n",
       "      <th>2</th>\n",
       "      <td>State Street Corporation</td>\n",
       "      <td>99647239</td>\n",
       "      <td>2022-09-29</td>\n",
       "      <td>0.0316</td>\n",
       "      <td>17955436238</td>\n",
       "    </tr>\n",
       "    <tr>\n",
       "      <th>3</th>\n",
       "      <td>Capital World Investors</td>\n",
       "      <td>90161776</td>\n",
       "      <td>2022-09-29</td>\n",
       "      <td>0.0286</td>\n",
       "      <td>16246250637</td>\n",
       "    </tr>\n",
       "    <tr>\n",
       "      <th>4</th>\n",
       "      <td>Geode Capital Management, LLC</td>\n",
       "      <td>47495728</td>\n",
       "      <td>2022-09-29</td>\n",
       "      <td>0.0150</td>\n",
       "      <td>8558255344</td>\n",
       "    </tr>\n",
       "    <tr>\n",
       "      <th>5</th>\n",
       "      <td>Price (T.Rowe) Associates Inc</td>\n",
       "      <td>46956884</td>\n",
       "      <td>2022-09-29</td>\n",
       "      <td>0.0149</td>\n",
       "      <td>8461161042</td>\n",
       "    </tr>\n",
       "    <tr>\n",
       "      <th>6</th>\n",
       "      <td>FMR, LLC</td>\n",
       "      <td>38428902</td>\n",
       "      <td>2022-09-29</td>\n",
       "      <td>0.0122</td>\n",
       "      <td>6924503945</td>\n",
       "    </tr>\n",
       "    <tr>\n",
       "      <th>7</th>\n",
       "      <td>Jennison Associates LLC</td>\n",
       "      <td>29557607</td>\n",
       "      <td>2022-09-29</td>\n",
       "      <td>0.0094</td>\n",
       "      <td>5325985277</td>\n",
       "    </tr>\n",
       "    <tr>\n",
       "      <th>8</th>\n",
       "      <td>Baillie Gifford and Company</td>\n",
       "      <td>27876833</td>\n",
       "      <td>2022-09-29</td>\n",
       "      <td>0.0088</td>\n",
       "      <td>5023126606</td>\n",
       "    </tr>\n",
       "    <tr>\n",
       "      <th>9</th>\n",
       "      <td>Northern Trust Corporation</td>\n",
       "      <td>26602278</td>\n",
       "      <td>2022-09-29</td>\n",
       "      <td>0.0084</td>\n",
       "      <td>4793464537</td>\n",
       "    </tr>\n",
       "  </tbody>\n",
       "</table>\n",
       "</div>"
      ],
      "text/plain": [
       "                          Holder     Shares Date Reported   % Out        Value\n",
       "0     Vanguard Group, Inc. (The)  213024517    2022-09-29  0.0675  38384888238\n",
       "1                 Blackrock Inc.  171860959    2022-09-29  0.0544  30967626621\n",
       "2       State Street Corporation   99647239    2022-09-29  0.0316  17955436238\n",
       "3        Capital World Investors   90161776    2022-09-29  0.0286  16246250637\n",
       "4  Geode Capital Management, LLC   47495728    2022-09-29  0.0150   8558255344\n",
       "5  Price (T.Rowe) Associates Inc   46956884    2022-09-29  0.0149   8461161042\n",
       "6                       FMR, LLC   38428902    2022-09-29  0.0122   6924503945\n",
       "7        Jennison Associates LLC   29557607    2022-09-29  0.0094   5325985277\n",
       "8    Baillie Gifford and Company   27876833    2022-09-29  0.0088   5023126606\n",
       "9     Northern Trust Corporation   26602278    2022-09-29  0.0084   4793464537"
      ]
     },
     "execution_count": 17,
     "metadata": {},
     "output_type": "execute_result"
    }
   ],
   "source": [
    "data.institutional_holders"
   ]
  },
  {
   "cell_type": "code",
   "execution_count": 19,
   "metadata": {},
   "outputs": [
    {
     "data": {
      "text/html": [
       "<div>\n",
       "<style scoped>\n",
       "    .dataframe tbody tr th:only-of-type {\n",
       "        vertical-align: middle;\n",
       "    }\n",
       "\n",
       "    .dataframe tbody tr th {\n",
       "        vertical-align: top;\n",
       "    }\n",
       "\n",
       "    .dataframe thead th {\n",
       "        text-align: right;\n",
       "    }\n",
       "</style>\n",
       "<table border=\"1\" class=\"dataframe\">\n",
       "  <thead>\n",
       "    <tr style=\"text-align: right;\">\n",
       "      <th></th>\n",
       "      <th>2021-12-31</th>\n",
       "      <th>2020-12-31</th>\n",
       "      <th>2019-12-31</th>\n",
       "      <th>2018-12-31</th>\n",
       "    </tr>\n",
       "  </thead>\n",
       "  <tbody>\n",
       "    <tr>\n",
       "      <th>Investments</th>\n",
       "      <td>-1.320000e+08</td>\n",
       "      <td>-1.320000e+08</td>\n",
       "      <td>-1.320000e+08</td>\n",
       "      <td>-1.320000e+08</td>\n",
       "    </tr>\n",
       "    <tr>\n",
       "      <th>Change To Liabilities</th>\n",
       "      <td>5.371000e+09</td>\n",
       "      <td>2.423000e+09</td>\n",
       "      <td>1.447000e+09</td>\n",
       "      <td>2.203000e+09</td>\n",
       "    </tr>\n",
       "    <tr>\n",
       "      <th>Total Cashflows From Investing Activities</th>\n",
       "      <td>-7.868000e+09</td>\n",
       "      <td>-3.132000e+09</td>\n",
       "      <td>-1.436000e+09</td>\n",
       "      <td>-2.337000e+09</td>\n",
       "    </tr>\n",
       "    <tr>\n",
       "      <th>Net Borrowings</th>\n",
       "      <td>-5.732000e+09</td>\n",
       "      <td>-2.488000e+09</td>\n",
       "      <td>7.980000e+08</td>\n",
       "      <td>8.900000e+07</td>\n",
       "    </tr>\n",
       "    <tr>\n",
       "      <th>Total Cash From Financing Activities</th>\n",
       "      <td>-5.203000e+09</td>\n",
       "      <td>9.973000e+09</td>\n",
       "      <td>1.529000e+09</td>\n",
       "      <td>5.740000e+08</td>\n",
       "    </tr>\n",
       "    <tr>\n",
       "      <th>Change To Operating Activities</th>\n",
       "      <td>-3.014000e+09</td>\n",
       "      <td>-1.165000e+09</td>\n",
       "      <td>-1.000000e+09</td>\n",
       "      <td>-6.250000e+08</td>\n",
       "    </tr>\n",
       "    <tr>\n",
       "      <th>Issuance Of Stock</th>\n",
       "      <td>7.070000e+08</td>\n",
       "      <td>1.268600e+10</td>\n",
       "      <td>1.111000e+09</td>\n",
       "      <td>2.960000e+08</td>\n",
       "    </tr>\n",
       "    <tr>\n",
       "      <th>Net Income</th>\n",
       "      <td>5.519000e+09</td>\n",
       "      <td>7.210000e+08</td>\n",
       "      <td>-8.620000e+08</td>\n",
       "      <td>-9.760000e+08</td>\n",
       "    </tr>\n",
       "    <tr>\n",
       "      <th>Change In Cash</th>\n",
       "      <td>-1.757000e+09</td>\n",
       "      <td>1.311800e+10</td>\n",
       "      <td>2.506000e+09</td>\n",
       "      <td>3.120000e+08</td>\n",
       "    </tr>\n",
       "    <tr>\n",
       "      <th>Effect Of Exchange Rate</th>\n",
       "      <td>-1.830000e+08</td>\n",
       "      <td>3.340000e+08</td>\n",
       "      <td>8.000000e+06</td>\n",
       "      <td>-2.300000e+07</td>\n",
       "    </tr>\n",
       "    <tr>\n",
       "      <th>Total Cash From Operating Activities</th>\n",
       "      <td>1.149700e+10</td>\n",
       "      <td>5.943000e+09</td>\n",
       "      <td>2.405000e+09</td>\n",
       "      <td>2.098000e+09</td>\n",
       "    </tr>\n",
       "    <tr>\n",
       "      <th>Depreciation</th>\n",
       "      <td>2.810000e+09</td>\n",
       "      <td>2.322000e+09</td>\n",
       "      <td>2.092000e+09</td>\n",
       "      <td>1.888000e+09</td>\n",
       "    </tr>\n",
       "    <tr>\n",
       "      <th>Other Cashflows From Investing Activities</th>\n",
       "      <td>-1.222000e+09</td>\n",
       "      <td>1.230000e+08</td>\n",
       "      <td>4.600000e+07</td>\n",
       "      <td>4.600000e+07</td>\n",
       "    </tr>\n",
       "    <tr>\n",
       "      <th>Change To Inventory</th>\n",
       "      <td>-1.709000e+09</td>\n",
       "      <td>-4.220000e+08</td>\n",
       "      <td>-4.290000e+08</td>\n",
       "      <td>-1.023000e+09</td>\n",
       "    </tr>\n",
       "    <tr>\n",
       "      <th>Change To Account Receivables</th>\n",
       "      <td>-1.300000e+08</td>\n",
       "      <td>-6.520000e+08</td>\n",
       "      <td>-3.670000e+08</td>\n",
       "      <td>-4.970000e+08</td>\n",
       "    </tr>\n",
       "    <tr>\n",
       "      <th>Other Cashflows From Financing Activities</th>\n",
       "      <td>-1.780000e+08</td>\n",
       "      <td>-2.250000e+08</td>\n",
       "      <td>-3.800000e+08</td>\n",
       "      <td>1.890000e+08</td>\n",
       "    </tr>\n",
       "    <tr>\n",
       "      <th>Change To Netincome</th>\n",
       "      <td>2.650000e+09</td>\n",
       "      <td>2.716000e+09</td>\n",
       "      <td>1.524000e+09</td>\n",
       "      <td>9.690000e+08</td>\n",
       "    </tr>\n",
       "    <tr>\n",
       "      <th>Capital Expenditures</th>\n",
       "      <td>-6.514000e+09</td>\n",
       "      <td>-3.232000e+09</td>\n",
       "      <td>-1.432000e+09</td>\n",
       "      <td>-2.319000e+09</td>\n",
       "    </tr>\n",
       "  </tbody>\n",
       "</table>\n",
       "</div>"
      ],
      "text/plain": [
       "                                             2021-12-31    2020-12-31  \\\n",
       "Investments                               -1.320000e+08 -1.320000e+08   \n",
       "Change To Liabilities                      5.371000e+09  2.423000e+09   \n",
       "Total Cashflows From Investing Activities -7.868000e+09 -3.132000e+09   \n",
       "Net Borrowings                            -5.732000e+09 -2.488000e+09   \n",
       "Total Cash From Financing Activities      -5.203000e+09  9.973000e+09   \n",
       "Change To Operating Activities            -3.014000e+09 -1.165000e+09   \n",
       "Issuance Of Stock                          7.070000e+08  1.268600e+10   \n",
       "Net Income                                 5.519000e+09  7.210000e+08   \n",
       "Change In Cash                            -1.757000e+09  1.311800e+10   \n",
       "Effect Of Exchange Rate                   -1.830000e+08  3.340000e+08   \n",
       "Total Cash From Operating Activities       1.149700e+10  5.943000e+09   \n",
       "Depreciation                               2.810000e+09  2.322000e+09   \n",
       "Other Cashflows From Investing Activities -1.222000e+09  1.230000e+08   \n",
       "Change To Inventory                       -1.709000e+09 -4.220000e+08   \n",
       "Change To Account Receivables             -1.300000e+08 -6.520000e+08   \n",
       "Other Cashflows From Financing Activities -1.780000e+08 -2.250000e+08   \n",
       "Change To Netincome                        2.650000e+09  2.716000e+09   \n",
       "Capital Expenditures                      -6.514000e+09 -3.232000e+09   \n",
       "\n",
       "                                             2019-12-31    2018-12-31  \n",
       "Investments                               -1.320000e+08 -1.320000e+08  \n",
       "Change To Liabilities                      1.447000e+09  2.203000e+09  \n",
       "Total Cashflows From Investing Activities -1.436000e+09 -2.337000e+09  \n",
       "Net Borrowings                             7.980000e+08  8.900000e+07  \n",
       "Total Cash From Financing Activities       1.529000e+09  5.740000e+08  \n",
       "Change To Operating Activities            -1.000000e+09 -6.250000e+08  \n",
       "Issuance Of Stock                          1.111000e+09  2.960000e+08  \n",
       "Net Income                                -8.620000e+08 -9.760000e+08  \n",
       "Change In Cash                             2.506000e+09  3.120000e+08  \n",
       "Effect Of Exchange Rate                    8.000000e+06 -2.300000e+07  \n",
       "Total Cash From Operating Activities       2.405000e+09  2.098000e+09  \n",
       "Depreciation                               2.092000e+09  1.888000e+09  \n",
       "Other Cashflows From Investing Activities  4.600000e+07  4.600000e+07  \n",
       "Change To Inventory                       -4.290000e+08 -1.023000e+09  \n",
       "Change To Account Receivables             -3.670000e+08 -4.970000e+08  \n",
       "Other Cashflows From Financing Activities -3.800000e+08  1.890000e+08  \n",
       "Change To Netincome                        1.524000e+09  9.690000e+08  \n",
       "Capital Expenditures                      -1.432000e+09 -2.319000e+09  "
      ]
     },
     "execution_count": 19,
     "metadata": {},
     "output_type": "execute_result"
    }
   ],
   "source": [
    "data.cashflow"
   ]
  },
  {
   "cell_type": "code",
   "execution_count": 28,
   "metadata": {},
   "outputs": [],
   "source": [
    "data_cencosud = yf.Ticker('CENCOSUD.SN')"
   ]
  },
  {
   "cell_type": "code",
   "execution_count": 21,
   "metadata": {},
   "outputs": [
    {
     "data": {
      "text/html": [
       "<div>\n",
       "<style scoped>\n",
       "    .dataframe tbody tr th:only-of-type {\n",
       "        vertical-align: middle;\n",
       "    }\n",
       "\n",
       "    .dataframe tbody tr th {\n",
       "        vertical-align: top;\n",
       "    }\n",
       "\n",
       "    .dataframe thead th {\n",
       "        text-align: right;\n",
       "    }\n",
       "</style>\n",
       "<table border=\"1\" class=\"dataframe\">\n",
       "  <thead>\n",
       "    <tr style=\"text-align: right;\">\n",
       "      <th></th>\n",
       "      <th>2021-12-31</th>\n",
       "      <th>2020-12-31</th>\n",
       "      <th>2019-12-31</th>\n",
       "      <th>2018-12-31</th>\n",
       "    </tr>\n",
       "  </thead>\n",
       "  <tbody>\n",
       "    <tr>\n",
       "      <th>Change To Liabilities</th>\n",
       "      <td>0.000000e+00</td>\n",
       "      <td>0.000000e+00</td>\n",
       "      <td>0.000000e+00</td>\n",
       "      <td>0.000000e+00</td>\n",
       "    </tr>\n",
       "    <tr>\n",
       "      <th>Total Cashflows From Investing Activities</th>\n",
       "      <td>-1.277120e+11</td>\n",
       "      <td>-3.514789e+11</td>\n",
       "      <td>5.706851e+11</td>\n",
       "      <td>-2.574715e+11</td>\n",
       "    </tr>\n",
       "    <tr>\n",
       "      <th>Net Borrowings</th>\n",
       "      <td>-1.674567e+11</td>\n",
       "      <td>-9.140228e+11</td>\n",
       "      <td>-5.109452e+11</td>\n",
       "      <td>9.126356e+10</td>\n",
       "    </tr>\n",
       "    <tr>\n",
       "      <th>Total Cash From Financing Activities</th>\n",
       "      <td>-1.029320e+12</td>\n",
       "      <td>-1.161169e+12</td>\n",
       "      <td>-6.074145e+11</td>\n",
       "      <td>-2.155145e+11</td>\n",
       "    </tr>\n",
       "    <tr>\n",
       "      <th>Net Income</th>\n",
       "      <td>4.719102e+11</td>\n",
       "      <td>2.293061e+10</td>\n",
       "      <td>1.141096e+11</td>\n",
       "      <td>1.912852e+11</td>\n",
       "    </tr>\n",
       "    <tr>\n",
       "      <th>Change In Cash</th>\n",
       "      <td>1.247778e+11</td>\n",
       "      <td>-3.856316e+11</td>\n",
       "      <td>7.467396e+11</td>\n",
       "      <td>6.683716e+10</td>\n",
       "    </tr>\n",
       "    <tr>\n",
       "      <th>Repurchase Of Stock</th>\n",
       "      <td>-4.176576e+10</td>\n",
       "      <td>-4.176576e+10</td>\n",
       "      <td>-9.805715e+09</td>\n",
       "      <td>-9.805715e+09</td>\n",
       "    </tr>\n",
       "    <tr>\n",
       "      <th>Effect Of Exchange Rate</th>\n",
       "      <td>6.212932e+10</td>\n",
       "      <td>-2.025969e+10</td>\n",
       "      <td>1.922419e+10</td>\n",
       "      <td>-1.825501e+09</td>\n",
       "    </tr>\n",
       "    <tr>\n",
       "      <th>Total Cash From Operating Activities</th>\n",
       "      <td>1.219681e+12</td>\n",
       "      <td>1.147276e+12</td>\n",
       "      <td>7.642448e+11</td>\n",
       "      <td>5.416487e+11</td>\n",
       "    </tr>\n",
       "    <tr>\n",
       "      <th>Depreciation</th>\n",
       "      <td>2.503540e+11</td>\n",
       "      <td>3.427662e+11</td>\n",
       "      <td>2.855472e+11</td>\n",
       "      <td>1.773089e+11</td>\n",
       "    </tr>\n",
       "    <tr>\n",
       "      <th>Other Cashflows From Investing Activities</th>\n",
       "      <td>7.847446e+10</td>\n",
       "      <td>-2.944102e+11</td>\n",
       "      <td>6.534630e+11</td>\n",
       "      <td>-6.290608e+10</td>\n",
       "    </tr>\n",
       "    <tr>\n",
       "      <th>Dividends Paid</th>\n",
       "      <td>-2.779075e+11</td>\n",
       "      <td>-9.136014e+10</td>\n",
       "      <td>-2.863129e+10</td>\n",
       "      <td>-7.158207e+10</td>\n",
       "    </tr>\n",
       "    <tr>\n",
       "      <th>Other Cashflows From Financing Activities</th>\n",
       "      <td>-1.179744e+11</td>\n",
       "      <td>-1.557865e+11</td>\n",
       "      <td>-5.803236e+10</td>\n",
       "      <td>-2.351960e+11</td>\n",
       "    </tr>\n",
       "    <tr>\n",
       "      <th>Change To Netincome</th>\n",
       "      <td>4.689295e+11</td>\n",
       "      <td>7.507431e+11</td>\n",
       "      <td>3.323907e+11</td>\n",
       "      <td>1.357796e+11</td>\n",
       "    </tr>\n",
       "    <tr>\n",
       "      <th>Capital Expenditures</th>\n",
       "      <td>-1.796257e+11</td>\n",
       "      <td>-4.977471e+10</td>\n",
       "      <td>-1.529842e+11</td>\n",
       "      <td>-1.742567e+11</td>\n",
       "    </tr>\n",
       "  </tbody>\n",
       "</table>\n",
       "</div>"
      ],
      "text/plain": [
       "                                             2021-12-31    2020-12-31  \\\n",
       "Change To Liabilities                      0.000000e+00  0.000000e+00   \n",
       "Total Cashflows From Investing Activities -1.277120e+11 -3.514789e+11   \n",
       "Net Borrowings                            -1.674567e+11 -9.140228e+11   \n",
       "Total Cash From Financing Activities      -1.029320e+12 -1.161169e+12   \n",
       "Net Income                                 4.719102e+11  2.293061e+10   \n",
       "Change In Cash                             1.247778e+11 -3.856316e+11   \n",
       "Repurchase Of Stock                       -4.176576e+10 -4.176576e+10   \n",
       "Effect Of Exchange Rate                    6.212932e+10 -2.025969e+10   \n",
       "Total Cash From Operating Activities       1.219681e+12  1.147276e+12   \n",
       "Depreciation                               2.503540e+11  3.427662e+11   \n",
       "Other Cashflows From Investing Activities  7.847446e+10 -2.944102e+11   \n",
       "Dividends Paid                            -2.779075e+11 -9.136014e+10   \n",
       "Other Cashflows From Financing Activities -1.179744e+11 -1.557865e+11   \n",
       "Change To Netincome                        4.689295e+11  7.507431e+11   \n",
       "Capital Expenditures                      -1.796257e+11 -4.977471e+10   \n",
       "\n",
       "                                             2019-12-31    2018-12-31  \n",
       "Change To Liabilities                      0.000000e+00  0.000000e+00  \n",
       "Total Cashflows From Investing Activities  5.706851e+11 -2.574715e+11  \n",
       "Net Borrowings                            -5.109452e+11  9.126356e+10  \n",
       "Total Cash From Financing Activities      -6.074145e+11 -2.155145e+11  \n",
       "Net Income                                 1.141096e+11  1.912852e+11  \n",
       "Change In Cash                             7.467396e+11  6.683716e+10  \n",
       "Repurchase Of Stock                       -9.805715e+09 -9.805715e+09  \n",
       "Effect Of Exchange Rate                    1.922419e+10 -1.825501e+09  \n",
       "Total Cash From Operating Activities       7.642448e+11  5.416487e+11  \n",
       "Depreciation                               2.855472e+11  1.773089e+11  \n",
       "Other Cashflows From Investing Activities  6.534630e+11 -6.290608e+10  \n",
       "Dividends Paid                            -2.863129e+10 -7.158207e+10  \n",
       "Other Cashflows From Financing Activities -5.803236e+10 -2.351960e+11  \n",
       "Change To Netincome                        3.323907e+11  1.357796e+11  \n",
       "Capital Expenditures                      -1.529842e+11 -1.742567e+11  "
      ]
     },
     "execution_count": 21,
     "metadata": {},
     "output_type": "execute_result"
    }
   ],
   "source": [
    "data_cencosud.cashflow"
   ]
  },
  {
   "cell_type": "code",
   "execution_count": 22,
   "metadata": {},
   "outputs": [
    {
     "data": {
      "text/plain": [
       "<AxesSubplot:xlabel='Year'>"
      ]
     },
     "execution_count": 22,
     "metadata": {},
     "output_type": "execute_result"
    },
    {
     "data": {
      "image/png": "[encoded data removed]",
      "text/plain": [
       "<Figure size 432x288 with 1 Axes>"
      ]
     },
     "metadata": {
      "needs_background": "light"
     },
     "output_type": "display_data"
    }
   ],
   "source": [
    "data_cencosud.earnings.plot(kind='bar')"
   ]
  },
  {
   "cell_type": "code",
   "execution_count": 35,
   "metadata": {},
   "outputs": [],
   "source": [
    "data_cencosud.institutional_holders"
   ]
  },
  {
   "cell_type": "code",
   "execution_count": 36,
   "metadata": {},
   "outputs": [
    {
     "data": {
      "text/html": [
       "<div>\n",
       "<style scoped>\n",
       "    .dataframe tbody tr th:only-of-type {\n",
       "        vertical-align: middle;\n",
       "    }\n",
       "\n",
       "    .dataframe tbody tr th {\n",
       "        vertical-align: top;\n",
       "    }\n",
       "\n",
       "    .dataframe thead th {\n",
       "        text-align: right;\n",
       "    }\n",
       "</style>\n",
       "<table border=\"1\" class=\"dataframe\">\n",
       "  <thead>\n",
       "    <tr style=\"text-align: right;\">\n",
       "      <th></th>\n",
       "      <th>0</th>\n",
       "      <th>1</th>\n",
       "    </tr>\n",
       "  </thead>\n",
       "  <tbody>\n",
       "    <tr>\n",
       "      <th>0</th>\n",
       "      <td>2.51%</td>\n",
       "      <td>% of Shares Held by All Insider</td>\n",
       "    </tr>\n",
       "    <tr>\n",
       "      <th>1</th>\n",
       "      <td>32.17%</td>\n",
       "      <td>% of Shares Held by Institutions</td>\n",
       "    </tr>\n",
       "    <tr>\n",
       "      <th>2</th>\n",
       "      <td>33.00%</td>\n",
       "      <td>% of Float Held by Institutions</td>\n",
       "    </tr>\n",
       "    <tr>\n",
       "      <th>3</th>\n",
       "      <td>193</td>\n",
       "      <td>Number of Institutions Holding Shares</td>\n",
       "    </tr>\n",
       "  </tbody>\n",
       "</table>\n",
       "</div>"
      ],
      "text/plain": [
       "        0                                      1\n",
       "0   2.51%        % of Shares Held by All Insider\n",
       "1  32.17%       % of Shares Held by Institutions\n",
       "2  33.00%        % of Float Held by Institutions\n",
       "3     193  Number of Institutions Holding Shares"
      ]
     },
     "execution_count": 36,
     "metadata": {},
     "output_type": "execute_result"
    }
   ],
   "source": [
    "data_cencosud.major_holders"
   ]
  },
  {
   "cell_type": "code",
   "execution_count": 37,
   "metadata": {},
   "outputs": [
    {
     "name": "stdout",
     "output_type": "stream",
     "text": [
      "                                  Firm      To Grade From Grade Action\n",
      "Date                                                                  \n",
      "2021-06-14 13:55:22  Canaccord Genuity           Buy              main\n",
      "2021-06-29 11:29:11                UBS       Neutral              main\n",
      "2021-07-07 14:52:52          JP Morgan   Underweight              main\n",
      "2021-07-27 10:54:46             Mizuho           Buy              main\n",
      "2021-07-27 11:48:23        Wells Fargo  Equal-Weight              main\n",
      "...                                ...           ...        ...    ...\n",
      "2022-10-20 10:51:48        RBC Capital    Outperform              main\n",
      "2022-10-20 11:34:48            Wedbush    Outperform              main\n",
      "2022-10-20 11:46:08      Deutsche Bank           Buy              main\n",
      "2022-10-20 13:26:44             Mizuho           Buy              main\n",
      "2022-10-25 12:50:21     Morgan Stanley    Overweight              main\n",
      "\n",
      "[104 rows x 4 columns]\n"
     ]
    }
   ],
   "source": [
    "x = data.recommendations\n",
    "x = x[x.index > '2021-06-01']\n",
    "print(x)"
   ]
  },
  {
   "cell_type": "markdown",
   "metadata": {},
   "source": [
    "# create a function that will take a ticker as its parameter, and output the ROE value for that ticker."
   ]
  },
  {
   "cell_type": "code",
   "execution_count": 38,
   "metadata": {},
   "outputs": [],
   "source": [
    "def ROE(ticker):\n",
    "    data = yf.Ticker(ticker)\n",
    "    roe = data.info['returnOnEquity']\n",
    "    name = data.info['shortName']\n",
    "    print(name, ':', roe)"
   ]
  },
  {
   "cell_type": "code",
   "execution_count": 39,
   "metadata": {},
   "outputs": [
    {
     "name": "stdout",
     "output_type": "stream",
     "text": [
      "Apple Inc. : 1.75459\n",
      "CENCOSUD SA : 0.087510005\n"
     ]
    }
   ],
   "source": [
    "ROE('AAPL')\n",
    "#ROE('TSLA')\n",
    "ROE('CENCOSUD.SN')"
   ]
  },
  {
   "cell_type": "code",
   "execution_count": null,
   "metadata": {},
   "outputs": [
    {
     "name": "stdout",
     "output_type": "stream",
     "text": [
      "                  Open        High         Low       Close    Volume  \\\n",
      "Date                                                                   \n",
      "2021-08-05  716.000000  720.950012  711.409973  714.630005  12919600   \n",
      "2021-08-06  711.900024  716.330017  697.630005  699.099976  15576200   \n",
      "2021-08-09  710.169983  719.030029  705.130005  713.760010  14715300   \n",
      "2021-08-10  713.989990  716.590027  701.880005  709.989990  13432300   \n",
      "2021-08-11  712.710022  715.179993  704.210022  707.820007   9800600   \n",
      "...                ...         ...         ...         ...       ...   \n",
      "2022-01-31  872.710022  937.989990  862.049988  936.719971  34812000   \n",
      "2022-02-01  935.210022  943.700012  905.000000  931.250000  24379400   \n",
      "2022-02-02  928.179993  931.500000  889.409973  905.659973  22264300   \n",
      "2022-02-03  882.000000  937.000000  880.520020  891.140015  26285200   \n",
      "2022-02-04  897.219971  936.500000  881.169983  923.320007  24472600   \n",
      "\n",
      "            Dividends  Stock Splits  \n",
      "Date                                 \n",
      "2021-08-05          0             0  \n",
      "2021-08-06          0             0  \n",
      "2021-08-09          0             0  \n",
      "2021-08-10          0             0  \n",
      "2021-08-11          0             0  \n",
      "...               ...           ...  \n",
      "2022-01-31          0             0  \n",
      "2022-02-01          0             0  \n",
      "2022-02-02          0             0  \n",
      "2022-02-03          0             0  \n",
      "2022-02-04          0             0  \n",
      "\n",
      "[128 rows x 7 columns]\n"
     ]
    }
   ],
   "source": [
    "print(data.history(period='6mo'))\n",
    "# Valid periods: 1d, 5d, 1mo, 3mo, 6mo, 1y, 2y, 5y, 10y, ytd, max. "
   ]
  },
  {
   "cell_type": "code",
   "execution_count": null,
   "metadata": {},
   "outputs": [
    {
     "data": {
      "text/html": [
       "<div>\n",
       "<style scoped>\n",
       "    .dataframe tbody tr th:only-of-type {\n",
       "        vertical-align: middle;\n",
       "    }\n",
       "\n",
       "    .dataframe tbody tr th {\n",
       "        vertical-align: top;\n",
       "    }\n",
       "\n",
       "    .dataframe thead th {\n",
       "        text-align: right;\n",
       "    }\n",
       "</style>\n",
       "<table border=\"1\" class=\"dataframe\">\n",
       "  <thead>\n",
       "    <tr style=\"text-align: right;\">\n",
       "      <th></th>\n",
       "      <th>Open</th>\n",
       "      <th>High</th>\n",
       "      <th>Low</th>\n",
       "      <th>Close</th>\n",
       "      <th>Volume</th>\n",
       "      <th>Dividends</th>\n",
       "      <th>Stock Splits</th>\n",
       "    </tr>\n",
       "    <tr>\n",
       "      <th>Date</th>\n",
       "      <th></th>\n",
       "      <th></th>\n",
       "      <th></th>\n",
       "      <th></th>\n",
       "      <th></th>\n",
       "      <th></th>\n",
       "      <th></th>\n",
       "    </tr>\n",
       "  </thead>\n",
       "  <tbody>\n",
       "    <tr>\n",
       "      <th>2021-01-04</th>\n",
       "      <td>719.460022</td>\n",
       "      <td>744.489990</td>\n",
       "      <td>717.190002</td>\n",
       "      <td>729.770020</td>\n",
       "      <td>48638200</td>\n",
       "      <td>0</td>\n",
       "      <td>0</td>\n",
       "    </tr>\n",
       "    <tr>\n",
       "      <th>2021-01-05</th>\n",
       "      <td>723.659973</td>\n",
       "      <td>740.840027</td>\n",
       "      <td>719.200012</td>\n",
       "      <td>735.109985</td>\n",
       "      <td>32245200</td>\n",
       "      <td>0</td>\n",
       "      <td>0</td>\n",
       "    </tr>\n",
       "    <tr>\n",
       "      <th>2021-01-06</th>\n",
       "      <td>758.489990</td>\n",
       "      <td>774.000000</td>\n",
       "      <td>749.099976</td>\n",
       "      <td>755.979980</td>\n",
       "      <td>44700000</td>\n",
       "      <td>0</td>\n",
       "      <td>0</td>\n",
       "    </tr>\n",
       "    <tr>\n",
       "      <th>2021-01-07</th>\n",
       "      <td>777.630005</td>\n",
       "      <td>816.989990</td>\n",
       "      <td>775.200012</td>\n",
       "      <td>816.039978</td>\n",
       "      <td>51498900</td>\n",
       "      <td>0</td>\n",
       "      <td>0</td>\n",
       "    </tr>\n",
       "    <tr>\n",
       "      <th>2021-01-08</th>\n",
       "      <td>856.000000</td>\n",
       "      <td>884.489990</td>\n",
       "      <td>838.390015</td>\n",
       "      <td>880.020020</td>\n",
       "      <td>75055500</td>\n",
       "      <td>0</td>\n",
       "      <td>0</td>\n",
       "    </tr>\n",
       "    <tr>\n",
       "      <th>2021-01-11</th>\n",
       "      <td>849.400024</td>\n",
       "      <td>854.429993</td>\n",
       "      <td>803.619995</td>\n",
       "      <td>811.190002</td>\n",
       "      <td>59301600</td>\n",
       "      <td>0</td>\n",
       "      <td>0</td>\n",
       "    </tr>\n",
       "    <tr>\n",
       "      <th>2021-01-12</th>\n",
       "      <td>831.000000</td>\n",
       "      <td>868.000000</td>\n",
       "      <td>827.340027</td>\n",
       "      <td>849.440002</td>\n",
       "      <td>46270700</td>\n",
       "      <td>0</td>\n",
       "      <td>0</td>\n",
       "    </tr>\n",
       "    <tr>\n",
       "      <th>2021-01-13</th>\n",
       "      <td>852.760010</td>\n",
       "      <td>860.469971</td>\n",
       "      <td>832.000000</td>\n",
       "      <td>854.409973</td>\n",
       "      <td>33312500</td>\n",
       "      <td>0</td>\n",
       "      <td>0</td>\n",
       "    </tr>\n",
       "    <tr>\n",
       "      <th>2021-01-14</th>\n",
       "      <td>843.390015</td>\n",
       "      <td>863.000000</td>\n",
       "      <td>838.750000</td>\n",
       "      <td>845.000000</td>\n",
       "      <td>31266300</td>\n",
       "      <td>0</td>\n",
       "      <td>0</td>\n",
       "    </tr>\n",
       "    <tr>\n",
       "      <th>2021-01-15</th>\n",
       "      <td>852.000000</td>\n",
       "      <td>859.900024</td>\n",
       "      <td>819.099976</td>\n",
       "      <td>826.159973</td>\n",
       "      <td>38777600</td>\n",
       "      <td>0</td>\n",
       "      <td>0</td>\n",
       "    </tr>\n",
       "    <tr>\n",
       "      <th>2021-01-19</th>\n",
       "      <td>837.799988</td>\n",
       "      <td>850.000000</td>\n",
       "      <td>833.000000</td>\n",
       "      <td>844.549988</td>\n",
       "      <td>25367000</td>\n",
       "      <td>0</td>\n",
       "      <td>0</td>\n",
       "    </tr>\n",
       "    <tr>\n",
       "      <th>2021-01-20</th>\n",
       "      <td>858.739990</td>\n",
       "      <td>859.500000</td>\n",
       "      <td>837.280029</td>\n",
       "      <td>850.450012</td>\n",
       "      <td>25665900</td>\n",
       "      <td>0</td>\n",
       "      <td>0</td>\n",
       "    </tr>\n",
       "    <tr>\n",
       "      <th>2021-01-21</th>\n",
       "      <td>855.000000</td>\n",
       "      <td>855.719971</td>\n",
       "      <td>841.419983</td>\n",
       "      <td>844.989990</td>\n",
       "      <td>20521100</td>\n",
       "      <td>0</td>\n",
       "      <td>0</td>\n",
       "    </tr>\n",
       "    <tr>\n",
       "      <th>2021-01-22</th>\n",
       "      <td>834.309998</td>\n",
       "      <td>848.000000</td>\n",
       "      <td>828.619995</td>\n",
       "      <td>846.640015</td>\n",
       "      <td>20066500</td>\n",
       "      <td>0</td>\n",
       "      <td>0</td>\n",
       "    </tr>\n",
       "    <tr>\n",
       "      <th>2021-01-25</th>\n",
       "      <td>855.000000</td>\n",
       "      <td>900.400024</td>\n",
       "      <td>838.820007</td>\n",
       "      <td>880.799988</td>\n",
       "      <td>41173400</td>\n",
       "      <td>0</td>\n",
       "      <td>0</td>\n",
       "    </tr>\n",
       "    <tr>\n",
       "      <th>2021-01-26</th>\n",
       "      <td>891.380005</td>\n",
       "      <td>895.900024</td>\n",
       "      <td>871.599976</td>\n",
       "      <td>883.090027</td>\n",
       "      <td>23131600</td>\n",
       "      <td>0</td>\n",
       "      <td>0</td>\n",
       "    </tr>\n",
       "    <tr>\n",
       "      <th>2021-01-27</th>\n",
       "      <td>870.349976</td>\n",
       "      <td>891.500000</td>\n",
       "      <td>858.659973</td>\n",
       "      <td>864.159973</td>\n",
       "      <td>27334000</td>\n",
       "      <td>0</td>\n",
       "      <td>0</td>\n",
       "    </tr>\n",
       "    <tr>\n",
       "      <th>2021-01-28</th>\n",
       "      <td>820.000000</td>\n",
       "      <td>848.000000</td>\n",
       "      <td>801.000000</td>\n",
       "      <td>835.429993</td>\n",
       "      <td>26378000</td>\n",
       "      <td>0</td>\n",
       "      <td>0</td>\n",
       "    </tr>\n",
       "    <tr>\n",
       "      <th>2021-01-29</th>\n",
       "      <td>830.000000</td>\n",
       "      <td>842.409973</td>\n",
       "      <td>780.099976</td>\n",
       "      <td>793.530029</td>\n",
       "      <td>34990800</td>\n",
       "      <td>0</td>\n",
       "      <td>0</td>\n",
       "    </tr>\n",
       "    <tr>\n",
       "      <th>2021-02-01</th>\n",
       "      <td>814.289978</td>\n",
       "      <td>842.000000</td>\n",
       "      <td>795.559998</td>\n",
       "      <td>839.809998</td>\n",
       "      <td>25391400</td>\n",
       "      <td>0</td>\n",
       "      <td>0</td>\n",
       "    </tr>\n",
       "    <tr>\n",
       "      <th>2021-02-02</th>\n",
       "      <td>844.679993</td>\n",
       "      <td>880.500000</td>\n",
       "      <td>842.200012</td>\n",
       "      <td>872.789978</td>\n",
       "      <td>24346200</td>\n",
       "      <td>0</td>\n",
       "      <td>0</td>\n",
       "    </tr>\n",
       "    <tr>\n",
       "      <th>2021-02-03</th>\n",
       "      <td>877.020020</td>\n",
       "      <td>878.080017</td>\n",
       "      <td>853.059998</td>\n",
       "      <td>854.690002</td>\n",
       "      <td>18343500</td>\n",
       "      <td>0</td>\n",
       "      <td>0</td>\n",
       "    </tr>\n",
       "    <tr>\n",
       "      <th>2021-02-04</th>\n",
       "      <td>855.000000</td>\n",
       "      <td>856.500000</td>\n",
       "      <td>833.419983</td>\n",
       "      <td>849.989990</td>\n",
       "      <td>15812700</td>\n",
       "      <td>0</td>\n",
       "      <td>0</td>\n",
       "    </tr>\n",
       "    <tr>\n",
       "      <th>2021-02-05</th>\n",
       "      <td>845.000000</td>\n",
       "      <td>864.770020</td>\n",
       "      <td>838.969971</td>\n",
       "      <td>852.229980</td>\n",
       "      <td>18566600</td>\n",
       "      <td>0</td>\n",
       "      <td>0</td>\n",
       "    </tr>\n",
       "    <tr>\n",
       "      <th>2021-02-08</th>\n",
       "      <td>869.669983</td>\n",
       "      <td>877.770020</td>\n",
       "      <td>854.750000</td>\n",
       "      <td>863.419983</td>\n",
       "      <td>20161700</td>\n",
       "      <td>0</td>\n",
       "      <td>0</td>\n",
       "    </tr>\n",
       "    <tr>\n",
       "      <th>2021-02-09</th>\n",
       "      <td>855.119995</td>\n",
       "      <td>859.799988</td>\n",
       "      <td>841.750000</td>\n",
       "      <td>849.460022</td>\n",
       "      <td>15157700</td>\n",
       "      <td>0</td>\n",
       "      <td>0</td>\n",
       "    </tr>\n",
       "    <tr>\n",
       "      <th>2021-02-10</th>\n",
       "      <td>843.640015</td>\n",
       "      <td>844.820007</td>\n",
       "      <td>800.020020</td>\n",
       "      <td>804.820007</td>\n",
       "      <td>36216100</td>\n",
       "      <td>0</td>\n",
       "      <td>0</td>\n",
       "    </tr>\n",
       "    <tr>\n",
       "      <th>2021-02-11</th>\n",
       "      <td>812.440002</td>\n",
       "      <td>829.880005</td>\n",
       "      <td>801.729980</td>\n",
       "      <td>811.659973</td>\n",
       "      <td>21622800</td>\n",
       "      <td>0</td>\n",
       "      <td>0</td>\n",
       "    </tr>\n",
       "    <tr>\n",
       "      <th>2021-02-12</th>\n",
       "      <td>801.260010</td>\n",
       "      <td>817.330017</td>\n",
       "      <td>785.330017</td>\n",
       "      <td>816.119995</td>\n",
       "      <td>23768300</td>\n",
       "      <td>0</td>\n",
       "      <td>0</td>\n",
       "    </tr>\n",
       "    <tr>\n",
       "      <th>2021-02-16</th>\n",
       "      <td>818.000000</td>\n",
       "      <td>821.000000</td>\n",
       "      <td>792.440002</td>\n",
       "      <td>796.219971</td>\n",
       "      <td>19802300</td>\n",
       "      <td>0</td>\n",
       "      <td>0</td>\n",
       "    </tr>\n",
       "    <tr>\n",
       "      <th>2021-02-17</th>\n",
       "      <td>779.090027</td>\n",
       "      <td>799.840027</td>\n",
       "      <td>762.010010</td>\n",
       "      <td>798.150024</td>\n",
       "      <td>25996500</td>\n",
       "      <td>0</td>\n",
       "      <td>0</td>\n",
       "    </tr>\n",
       "    <tr>\n",
       "      <th>2021-02-18</th>\n",
       "      <td>780.900024</td>\n",
       "      <td>794.690002</td>\n",
       "      <td>776.270020</td>\n",
       "      <td>787.380005</td>\n",
       "      <td>17957100</td>\n",
       "      <td>0</td>\n",
       "      <td>0</td>\n",
       "    </tr>\n",
       "    <tr>\n",
       "      <th>2021-02-19</th>\n",
       "      <td>795.000000</td>\n",
       "      <td>796.789978</td>\n",
       "      <td>777.369995</td>\n",
       "      <td>781.299988</td>\n",
       "      <td>18958300</td>\n",
       "      <td>0</td>\n",
       "      <td>0</td>\n",
       "    </tr>\n",
       "    <tr>\n",
       "      <th>2021-02-22</th>\n",
       "      <td>762.640015</td>\n",
       "      <td>768.500000</td>\n",
       "      <td>710.200012</td>\n",
       "      <td>714.500000</td>\n",
       "      <td>37269700</td>\n",
       "      <td>0</td>\n",
       "      <td>0</td>\n",
       "    </tr>\n",
       "    <tr>\n",
       "      <th>2021-02-23</th>\n",
       "      <td>662.130005</td>\n",
       "      <td>713.609985</td>\n",
       "      <td>619.000000</td>\n",
       "      <td>698.840027</td>\n",
       "      <td>66606900</td>\n",
       "      <td>0</td>\n",
       "      <td>0</td>\n",
       "    </tr>\n",
       "    <tr>\n",
       "      <th>2021-02-24</th>\n",
       "      <td>711.849976</td>\n",
       "      <td>745.000000</td>\n",
       "      <td>694.169983</td>\n",
       "      <td>742.020020</td>\n",
       "      <td>36767000</td>\n",
       "      <td>0</td>\n",
       "      <td>0</td>\n",
       "    </tr>\n",
       "    <tr>\n",
       "      <th>2021-02-25</th>\n",
       "      <td>726.150024</td>\n",
       "      <td>737.210022</td>\n",
       "      <td>670.580017</td>\n",
       "      <td>682.219971</td>\n",
       "      <td>39023900</td>\n",
       "      <td>0</td>\n",
       "      <td>0</td>\n",
       "    </tr>\n",
       "    <tr>\n",
       "      <th>2021-02-26</th>\n",
       "      <td>700.000000</td>\n",
       "      <td>706.700012</td>\n",
       "      <td>659.510010</td>\n",
       "      <td>675.500000</td>\n",
       "      <td>41089200</td>\n",
       "      <td>0</td>\n",
       "      <td>0</td>\n",
       "    </tr>\n",
       "    <tr>\n",
       "      <th>2021-03-01</th>\n",
       "      <td>690.109985</td>\n",
       "      <td>719.000000</td>\n",
       "      <td>685.049988</td>\n",
       "      <td>718.429993</td>\n",
       "      <td>27136200</td>\n",
       "      <td>0</td>\n",
       "      <td>0</td>\n",
       "    </tr>\n",
       "    <tr>\n",
       "      <th>2021-03-02</th>\n",
       "      <td>718.280029</td>\n",
       "      <td>721.109985</td>\n",
       "      <td>685.000000</td>\n",
       "      <td>686.440002</td>\n",
       "      <td>23732200</td>\n",
       "      <td>0</td>\n",
       "      <td>0</td>\n",
       "    </tr>\n",
       "    <tr>\n",
       "      <th>2021-03-03</th>\n",
       "      <td>687.989990</td>\n",
       "      <td>700.700012</td>\n",
       "      <td>651.710022</td>\n",
       "      <td>653.200012</td>\n",
       "      <td>30208000</td>\n",
       "      <td>0</td>\n",
       "      <td>0</td>\n",
       "    </tr>\n",
       "    <tr>\n",
       "      <th>2021-03-04</th>\n",
       "      <td>655.799988</td>\n",
       "      <td>668.450012</td>\n",
       "      <td>600.000000</td>\n",
       "      <td>621.440002</td>\n",
       "      <td>65919500</td>\n",
       "      <td>0</td>\n",
       "      <td>0</td>\n",
       "    </tr>\n",
       "    <tr>\n",
       "      <th>2021-03-05</th>\n",
       "      <td>626.059998</td>\n",
       "      <td>627.840027</td>\n",
       "      <td>539.489990</td>\n",
       "      <td>597.950012</td>\n",
       "      <td>89396500</td>\n",
       "      <td>0</td>\n",
       "      <td>0</td>\n",
       "    </tr>\n",
       "    <tr>\n",
       "      <th>2021-03-08</th>\n",
       "      <td>600.549988</td>\n",
       "      <td>620.130005</td>\n",
       "      <td>558.789978</td>\n",
       "      <td>563.000000</td>\n",
       "      <td>51787000</td>\n",
       "      <td>0</td>\n",
       "      <td>0</td>\n",
       "    </tr>\n",
       "    <tr>\n",
       "      <th>2021-03-09</th>\n",
       "      <td>608.179993</td>\n",
       "      <td>678.090027</td>\n",
       "      <td>595.210022</td>\n",
       "      <td>673.580017</td>\n",
       "      <td>67523300</td>\n",
       "      <td>0</td>\n",
       "      <td>0</td>\n",
       "    </tr>\n",
       "    <tr>\n",
       "      <th>2021-03-10</th>\n",
       "      <td>700.299988</td>\n",
       "      <td>717.849976</td>\n",
       "      <td>655.059998</td>\n",
       "      <td>668.059998</td>\n",
       "      <td>60605700</td>\n",
       "      <td>0</td>\n",
       "      <td>0</td>\n",
       "    </tr>\n",
       "    <tr>\n",
       "      <th>2021-03-11</th>\n",
       "      <td>699.400024</td>\n",
       "      <td>702.500000</td>\n",
       "      <td>677.179993</td>\n",
       "      <td>699.599976</td>\n",
       "      <td>36253900</td>\n",
       "      <td>0</td>\n",
       "      <td>0</td>\n",
       "    </tr>\n",
       "    <tr>\n",
       "      <th>2021-03-12</th>\n",
       "      <td>670.000000</td>\n",
       "      <td>694.880005</td>\n",
       "      <td>666.140015</td>\n",
       "      <td>693.729980</td>\n",
       "      <td>33583800</td>\n",
       "      <td>0</td>\n",
       "      <td>0</td>\n",
       "    </tr>\n",
       "    <tr>\n",
       "      <th>2021-03-15</th>\n",
       "      <td>694.090027</td>\n",
       "      <td>713.179993</td>\n",
       "      <td>684.039978</td>\n",
       "      <td>707.940002</td>\n",
       "      <td>29335600</td>\n",
       "      <td>0</td>\n",
       "      <td>0</td>\n",
       "    </tr>\n",
       "    <tr>\n",
       "      <th>2021-03-16</th>\n",
       "      <td>703.349976</td>\n",
       "      <td>707.919983</td>\n",
       "      <td>671.000000</td>\n",
       "      <td>676.880005</td>\n",
       "      <td>32195700</td>\n",
       "      <td>0</td>\n",
       "      <td>0</td>\n",
       "    </tr>\n",
       "    <tr>\n",
       "      <th>2021-03-17</th>\n",
       "      <td>656.869995</td>\n",
       "      <td>703.729980</td>\n",
       "      <td>651.010010</td>\n",
       "      <td>701.809998</td>\n",
       "      <td>40372500</td>\n",
       "      <td>0</td>\n",
       "      <td>0</td>\n",
       "    </tr>\n",
       "    <tr>\n",
       "      <th>2021-03-18</th>\n",
       "      <td>684.289978</td>\n",
       "      <td>689.229980</td>\n",
       "      <td>652.000000</td>\n",
       "      <td>653.159973</td>\n",
       "      <td>33224800</td>\n",
       "      <td>0</td>\n",
       "      <td>0</td>\n",
       "    </tr>\n",
       "    <tr>\n",
       "      <th>2021-03-19</th>\n",
       "      <td>646.599976</td>\n",
       "      <td>657.229980</td>\n",
       "      <td>624.619995</td>\n",
       "      <td>654.869995</td>\n",
       "      <td>42894000</td>\n",
       "      <td>0</td>\n",
       "      <td>0</td>\n",
       "    </tr>\n",
       "    <tr>\n",
       "      <th>2021-03-22</th>\n",
       "      <td>684.590027</td>\n",
       "      <td>699.619995</td>\n",
       "      <td>668.750000</td>\n",
       "      <td>670.000000</td>\n",
       "      <td>39512200</td>\n",
       "      <td>0</td>\n",
       "      <td>0</td>\n",
       "    </tr>\n",
       "    <tr>\n",
       "      <th>2021-03-23</th>\n",
       "      <td>675.770020</td>\n",
       "      <td>677.799988</td>\n",
       "      <td>657.510010</td>\n",
       "      <td>662.159973</td>\n",
       "      <td>30491900</td>\n",
       "      <td>0</td>\n",
       "      <td>0</td>\n",
       "    </tr>\n",
       "    <tr>\n",
       "      <th>2021-03-24</th>\n",
       "      <td>667.909973</td>\n",
       "      <td>668.020020</td>\n",
       "      <td>630.109985</td>\n",
       "      <td>630.270020</td>\n",
       "      <td>33795200</td>\n",
       "      <td>0</td>\n",
       "      <td>0</td>\n",
       "    </tr>\n",
       "    <tr>\n",
       "      <th>2021-03-25</th>\n",
       "      <td>613.000000</td>\n",
       "      <td>645.500000</td>\n",
       "      <td>609.500000</td>\n",
       "      <td>640.390015</td>\n",
       "      <td>39224900</td>\n",
       "      <td>0</td>\n",
       "      <td>0</td>\n",
       "    </tr>\n",
       "    <tr>\n",
       "      <th>2021-03-26</th>\n",
       "      <td>641.869995</td>\n",
       "      <td>643.820007</td>\n",
       "      <td>599.890015</td>\n",
       "      <td>618.710022</td>\n",
       "      <td>33852800</td>\n",
       "      <td>0</td>\n",
       "      <td>0</td>\n",
       "    </tr>\n",
       "    <tr>\n",
       "      <th>2021-03-29</th>\n",
       "      <td>615.640015</td>\n",
       "      <td>616.479980</td>\n",
       "      <td>596.020020</td>\n",
       "      <td>611.289978</td>\n",
       "      <td>28637000</td>\n",
       "      <td>0</td>\n",
       "      <td>0</td>\n",
       "    </tr>\n",
       "    <tr>\n",
       "      <th>2021-03-30</th>\n",
       "      <td>601.750000</td>\n",
       "      <td>637.659973</td>\n",
       "      <td>591.010010</td>\n",
       "      <td>635.619995</td>\n",
       "      <td>39432400</td>\n",
       "      <td>0</td>\n",
       "      <td>0</td>\n",
       "    </tr>\n",
       "  </tbody>\n",
       "</table>\n",
       "</div>"
      ],
      "text/plain": [
       "                  Open        High         Low       Close    Volume  \\\n",
       "Date                                                                   \n",
       "2021-01-04  719.460022  744.489990  717.190002  729.770020  48638200   \n",
       "2021-01-05  723.659973  740.840027  719.200012  735.109985  32245200   \n",
       "2021-01-06  758.489990  774.000000  749.099976  755.979980  44700000   \n",
       "2021-01-07  777.630005  816.989990  775.200012  816.039978  51498900   \n",
       "2021-01-08  856.000000  884.489990  838.390015  880.020020  75055500   \n",
       "2021-01-11  849.400024  854.429993  803.619995  811.190002  59301600   \n",
       "2021-01-12  831.000000  868.000000  827.340027  849.440002  46270700   \n",
       "2021-01-13  852.760010  860.469971  832.000000  854.409973  33312500   \n",
       "2021-01-14  843.390015  863.000000  838.750000  845.000000  31266300   \n",
       "2021-01-15  852.000000  859.900024  819.099976  826.159973  38777600   \n",
       "2021-01-19  837.799988  850.000000  833.000000  844.549988  25367000   \n",
       "2021-01-20  858.739990  859.500000  837.280029  850.450012  25665900   \n",
       "2021-01-21  855.000000  855.719971  841.419983  844.989990  20521100   \n",
       "2021-01-22  834.309998  848.000000  828.619995  846.640015  20066500   \n",
       "2021-01-25  855.000000  900.400024  838.820007  880.799988  41173400   \n",
       "2021-01-26  891.380005  895.900024  871.599976  883.090027  23131600   \n",
       "2021-01-27  870.349976  891.500000  858.659973  864.159973  27334000   \n",
       "2021-01-28  820.000000  848.000000  801.000000  835.429993  26378000   \n",
       "2021-01-29  830.000000  842.409973  780.099976  793.530029  34990800   \n",
       "2021-02-01  814.289978  842.000000  795.559998  839.809998  25391400   \n",
       "2021-02-02  844.679993  880.500000  842.200012  872.789978  24346200   \n",
       "2021-02-03  877.020020  878.080017  853.059998  854.690002  18343500   \n",
       "2021-02-04  855.000000  856.500000  833.419983  849.989990  15812700   \n",
       "2021-02-05  845.000000  864.770020  838.969971  852.229980  18566600   \n",
       "2021-02-08  869.669983  877.770020  854.750000  863.419983  20161700   \n",
       "2021-02-09  855.119995  859.799988  841.750000  849.460022  15157700   \n",
       "2021-02-10  843.640015  844.820007  800.020020  804.820007  36216100   \n",
       "2021-02-11  812.440002  829.880005  801.729980  811.659973  21622800   \n",
       "2021-02-12  801.260010  817.330017  785.330017  816.119995  23768300   \n",
       "2021-02-16  818.000000  821.000000  792.440002  796.219971  19802300   \n",
       "2021-02-17  779.090027  799.840027  762.010010  798.150024  25996500   \n",
       "2021-02-18  780.900024  794.690002  776.270020  787.380005  17957100   \n",
       "2021-02-19  795.000000  796.789978  777.369995  781.299988  18958300   \n",
       "2021-02-22  762.640015  768.500000  710.200012  714.500000  37269700   \n",
       "2021-02-23  662.130005  713.609985  619.000000  698.840027  66606900   \n",
       "2021-02-24  711.849976  745.000000  694.169983  742.020020  36767000   \n",
       "2021-02-25  726.150024  737.210022  670.580017  682.219971  39023900   \n",
       "2021-02-26  700.000000  706.700012  659.510010  675.500000  41089200   \n",
       "2021-03-01  690.109985  719.000000  685.049988  718.429993  27136200   \n",
       "2021-03-02  718.280029  721.109985  685.000000  686.440002  23732200   \n",
       "2021-03-03  687.989990  700.700012  651.710022  653.200012  30208000   \n",
       "2021-03-04  655.799988  668.450012  600.000000  621.440002  65919500   \n",
       "2021-03-05  626.059998  627.840027  539.489990  597.950012  89396500   \n",
       "2021-03-08  600.549988  620.130005  558.789978  563.000000  51787000   \n",
       "2021-03-09  608.179993  678.090027  595.210022  673.580017  67523300   \n",
       "2021-03-10  700.299988  717.849976  655.059998  668.059998  60605700   \n",
       "2021-03-11  699.400024  702.500000  677.179993  699.599976  36253900   \n",
       "2021-03-12  670.000000  694.880005  666.140015  693.729980  33583800   \n",
       "2021-03-15  694.090027  713.179993  684.039978  707.940002  29335600   \n",
       "2021-03-16  703.349976  707.919983  671.000000  676.880005  32195700   \n",
       "2021-03-17  656.869995  703.729980  651.010010  701.809998  40372500   \n",
       "2021-03-18  684.289978  689.229980  652.000000  653.159973  33224800   \n",
       "2021-03-19  646.599976  657.229980  624.619995  654.869995  42894000   \n",
       "2021-03-22  684.590027  699.619995  668.750000  670.000000  39512200   \n",
       "2021-03-23  675.770020  677.799988  657.510010  662.159973  30491900   \n",
       "2021-03-24  667.909973  668.020020  630.109985  630.270020  33795200   \n",
       "2021-03-25  613.000000  645.500000  609.500000  640.390015  39224900   \n",
       "2021-03-26  641.869995  643.820007  599.890015  618.710022  33852800   \n",
       "2021-03-29  615.640015  616.479980  596.020020  611.289978  28637000   \n",
       "2021-03-30  601.750000  637.659973  591.010010  635.619995  39432400   \n",
       "\n",
       "            Dividends  Stock Splits  \n",
       "Date                                 \n",
       "2021-01-04          0             0  \n",
       "2021-01-05          0             0  \n",
       "2021-01-06          0             0  \n",
       "2021-01-07          0             0  \n",
       "2021-01-08          0             0  \n",
       "2021-01-11          0             0  \n",
       "2021-01-12          0             0  \n",
       "2021-01-13          0             0  \n",
       "2021-01-14          0             0  \n",
       "2021-01-15          0             0  \n",
       "2021-01-19          0             0  \n",
       "2021-01-20          0             0  \n",
       "2021-01-21          0             0  \n",
       "2021-01-22          0             0  \n",
       "2021-01-25          0             0  \n",
       "2021-01-26          0             0  \n",
       "2021-01-27          0             0  \n",
       "2021-01-28          0             0  \n",
       "2021-01-29          0             0  \n",
       "2021-02-01          0             0  \n",
       "2021-02-02          0             0  \n",
       "2021-02-03          0             0  \n",
       "2021-02-04          0             0  \n",
       "2021-02-05          0             0  \n",
       "2021-02-08          0             0  \n",
       "2021-02-09          0             0  \n",
       "2021-02-10          0             0  \n",
       "2021-02-11          0             0  \n",
       "2021-02-12          0             0  \n",
       "2021-02-16          0             0  \n",
       "2021-02-17          0             0  \n",
       "2021-02-18          0             0  \n",
       "2021-02-19          0             0  \n",
       "2021-02-22          0             0  \n",
       "2021-02-23          0             0  \n",
       "2021-02-24          0             0  \n",
       "2021-02-25          0             0  \n",
       "2021-02-26          0             0  \n",
       "2021-03-01          0             0  \n",
       "2021-03-02          0             0  \n",
       "2021-03-03          0             0  \n",
       "2021-03-04          0             0  \n",
       "2021-03-05          0             0  \n",
       "2021-03-08          0             0  \n",
       "2021-03-09          0             0  \n",
       "2021-03-10          0             0  \n",
       "2021-03-11          0             0  \n",
       "2021-03-12          0             0  \n",
       "2021-03-15          0             0  \n",
       "2021-03-16          0             0  \n",
       "2021-03-17          0             0  \n",
       "2021-03-18          0             0  \n",
       "2021-03-19          0             0  \n",
       "2021-03-22          0             0  \n",
       "2021-03-23          0             0  \n",
       "2021-03-24          0             0  \n",
       "2021-03-25          0             0  \n",
       "2021-03-26          0             0  \n",
       "2021-03-29          0             0  \n",
       "2021-03-30          0             0  "
      ]
     },
     "execution_count": 28,
     "metadata": {},
     "output_type": "execute_result"
    }
   ],
   "source": [
    "data.history(start='2021-01-01', end='2021-03-31')"
   ]
  },
  {
   "cell_type": "code",
   "execution_count": 40,
   "metadata": {},
   "outputs": [],
   "source": [
    "import plotly.graph_objects as go"
   ]
  },
  {
   "cell_type": "code",
   "execution_count": 41,
   "metadata": {},
   "outputs": [],
   "source": [
    "stocks_price = data_cencosud.history(start='2021-01-01', end='2021-03-31')"
   ]
  },
  {
   "cell_type": "code",
   "execution_count": 42,
   "metadata": {},
   "outputs": [
    {
     "data": {
      "text/html": [
       "<div>\n",
       "<style scoped>\n",
       "    .dataframe tbody tr th:only-of-type {\n",
       "        vertical-align: middle;\n",
       "    }\n",
       "\n",
       "    .dataframe tbody tr th {\n",
       "        vertical-align: top;\n",
       "    }\n",
       "\n",
       "    .dataframe thead th {\n",
       "        text-align: right;\n",
       "    }\n",
       "</style>\n",
       "<table border=\"1\" class=\"dataframe\">\n",
       "  <thead>\n",
       "    <tr style=\"text-align: right;\">\n",
       "      <th></th>\n",
       "      <th>Open</th>\n",
       "      <th>High</th>\n",
       "      <th>Low</th>\n",
       "      <th>Close</th>\n",
       "      <th>Volume</th>\n",
       "      <th>Dividends</th>\n",
       "      <th>Stock Splits</th>\n",
       "    </tr>\n",
       "    <tr>\n",
       "      <th>Date</th>\n",
       "      <th></th>\n",
       "      <th></th>\n",
       "      <th></th>\n",
       "      <th></th>\n",
       "      <th></th>\n",
       "      <th></th>\n",
       "      <th></th>\n",
       "    </tr>\n",
       "  </thead>\n",
       "  <tbody>\n",
       "    <tr>\n",
       "      <th>2021-01-04</th>\n",
       "      <td>991.781921</td>\n",
       "      <td>1006.434998</td>\n",
       "      <td>983.221459</td>\n",
       "      <td>991.781921</td>\n",
       "      <td>569074</td>\n",
       "      <td>0</td>\n",
       "      <td>0</td>\n",
       "    </tr>\n",
       "    <tr>\n",
       "      <th>2021-01-05</th>\n",
       "      <td>1021.859314</td>\n",
       "      <td>1025.715387</td>\n",
       "      <td>981.833259</td>\n",
       "      <td>1021.859314</td>\n",
       "      <td>457539</td>\n",
       "      <td>0</td>\n",
       "      <td>0</td>\n",
       "    </tr>\n",
       "    <tr>\n",
       "      <th>2021-01-06</th>\n",
       "      <td>1033.427612</td>\n",
       "      <td>1040.214339</td>\n",
       "      <td>1018.388927</td>\n",
       "      <td>1033.427612</td>\n",
       "      <td>795452</td>\n",
       "      <td>0</td>\n",
       "      <td>0</td>\n",
       "    </tr>\n",
       "    <tr>\n",
       "      <th>2021-01-07</th>\n",
       "      <td>1060.342896</td>\n",
       "      <td>1060.419998</td>\n",
       "      <td>1039.597205</td>\n",
       "      <td>1060.342896</td>\n",
       "      <td>1925313</td>\n",
       "      <td>0</td>\n",
       "      <td>0</td>\n",
       "    </tr>\n",
       "    <tr>\n",
       "      <th>2021-01-08</th>\n",
       "      <td>1087.412598</td>\n",
       "      <td>1087.412598</td>\n",
       "      <td>1041.139721</td>\n",
       "      <td>1087.412598</td>\n",
       "      <td>846153</td>\n",
       "      <td>0</td>\n",
       "      <td>0</td>\n",
       "    </tr>\n",
       "  </tbody>\n",
       "</table>\n",
       "</div>"
      ],
      "text/plain": [
       "                   Open         High          Low        Close   Volume  \\\n",
       "Date                                                                      \n",
       "2021-01-04   991.781921  1006.434998   983.221459   991.781921   569074   \n",
       "2021-01-05  1021.859314  1025.715387   981.833259  1021.859314   457539   \n",
       "2021-01-06  1033.427612  1040.214339  1018.388927  1033.427612   795452   \n",
       "2021-01-07  1060.342896  1060.419998  1039.597205  1060.342896  1925313   \n",
       "2021-01-08  1087.412598  1087.412598  1041.139721  1087.412598   846153   \n",
       "\n",
       "            Dividends  Stock Splits  \n",
       "Date                                 \n",
       "2021-01-04          0             0  \n",
       "2021-01-05          0             0  \n",
       "2021-01-06          0             0  \n",
       "2021-01-07          0             0  \n",
       "2021-01-08          0             0  "
      ]
     },
     "execution_count": 42,
     "metadata": {},
     "output_type": "execute_result"
    }
   ],
   "source": [
    "stocks_price.head()"
   ]
  },
  {
   "cell_type": "code",
   "execution_count": 43,
   "metadata": {},
   "outputs": [
    {
     "data": {
      "text/plain": [
       "[<matplotlib.lines.Line2D at 0x1bdeeb9a0a0>]"
      ]
     },
     "execution_count": 43,
     "metadata": {},
     "output_type": "execute_result"
    },
    {
     "data": {
      "image/png": "[encoded data removed]",
      "text/plain": [
       "<Figure size 960x480 with 1 Axes>"
      ]
     },
     "metadata": {
      "needs_background": "light"
     },
     "output_type": "display_data"
    }
   ],
   "source": [
    "plt.figure(figsize=(12,6),dpi=80)\n",
    "plt.plot(stocks_price.index, stocks_price['Close'])\n",
    "plt.plot(stocks_price.index, stocks_price['High'])"
   ]
  },
  {
   "cell_type": "code",
   "execution_count": 44,
   "metadata": {},
   "outputs": [
    {
     "data": {
      "application/vnd.plotly.v1+json": {
       "config": {
        "plotlyServerURL": "https://plot.ly"
       },
       "data": [
        {
         "name": "Close Price",
         "type": "scatter",
         "x": [
          "2021-01-04T00:00:00",
          "2021-01-05T00:00:00",
          "2021-01-06T00:00:00",
          "2021-01-07T00:00:00",
          "2021-01-08T00:00:00",
          "2021-01-11T00:00:00",
          "2021-01-12T00:00:00",
          "2021-01-13T00:00:00",
          "2021-01-14T00:00:00",
          "2021-01-15T00:00:00",
          "2021-01-18T00:00:00",
          "2021-01-19T00:00:00",
          "2021-01-20T00:00:00",
          "2021-01-21T00:00:00",
          "2021-01-22T00:00:00",
          "2021-01-25T00:00:00",
          "2021-01-26T00:00:00",
          "2021-01-27T00:00:00",
          "2021-01-28T00:00:00",
          "2021-01-29T00:00:00",
          "2021-02-01T00:00:00",
          "2021-02-02T00:00:00",
          "2021-02-03T00:00:00",
          "2021-02-04T00:00:00",
          "2021-02-05T00:00:00",
          "2021-02-08T00:00:00",
          "2021-02-09T00:00:00",
          "2021-02-10T00:00:00",
          "2021-02-11T00:00:00",
          "2021-02-12T00:00:00",
          "2021-02-15T00:00:00",
          "2021-02-16T00:00:00",
          "2021-02-17T00:00:00",
          "2021-02-18T00:00:00",
          "2021-02-19T00:00:00",
          "2021-02-22T00:00:00",
          "2021-02-23T00:00:00",
          "2021-02-24T00:00:00",
          "2021-02-25T00:00:00",
          "2021-02-26T00:00:00",
          "2021-03-01T00:00:00",
          "2021-03-02T00:00:00",
          "2021-03-03T00:00:00",
          "2021-03-04T00:00:00",
          "2021-03-05T00:00:00",
          "2021-03-08T00:00:00",
          "2021-03-09T00:00:00",
          "2021-03-10T00:00:00",
          "2021-03-11T00:00:00",
          "2021-03-12T00:00:00",
          "2021-03-15T00:00:00",
          "2021-03-16T00:00:00",
          "2021-03-17T00:00:00",
          "2021-03-18T00:00:00",
          "2021-03-19T00:00:00",
          "2021-03-22T00:00:00",
          "2021-03-23T00:00:00",
          "2021-03-24T00:00:00",
          "2021-03-25T00:00:00",
          "2021-03-26T00:00:00",
          "2021-03-29T00:00:00",
          "2021-03-30T00:00:00"
         ],
         "y": [
          991.7819213867188,
          1021.8593139648438,
          1033.4276123046875,
          1060.3428955078125,
          1087.41259765625,
          1118.2611083984375,
          1110.471923828125,
          1105.1505126953125,
          1131.371826171875,
          1110.549072265625,
          1144.4825439453125,
          1125.973388671875,
          1113.6339111328125,
          1092.8111572265625,
          1067.129638671875,
          1056.5640869140625,
          1049.623046875,
          1022.630615234375,
          1014.1472778320312,
          983.4527587890625,
          995.6380004882812,
          1031.8851318359375,
          1018.0033569335938,
          1021.8593139648438,
          1006.51220703125,
          1017.2320556640625,
          1056.48681640625,
          1041.1397705078125,
          1057.335205078125,
          1071.98828125,
          1073.14501953125,
          1079.7005615234375,
          1052.7078857421875,
          1053.4791259765625,
          1079.7005615234375,
          1056.5640869140625,
          1064.276123046875,
          1080.4715576171875,
          1110.7032470703125,
          1093.19677734375,
          1079.7005615234375,
          1122.1171875,
          1141.3975830078125,
          1110.549072265625,
          1125.973388671875,
          1103.608154296875,
          1136.770263671875,
          1131.2947998046875,
          1098.9808349609375,
          1129.05810546875,
          1126.1275634765625,
          1125.2021484375,
          1141.3975830078125,
          1133.685546875,
          1122.3486328125,
          1149.1097412109375,
          1164.6112060546875,
          1170.7037353515625,
          1145.253662109375,
          1195.3826904296875,
          1210.0357666015625,
          1210.806884765625
         ]
        },
        {
         "name": "Higher Price",
         "type": "scatter",
         "x": [
          "2021-01-04T00:00:00",
          "2021-01-05T00:00:00",
          "2021-01-06T00:00:00",
          "2021-01-07T00:00:00",
          "2021-01-08T00:00:00",
          "2021-01-11T00:00:00",
          "2021-01-12T00:00:00",
          "2021-01-13T00:00:00",
          "2021-01-14T00:00:00",
          "2021-01-15T00:00:00",
          "2021-01-18T00:00:00",
          "2021-01-19T00:00:00",
          "2021-01-20T00:00:00",
          "2021-01-21T00:00:00",
          "2021-01-22T00:00:00",
          "2021-01-25T00:00:00",
          "2021-01-26T00:00:00",
          "2021-01-27T00:00:00",
          "2021-01-28T00:00:00",
          "2021-01-29T00:00:00",
          "2021-02-01T00:00:00",
          "2021-02-02T00:00:00",
          "2021-02-03T00:00:00",
          "2021-02-04T00:00:00",
          "2021-02-05T00:00:00",
          "2021-02-08T00:00:00",
          "2021-02-09T00:00:00",
          "2021-02-10T00:00:00",
          "2021-02-11T00:00:00",
          "2021-02-12T00:00:00",
          "2021-02-15T00:00:00",
          "2021-02-16T00:00:00",
          "2021-02-17T00:00:00",
          "2021-02-18T00:00:00",
          "2021-02-19T00:00:00",
          "2021-02-22T00:00:00",
          "2021-02-23T00:00:00",
          "2021-02-24T00:00:00",
          "2021-02-25T00:00:00",
          "2021-02-26T00:00:00",
          "2021-03-01T00:00:00",
          "2021-03-02T00:00:00",
          "2021-03-03T00:00:00",
          "2021-03-04T00:00:00",
          "2021-03-05T00:00:00",
          "2021-03-08T00:00:00",
          "2021-03-09T00:00:00",
          "2021-03-10T00:00:00",
          "2021-03-11T00:00:00",
          "2021-03-12T00:00:00",
          "2021-03-15T00:00:00",
          "2021-03-16T00:00:00",
          "2021-03-17T00:00:00",
          "2021-03-18T00:00:00",
          "2021-03-19T00:00:00",
          "2021-03-22T00:00:00",
          "2021-03-23T00:00:00",
          "2021-03-24T00:00:00",
          "2021-03-25T00:00:00",
          "2021-03-26T00:00:00",
          "2021-03-29T00:00:00",
          "2021-03-30T00:00:00"
         ],
         "y": [
          1006.434997985745,
          1025.71538684773,
          1040.214338758877,
          1060.4199981337422,
          1087.41259765625,
          1118.2611083984375,
          1136.7703229178933,
          1110.471912219954,
          1137.541543015348,
          1146.7961600409615,
          1145.176655960824,
          1172.2462676583903,
          1125.0479251642678,
          1122.1173138776628,
          1091.2686940849226,
          1079.7005267734944,
          1075.8443426823108,
          1048.8519130608975,
          1022.6306390914626,
          1041.0625422934165,
          1017.7718207817568,
          1033.3504584002098,
          1047.3095141786519,
          1035.7411763432342,
          1037.283689971144,
          1031.1139184403728,
          1056.48681640625,
          1056.4869607682251,
          1074.3019260932372,
          1078.1579979766186,
          1091.2685610037504,
          1097.438499319894,
          1087.4125413161057,
          1077.3867781766162,
          1095.1248552594866,
          1090.4975320412293,
          1068.1321959564652,
          1105.921637132796,
          1118.2611879284475,
          1132.914332217262,
          1112.7856904157463,
          1122.1171875,
          1141.3975830078125,
          1149.1869065763844,
          1142.9401109669307,
          1125.973378947196,
          1149.1096966561015,
          1145.2537662755906,
          1142.1688537383498,
          1133.685392786245,
          1141.3976507859334,
          1133.5313041226516,
          1141.3975830078125,
          1152.9659133184525,
          1133.6083470213794,
          1149.1097412109375,
          1179.1100789065424,
          1187.670456153759,
          1178.4158893623737,
          1195.3826904296875,
          1249.2135078553144,
          1233.1721074778563
         ]
        }
       ],
       "layout": {
        "template": {
         "data": {
          "bar": [
           {
            "error_x": {
             "color": "#2a3f5f"
            },
            "error_y": {
             "color": "#2a3f5f"
            },
            "marker": {
             "line": {
              "color": "#E5ECF6",
              "width": 0.5
             },
             "pattern": {
              "fillmode": "overlay",
              "size": 10,
              "solidity": 0.2
             }
            },
            "type": "bar"
           }
          ],
          "barpolar": [
           {
            "marker": {
             "line": {
              "color": "#E5ECF6",
              "width": 0.5
             },
             "pattern": {
              "fillmode": "overlay",
              "size": 10,
              "solidity": 0.2
             }
            },
            "type": "barpolar"
           }
          ],
          "carpet": [
           {
            "aaxis": {
             "endlinecolor": "#2a3f5f",
             "gridcolor": "white",
             "linecolor": "white",
             "minorgridcolor": "white",
             "startlinecolor": "#2a3f5f"
            },
            "baxis": {
             "endlinecolor": "#2a3f5f",
             "gridcolor": "white",
             "linecolor": "white",
             "minorgridcolor": "white",
             "startlinecolor": "#2a3f5f"
            },
            "type": "carpet"
           }
          ],
          "choropleth": [
           {
            "colorbar": {
             "outlinewidth": 0,
             "ticks": ""
            },
            "type": "choropleth"
           }
          ],
          "contour": [
           {
            "colorbar": {
             "outlinewidth": 0,
             "ticks": ""
            },
            "colorscale": [
             [
              0,
              "#0d0887"
             ],
             [
              0.1111111111111111,
              "#46039f"
             ],
             [
              0.2222222222222222,
              "#7201a8"
             ],
             [
              0.3333333333333333,
              "#9c179e"
             ],
             [
              0.4444444444444444,
              "#bd3786"
             ],
             [
              0.5555555555555556,
              "#d8576b"
             ],
             [
              0.6666666666666666,
              "#ed7953"
             ],
             [
              0.7777777777777778,
              "#fb9f3a"
             ],
             [
              0.8888888888888888,
              "#fdca26"
             ],
             [
              1,
              "#f0f921"
             ]
            ],
            "type": "contour"
           }
          ],
          "contourcarpet": [
           {
            "colorbar": {
             "outlinewidth": 0,
             "ticks": ""
            },
            "type": "contourcarpet"
           }
          ],
          "heatmap": [
           {
            "colorbar": {
             "outlinewidth": 0,
             "ticks": ""
            },
            "colorscale": [
             [
              0,
              "#0d0887"
             ],
             [
              0.1111111111111111,
              "#46039f"
             ],
             [
              0.2222222222222222,
              "#7201a8"
             ],
             [
              0.3333333333333333,
              "#9c179e"
             ],
             [
              0.4444444444444444,
              "#bd3786"
             ],
             [
              0.5555555555555556,
              "#d8576b"
             ],
             [
              0.6666666666666666,
              "#ed7953"
             ],
             [
              0.7777777777777778,
              "#fb9f3a"
             ],
             [
              0.8888888888888888,
              "#fdca26"
             ],
             [
              1,
              "#f0f921"
             ]
            ],
            "type": "heatmap"
           }
          ],
          "heatmapgl": [
           {
            "colorbar": {
             "outlinewidth": 0,
             "ticks": ""
            },
            "colorscale": [
             [
              0,
              "#0d0887"
             ],
             [
              0.1111111111111111,
              "#46039f"
             ],
             [
              0.2222222222222222,
              "#7201a8"
             ],
             [
              0.3333333333333333,
              "#9c179e"
             ],
             [
              0.4444444444444444,
              "#bd3786"
             ],
             [
              0.5555555555555556,
              "#d8576b"
             ],
             [
              0.6666666666666666,
              "#ed7953"
             ],
             [
              0.7777777777777778,
              "#fb9f3a"
             ],
             [
              0.8888888888888888,
              "#fdca26"
             ],
             [
              1,
              "#f0f921"
             ]
            ],
            "type": "heatmapgl"
           }
          ],
          "histogram": [
           {
            "marker": {
             "pattern": {
              "fillmode": "overlay",
              "size": 10,
              "solidity": 0.2
             }
            },
            "type": "histogram"
           }
          ],
          "histogram2d": [
           {
            "colorbar": {
             "outlinewidth": 0,
             "ticks": ""
            },
            "colorscale": [
             [
              0,
              "#0d0887"
             ],
             [
              0.1111111111111111,
              "#46039f"
             ],
             [
              0.2222222222222222,
              "#7201a8"
             ],
             [
              0.3333333333333333,
              "#9c179e"
             ],
             [
              0.4444444444444444,
              "#bd3786"
             ],
             [
              0.5555555555555556,
              "#d8576b"
             ],
             [
              0.6666666666666666,
              "#ed7953"
             ],
             [
              0.7777777777777778,
              "#fb9f3a"
             ],
             [
              0.8888888888888888,
              "#fdca26"
             ],
             [
              1,
              "#f0f921"
             ]
            ],
            "type": "histogram2d"
           }
          ],
          "histogram2dcontour": [
           {
            "colorbar": {
             "outlinewidth": 0,
             "ticks": ""
            },
            "colorscale": [
             [
              0,
              "#0d0887"
             ],
             [
              0.1111111111111111,
              "#46039f"
             ],
             [
              0.2222222222222222,
              "#7201a8"
             ],
             [
              0.3333333333333333,
              "#9c179e"
             ],
             [
              0.4444444444444444,
              "#bd3786"
             ],
             [
              0.5555555555555556,
              "#d8576b"
             ],
             [
              0.6666666666666666,
              "#ed7953"
             ],
             [
              0.7777777777777778,
              "#fb9f3a"
             ],
             [
              0.8888888888888888,
              "#fdca26"
             ],
             [
              1,
              "#f0f921"
             ]
            ],
            "type": "histogram2dcontour"
           }
          ],
          "mesh3d": [
           {
            "colorbar": {
             "outlinewidth": 0,
             "ticks": ""
            },
            "type": "mesh3d"
           }
          ],
          "parcoords": [
           {
            "line": {
             "colorbar": {
              "outlinewidth": 0,
              "ticks": ""
             }
            },
            "type": "parcoords"
           }
          ],
          "pie": [
           {
            "automargin": true,
            "type": "pie"
           }
          ],
          "scatter": [
           {
            "marker": {
             "colorbar": {
              "outlinewidth": 0,
              "ticks": ""
             }
            },
            "type": "scatter"
           }
          ],
          "scatter3d": [
           {
            "line": {
             "colorbar": {
              "outlinewidth": 0,
              "ticks": ""
             }
            },
            "marker": {
             "colorbar": {
              "outlinewidth": 0,
              "ticks": ""
             }
            },
            "type": "scatter3d"
           }
          ],
          "scattercarpet": [
           {
            "marker": {
             "colorbar": {
              "outlinewidth": 0,
              "ticks": ""
             }
            },
            "type": "scattercarpet"
           }
          ],
          "scattergeo": [
           {
            "marker": {
             "colorbar": {
              "outlinewidth": 0,
              "ticks": ""
             }
            },
            "type": "scattergeo"
           }
          ],
          "scattergl": [
           {
            "marker": {
             "colorbar": {
              "outlinewidth": 0,
              "ticks": ""
             }
            },
            "type": "scattergl"
           }
          ],
          "scattermapbox": [
           {
            "marker": {
             "colorbar": {
              "outlinewidth": 0,
              "ticks": ""
             }
            },
            "type": "scattermapbox"
           }
          ],
          "scatterpolar": [
           {
            "marker": {
             "colorbar": {
              "outlinewidth": 0,
              "ticks": ""
             }
            },
            "type": "scatterpolar"
           }
          ],
          "scatterpolargl": [
           {
            "marker": {
             "colorbar": {
              "outlinewidth": 0,
              "ticks": ""
             }
            },
            "type": "scatterpolargl"
           }
          ],
          "scatterternary": [
           {
            "marker": {
             "colorbar": {
              "outlinewidth": 0,
              "ticks": ""
             }
            },
            "type": "scatterternary"
           }
          ],
          "surface": [
           {
            "colorbar": {
             "outlinewidth": 0,
             "ticks": ""
            },
            "colorscale": [
             [
              0,
              "#0d0887"
             ],
             [
              0.1111111111111111,
              "#46039f"
             ],
             [
              0.2222222222222222,
              "#7201a8"
             ],
             [
              0.3333333333333333,
              "#9c179e"
             ],
             [
              0.4444444444444444,
              "#bd3786"
             ],
             [
              0.5555555555555556,
              "#d8576b"
             ],
             [
              0.6666666666666666,
              "#ed7953"
             ],
             [
              0.7777777777777778,
              "#fb9f3a"
             ],
             [
              0.8888888888888888,
              "#fdca26"
             ],
             [
              1,
              "#f0f921"
             ]
            ],
            "type": "surface"
           }
          ],
          "table": [
           {
            "cells": {
             "fill": {
              "color": "#EBF0F8"
             },
             "line": {
              "color": "white"
             }
            },
            "header": {
             "fill": {
              "color": "#C8D4E3"
             },
             "line": {
              "color": "white"
             }
            },
            "type": "table"
           }
          ]
         },
         "layout": {
          "annotationdefaults": {
           "arrowcolor": "#2a3f5f",
           "arrowhead": 0,
           "arrowwidth": 1
          },
          "autotypenumbers": "strict",
          "coloraxis": {
           "colorbar": {
            "outlinewidth": 0,
            "ticks": ""
           }
          },
          "colorscale": {
           "diverging": [
            [
             0,
             "#8e0152"
            ],
            [
             0.1,
             "#c51b7d"
            ],
            [
             0.2,
             "#de77ae"
            ],
            [
             0.3,
             "#f1b6da"
            ],
            [
             0.4,
             "#fde0ef"
            ],
            [
             0.5,
             "#f7f7f7"
            ],
            [
             0.6,
             "#e6f5d0"
            ],
            [
             0.7,
             "#b8e186"
            ],
            [
             0.8,
             "#7fbc41"
            ],
            [
             0.9,
             "#4d9221"
            ],
            [
             1,
             "#276419"
            ]
           ],
           "sequential": [
            [
             0,
             "#0d0887"
            ],
            [
             0.1111111111111111,
             "#46039f"
            ],
            [
             0.2222222222222222,
             "#7201a8"
            ],
            [
             0.3333333333333333,
             "#9c179e"
            ],
            [
             0.4444444444444444,
             "#bd3786"
            ],
            [
             0.5555555555555556,
             "#d8576b"
            ],
            [
             0.6666666666666666,
             "#ed7953"
            ],
            [
             0.7777777777777778,
             "#fb9f3a"
            ],
            [
             0.8888888888888888,
             "#fdca26"
            ],
            [
             1,
             "#f0f921"
            ]
           ],
           "sequentialminus": [
            [
             0,
             "#0d0887"
            ],
            [
             0.1111111111111111,
             "#46039f"
            ],
            [
             0.2222222222222222,
             "#7201a8"
            ],
            [
             0.3333333333333333,
             "#9c179e"
            ],
            [
             0.4444444444444444,
             "#bd3786"
            ],
            [
             0.5555555555555556,
             "#d8576b"
            ],
            [
             0.6666666666666666,
             "#ed7953"
            ],
            [
             0.7777777777777778,
             "#fb9f3a"
            ],
            [
             0.8888888888888888,
             "#fdca26"
            ],
            [
             1,
             "#f0f921"
            ]
           ]
          },
          "colorway": [
           "#636efa",
           "#EF553B",
           "#00cc96",
           "#ab63fa",
           "#FFA15A",
           "#19d3f3",
           "#FF6692",
           "#B6E880",
           "#FF97FF",
           "#FECB52"
          ],
          "font": {
           "color": "#2a3f5f"
          },
          "geo": {
           "bgcolor": "white",
           "lakecolor": "white",
           "landcolor": "#E5ECF6",
           "showlakes": true,
           "showland": true,
           "subunitcolor": "white"
          },
          "hoverlabel": {
           "align": "left"
          },
          "hovermode": "closest",
          "mapbox": {
           "style": "light"
          },
          "paper_bgcolor": "white",
          "plot_bgcolor": "#E5ECF6",
          "polar": {
           "angularaxis": {
            "gridcolor": "white",
            "linecolor": "white",
            "ticks": ""
           },
           "bgcolor": "#E5ECF6",
           "radialaxis": {
            "gridcolor": "white",
            "linecolor": "white",
            "ticks": ""
           }
          },
          "scene": {
           "xaxis": {
            "backgroundcolor": "#E5ECF6",
            "gridcolor": "white",
            "gridwidth": 2,
            "linecolor": "white",
            "showbackground": true,
            "ticks": "",
            "zerolinecolor": "white"
           },
           "yaxis": {
            "backgroundcolor": "#E5ECF6",
            "gridcolor": "white",
            "gridwidth": 2,
            "linecolor": "white",
            "showbackground": true,
            "ticks": "",
            "zerolinecolor": "white"
           },
           "zaxis": {
            "backgroundcolor": "#E5ECF6",
            "gridcolor": "white",
            "gridwidth": 2,
            "linecolor": "white",
            "showbackground": true,
            "ticks": "",
            "zerolinecolor": "white"
           }
          },
          "shapedefaults": {
           "line": {
            "color": "#2a3f5f"
           }
          },
          "ternary": {
           "aaxis": {
            "gridcolor": "white",
            "linecolor": "white",
            "ticks": ""
           },
           "baxis": {
            "gridcolor": "white",
            "linecolor": "white",
            "ticks": ""
           },
           "bgcolor": "#E5ECF6",
           "caxis": {
            "gridcolor": "white",
            "linecolor": "white",
            "ticks": ""
           }
          },
          "title": {
           "x": 0.05
          },
          "xaxis": {
           "automargin": true,
           "gridcolor": "white",
           "linecolor": "white",
           "ticks": "",
           "title": {
            "standoff": 15
           },
           "zerolinecolor": "white",
           "zerolinewidth": 2
          },
          "yaxis": {
           "automargin": true,
           "gridcolor": "white",
           "linecolor": "white",
           "ticks": "",
           "title": {
            "standoff": 15
           },
           "zerolinecolor": "white",
           "zerolinewidth": 2
          }
         }
        },
        "title": {
         "text": "Stock Prices January - March 2021 CECONSUD"
        }
       }
      }
     },
     "metadata": {},
     "output_type": "display_data"
    }
   ],
   "source": [
    "fig = go.Figure()\n",
    "\n",
    "fig.add_trace(go.Scatter(x=stocks_price.index, y=stocks_price['Close'], name='Close Price'))\n",
    "fig.add_trace(go.Scatter(x=stocks_price.index, y=stocks_price['High'], name='Higher Price'))\n",
    "\n",
    "fig.update_layout(\n",
    "    title_text='Stock Prices January - March 2021 CECONSUD'\n",
    ")"
   ]
  },
  {
   "cell_type": "markdown",
   "metadata": {},
   "source": [
    "# Stock return"
   ]
  },
  {
   "cell_type": "code",
   "execution_count": 45,
   "metadata": {},
   "outputs": [],
   "source": [
    "tesla = yf.Ticker('TSLA')"
   ]
  },
  {
   "cell_type": "code",
   "execution_count": 46,
   "metadata": {},
   "outputs": [],
   "source": [
    "price = tesla.history(period='1y')"
   ]
  },
  {
   "cell_type": "code",
   "execution_count": 47,
   "metadata": {},
   "outputs": [
    {
     "name": "stdout",
     "output_type": "stream",
     "text": [
      "Date\n",
      "2021-11-19         NaN\n",
      "2021-11-22    0.017422\n",
      "2021-11-23   -0.041353\n",
      "2021-11-24    0.006285\n",
      "2021-11-26   -0.030538\n",
      "                ...   \n",
      "2022-11-14   -0.025616\n",
      "2022-11-15    0.018172\n",
      "2022-11-16   -0.038576\n",
      "2022-11-17   -0.020062\n",
      "2022-11-18   -0.016269\n",
      "Name: Close, Length: 252, dtype: float64\n"
     ]
    }
   ],
   "source": [
    "x = price['Close'].pct_change()\n",
    "print(x)"
   ]
  },
  {
   "cell_type": "code",
   "execution_count": 48,
   "metadata": {},
   "outputs": [
    {
     "data": {
      "text/plain": [
       "[<matplotlib.lines.Line2D at 0x1bdeebee5b0>]"
      ]
     },
     "execution_count": 48,
     "metadata": {},
     "output_type": "execute_result"
    },
    {
     "data": {
      "image/png": "[encoded data removed]",
      "text/plain": [
       "<Figure size 432x288 with 1 Axes>"
      ]
     },
     "metadata": {
      "needs_background": "light"
     },
     "output_type": "display_data"
    }
   ],
   "source": [
    "plt.plot(x)"
   ]
  },
  {
   "cell_type": "code",
   "execution_count": 49,
   "metadata": {},
   "outputs": [
    {
     "data": {
      "application/vnd.plotly.v1+json": {
       "config": {
        "plotlyServerURL": "https://plot.ly"
       },
       "data": [
        {
         "hovertemplate": "variable=Close<br>Date=%{x}<br>value=%{y}<extra></extra>",
         "legendgroup": "Close",
         "line": {
          "color": "#636efa",
          "dash": "solid"
         },
         "marker": {
          "symbol": "circle"
         },
         "mode": "lines",
         "name": "Close",
         "orientation": "v",
         "showlegend": true,
         "type": "scatter",
         "x": [
          "2021-11-19T00:00:00",
          "2021-11-22T00:00:00",
          "2021-11-23T00:00:00",
          "2021-11-24T00:00:00",
          "2021-11-26T00:00:00",
          "2021-11-29T00:00:00",
          "2021-11-30T00:00:00",
          "2021-12-01T00:00:00",
          "2021-12-02T00:00:00",
          "2021-12-03T00:00:00",
          "2021-12-06T00:00:00",
          "2021-12-07T00:00:00",
          "2021-12-08T00:00:00",
          "2021-12-09T00:00:00",
          "2021-12-10T00:00:00",
          "2021-12-13T00:00:00",
          "2021-12-14T00:00:00",
          "2021-12-15T00:00:00",
          "2021-12-16T00:00:00",
          "2021-12-17T00:00:00",
          "2021-12-20T00:00:00",
          "2021-12-21T00:00:00",
          "2021-12-22T00:00:00",
          "2021-12-23T00:00:00",
          "2021-12-27T00:00:00",
          "2021-12-28T00:00:00",
          "2021-12-29T00:00:00",
          "2021-12-30T00:00:00",
          "2021-12-31T00:00:00",
          "2022-01-03T00:00:00",
          "2022-01-04T00:00:00",
          "2022-01-05T00:00:00",
          "2022-01-06T00:00:00",
          "2022-01-07T00:00:00",
          "2022-01-10T00:00:00",
          "2022-01-11T00:00:00",
          "2022-01-12T00:00:00",
          "2022-01-13T00:00:00",
          "2022-01-14T00:00:00",
          "2022-01-18T00:00:00",
          "2022-01-19T00:00:00",
          "2022-01-20T00:00:00",
          "2022-01-21T00:00:00",
          "2022-01-24T00:00:00",
          "2022-01-25T00:00:00",
          "2022-01-26T00:00:00",
          "2022-01-27T00:00:00",
          "2022-01-28T00:00:00",
          "2022-01-31T00:00:00",
          "2022-02-01T00:00:00",
          "2022-02-02T00:00:00",
          "2022-02-03T00:00:00",
          "2022-02-04T00:00:00",
          "2022-02-07T00:00:00",
          "2022-02-08T00:00:00",
          "2022-02-09T00:00:00",
          "2022-02-10T00:00:00",
          "2022-02-11T00:00:00",
          "2022-02-14T00:00:00",
          "2022-02-15T00:00:00",
          "2022-02-16T00:00:00",
          "2022-02-17T00:00:00",
          "2022-02-18T00:00:00",
          "2022-02-22T00:00:00",
          "2022-02-23T00:00:00",
          "2022-02-24T00:00:00",
          "2022-02-25T00:00:00",
          "2022-02-28T00:00:00",
          "2022-03-01T00:00:00",
          "2022-03-02T00:00:00",
          "2022-03-03T00:00:00",
          "2022-03-04T00:00:00",
          "2022-03-07T00:00:00",
          "2022-03-08T00:00:00",
          "2022-03-09T00:00:00",
          "2022-03-10T00:00:00",
          "2022-03-11T00:00:00",
          "2022-03-14T00:00:00",
          "2022-03-15T00:00:00",
          "2022-03-16T00:00:00",
          "2022-03-17T00:00:00",
          "2022-03-18T00:00:00",
          "2022-03-21T00:00:00",
          "2022-03-22T00:00:00",
          "2022-03-23T00:00:00",
          "2022-03-24T00:00:00",
          "2022-03-25T00:00:00",
          "2022-03-28T00:00:00",
          "2022-03-29T00:00:00",
          "2022-03-30T00:00:00",
          "2022-03-31T00:00:00",
          "2022-04-01T00:00:00",
          "2022-04-04T00:00:00",
          "2022-04-05T00:00:00",
          "2022-04-06T00:00:00",
          "2022-04-07T00:00:00",
          "2022-04-08T00:00:00",
          "2022-04-11T00:00:00",
          "2022-04-12T00:00:00",
          "2022-04-13T00:00:00",
          "2022-04-14T00:00:00",
          "2022-04-18T00:00:00",
          "2022-04-19T00:00:00",
          "2022-04-20T00:00:00",
          "2022-04-21T00:00:00",
          "2022-04-22T00:00:00",
          "2022-04-25T00:00:00",
          "2022-04-26T00:00:00",
          "2022-04-27T00:00:00",
          "2022-04-28T00:00:00",
          "2022-04-29T00:00:00",
          "2022-05-02T00:00:00",
          "2022-05-03T00:00:00",
          "2022-05-04T00:00:00",
          "2022-05-05T00:00:00",
          "2022-05-06T00:00:00",
          "2022-05-09T00:00:00",
          "2022-05-10T00:00:00",
          "2022-05-11T00:00:00",
          "2022-05-12T00:00:00",
          "2022-05-13T00:00:00",
          "2022-05-16T00:00:00",
          "2022-05-17T00:00:00",
          "2022-05-18T00:00:00",
          "2022-05-19T00:00:00",
          "2022-05-20T00:00:00",
          "2022-05-23T00:00:00",
          "2022-05-24T00:00:00",
          "2022-05-25T00:00:00",
          "2022-05-26T00:00:00",
          "2022-05-27T00:00:00",
          "2022-05-31T00:00:00",
          "2022-06-01T00:00:00",
          "2022-06-02T00:00:00",
          "2022-06-03T00:00:00",
          "2022-06-06T00:00:00",
          "2022-06-07T00:00:00",
          "2022-06-08T00:00:00",
          "2022-06-09T00:00:00",
          "2022-06-10T00:00:00",
          "2022-06-13T00:00:00",
          "2022-06-14T00:00:00",
          "2022-06-15T00:00:00",
          "2022-06-16T00:00:00",
          "2022-06-17T00:00:00",
          "2022-06-21T00:00:00",
          "2022-06-22T00:00:00",
          "2022-06-23T00:00:00",
          "2022-06-24T00:00:00",
          "2022-06-27T00:00:00",
          "2022-06-28T00:00:00",
          "2022-06-29T00:00:00",
          "2022-06-30T00:00:00",
          "2022-07-01T00:00:00",
          "2022-07-05T00:00:00",
          "2022-07-06T00:00:00",
          "2022-07-07T00:00:00",
          "2022-07-08T00:00:00",
          "2022-07-11T00:00:00",
          "2022-07-12T00:00:00",
          "2022-07-13T00:00:00",
          "2022-07-14T00:00:00",
          "2022-07-15T00:00:00",
          "2022-07-18T00:00:00",
          "2022-07-19T00:00:00",
          "2022-07-20T00:00:00",
          "2022-07-21T00:00:00",
          "2022-07-22T00:00:00",
          "2022-07-25T00:00:00",
          "2022-07-26T00:00:00",
          "2022-07-27T00:00:00",
          "2022-07-28T00:00:00",
          "2022-07-29T00:00:00",
          "2022-08-01T00:00:00",
          "2022-08-02T00:00:00",
          "2022-08-03T00:00:00",
          "2022-08-04T00:00:00",
          "2022-08-05T00:00:00",
          "2022-08-08T00:00:00",
          "2022-08-09T00:00:00",
          "2022-08-10T00:00:00",
          "2022-08-11T00:00:00",
          "2022-08-12T00:00:00",
          "2022-08-15T00:00:00",
          "2022-08-16T00:00:00",
          "2022-08-17T00:00:00",
          "2022-08-18T00:00:00",
          "2022-08-19T00:00:00",
          "2022-08-22T00:00:00",
          "2022-08-23T00:00:00",
          "2022-08-24T00:00:00",
          "2022-08-25T00:00:00",
          "2022-08-26T00:00:00",
          "2022-08-29T00:00:00",
          "2022-08-30T00:00:00",
          "2022-08-31T00:00:00",
          "2022-09-01T00:00:00",
          "2022-09-02T00:00:00",
          "2022-09-06T00:00:00",
          "2022-09-07T00:00:00",
          "2022-09-08T00:00:00",
          "2022-09-09T00:00:00",
          "2022-09-12T00:00:00",
          "2022-09-13T00:00:00",
          "2022-09-14T00:00:00",
          "2022-09-15T00:00:00",
          "2022-09-16T00:00:00",
          "2022-09-19T00:00:00",
          "2022-09-20T00:00:00",
          "2022-09-21T00:00:00",
          "2022-09-22T00:00:00",
          "2022-09-23T00:00:00",
          "2022-09-26T00:00:00",
          "2022-09-27T00:00:00",
          "2022-09-28T00:00:00",
          "2022-09-29T00:00:00",
          "2022-09-30T00:00:00",
          "2022-10-03T00:00:00",
          "2022-10-04T00:00:00",
          "2022-10-05T00:00:00",
          "2022-10-06T00:00:00",
          "2022-10-07T00:00:00",
          "2022-10-10T00:00:00",
          "2022-10-11T00:00:00",
          "2022-10-12T00:00:00",
          "2022-10-13T00:00:00",
          "2022-10-14T00:00:00",
          "2022-10-17T00:00:00",
          "2022-10-18T00:00:00",
          "2022-10-19T00:00:00",
          "2022-10-20T00:00:00",
          "2022-10-21T00:00:00",
          "2022-10-24T00:00:00",
          "2022-10-25T00:00:00",
          "2022-10-26T00:00:00",
          "2022-10-27T00:00:00",
          "2022-10-28T00:00:00",
          "2022-10-31T00:00:00",
          "2022-11-01T00:00:00",
          "2022-11-02T00:00:00",
          "2022-11-03T00:00:00",
          "2022-11-04T00:00:00",
          "2022-11-07T00:00:00",
          "2022-11-08T00:00:00",
          "2022-11-09T00:00:00",
          "2022-11-10T00:00:00",
          "2022-11-11T00:00:00",
          "2022-11-14T00:00:00",
          "2022-11-15T00:00:00",
          "2022-11-16T00:00:00",
          "2022-11-17T00:00:00",
          "2022-11-18T00:00:00"
         ],
         "xaxis": "x",
         "y": [
          null,
          0.017422122080461122,
          -0.041352932727292124,
          0.006284772484400847,
          -0.030537595031082,
          0.050900227900227524,
          0.006833823403773698,
          -0.04346763456194869,
          -0.00949773919092467,
          -0.06419876077133224,
          -0.005872086315763081,
          0.04235837141187604,
          0.016363195584229162,
          -0.06095644581905246,
          0.013179927022311633,
          -0.04977243020772948,
          -0.008174578197676419,
          0.018236618133556703,
          -0.050277132790258694,
          0.006095449446181567,
          -0.03498927121736173,
          0.04288056302579579,
          0.07494705523716627,
          0.05761886305530961,
          0.025248391499066658,
          -0.005000275342793459,
          -0.0020947102761840197,
          -0.014592268383646134,
          -0.012668840823859995,
          0.1353166841897706,
          -0.041832696836128,
          -0.05347121367683638,
          -0.02152337383085412,
          -0.035446567451716815,
          0.03034195341380186,
          0.005935024657598653,
          0.039289748931841784,
          -0.06749107331435766,
          0.017497758575059086,
          -0.01819724123253097,
          -0.0338278969185718,
          0.0006227038828787723,
          -0.05256606712507206,
          -0.014726129872195681,
          -0.012473124842489969,
          0.02069905258271132,
          -0.11554175561970448,
          0.020805692766870276,
          0.10677611383930952,
          -0.0058395266373975074,
          -0.02747919159891432,
          -0.016032495024879134,
          0.03611110968421327,
          -0.01730718642133755,
          0.0161571905234128,
          0.010845920427172029,
          -0.029452771017468238,
          -0.04925102969626416,
          0.01832566437213501,
          0.053290764282768466,
          0.0010407532409399955,
          -0.05094269900666093,
          -0.022103035296720752,
          -0.04136624223452856,
          -0.06997917599526948,
          0.04807345500262783,
          0.011364031324829549,
          0.07477746853358713,
          -0.006962143345558558,
          0.01795529711451649,
          -0.04614210448825773,
          -0.0011915196265851469,
          -0.04021280504200253,
          0.02463394210323222,
          0.04193357517885765,
          -0.024063755330148706,
          -0.0512345859010529,
          -0.036436802368687404,
          0.046348355546253384,
          0.047812040425278646,
          0.037335010469022656,
          0.03876779427650434,
          0.017417963888751054,
          0.07905243778179138,
          0.005161136057840299,
          0.014823128420135223,
          -0.003234937980317265,
          0.0803450783611821,
          0.007079858095940583,
          -0.00507475414515135,
          -0.014981813142339484,
          0.006486599368272561,
          0.05611341298759176,
          -0.047308971544201106,
          -0.041694894294368345,
          0.010996816105212748,
          -0.03004944796541842,
          -0.048328086073804455,
          0.011291813566499442,
          0.03588835603591267,
          -0.03655231880843268,
          0.019583733431163042,
          0.023758093445249484,
          -0.04955503671370076,
          0.03231684066245499,
          -0.003697576672395231,
          -0.006994645387893739,
          -0.12184121881948873,
          0.005807678470473254,
          -0.004537702888526063,
          -0.007692220213591394,
          0.03695628471433299,
          0.006988279761963367,
          0.04769864576468552,
          -0.08328615317548016,
          -0.008737180698190294,
          -0.09072948807249681,
          0.016427173986372612,
          -0.08254582843646041,
          -0.008174386751047313,
          0.05712909369145702,
          -0.05875856161837267,
          0.05141017778952928,
          -0.06801379812405906,
          -0.0005494634476534976,
          -0.06416505716141863,
          0.01656871415985961,
          -0.06925464690507588,
          0.04877737911795821,
          0.07427138936829314,
          0.07333306253742577,
          -0.001803563389055185,
          -0.02359349020027357,
          0.04677398003874078,
          -0.09219359988526965,
          0.0160472016783606,
          0.0025460558898939833,
          0.012474516432601446,
          -0.008930555308462429,
          -0.031190911234383223,
          -0.07102153990705962,
          0.023887157055640484,
          0.05482367080362738,
          -0.08540769912654234,
          0.017174980283869212,
          0.0935443480214786,
          -0.004007805884153504,
          -0.004306310889948484,
          0.04524889345059324,
          -0.0032016505127857586,
          -0.0500435578248114,
          -0.01793718238090891,
          -0.017579227799377373,
          0.012429131666979787,
          0.025535704813974602,
          -0.005720802000385383,
          0.055279044880592876,
          0.02543516968760029,
          -0.06548005948146851,
          -0.005433611636988744,
          0.017033448479672808,
          0.005371861218914864,
          0.0073572315408600986,
          0.001999426810217919,
          0.020716718219316865,
          0.008023464466653252,
          0.09780470722853529,
          0.0019752262198982073,
          -0.013994935471540293,
          -0.0356637312112531,
          0.061655036992220635,
          0.02212352234272652,
          0.05784976985791013,
          0.00042631152414229767,
          0.011134400598203698,
          0.02265568716125621,
          0.004023022853486102,
          -0.0663030068235908,
          0.007819434052879659,
          -0.024412625864385085,
          0.03890581776676605,
          -0.026249292544206493,
          0.046750143628413676,
          0.03096359891583922,
          -0.008912075793144236,
          -0.008372333511224461,
          -0.0037062197211366055,
          -0.020481852686155544,
          -0.022764022407583906,
          0.0225584954757323,
          0.002170125887066332,
          -0.003455684406709514,
          -0.026953121859416895,
          -0.01135058160727187,
          -0.0249982267189629,
          -0.007526203685978228,
          0.005623955563764049,
          -0.02507581222110289,
          0.015580556255471167,
          0.03381677109982606,
          0.01959815762903916,
          0.03602289482946186,
          0.01581694096302666,
          -0.04037188096320543,
          0.03587437200418364,
          0.003767273730617582,
          -0.0013168523341049454,
          0.018856110452001085,
          -0.0011000625419275156,
          -0.025685948599634356,
          -0.040591728559117746,
          -0.04594757245188685,
          0.0024698479153155706,
          0.02510775852537339,
          0.017212112374233923,
          -0.06810050474193607,
          -0.011036096899372572,
          -0.08614516909902215,
          0.029042940273044104,
          -0.034597517632881325,
          -0.011129075632041241,
          -0.06324275500689214,
          -0.0004931214719139376,
          -0.02897383620084637,
          0.003418039229395209,
          0.020622332969329804,
          -0.07545550981161053,
          0.07005219876844393,
          0.003829479437051919,
          0.008401793106927569,
          -0.0664744863679374,
          0.03454266549727758,
          -0.014875967194030837,
          0.05287573097725584,
          0.009981122376490958,
          0.00200319154854367,
          0.015238384603380561,
          -0.004288512900427199,
          0.0012306146011606955,
          -0.05636033352596026,
          0.0015350350619269815,
          -0.03641259777431871,
          -0.05007952633400592,
          -0.02932818513088775,
          -0.07166757185130745,
          0.07393437216942544,
          0.027527264924482875,
          -0.02561618738169713,
          0.018172303095892017,
          -0.03857627852399581,
          -0.020062058831236462,
          -0.016269016527425406
         ],
         "yaxis": "y"
        }
       ],
       "layout": {
        "legend": {
         "title": {
          "text": "variable"
         },
         "tracegroupgap": 0
        },
        "margin": {
         "t": 60
        },
        "template": {
         "data": {
          "bar": [
           {
            "error_x": {
             "color": "#2a3f5f"
            },
            "error_y": {
             "color": "#2a3f5f"
            },
            "marker": {
             "line": {
              "color": "#E5ECF6",
              "width": 0.5
             },
             "pattern": {
              "fillmode": "overlay",
              "size": 10,
              "solidity": 0.2
             }
            },
            "type": "bar"
           }
          ],
          "barpolar": [
           {
            "marker": {
             "line": {
              "color": "#E5ECF6",
              "width": 0.5
             },
             "pattern": {
              "fillmode": "overlay",
              "size": 10,
              "solidity": 0.2
             }
            },
            "type": "barpolar"
           }
          ],
          "carpet": [
           {
            "aaxis": {
             "endlinecolor": "#2a3f5f",
             "gridcolor": "white",
             "linecolor": "white",
             "minorgridcolor": "white",
             "startlinecolor": "#2a3f5f"
            },
            "baxis": {
             "endlinecolor": "#2a3f5f",
             "gridcolor": "white",
             "linecolor": "white",
             "minorgridcolor": "white",
             "startlinecolor": "#2a3f5f"
            },
            "type": "carpet"
           }
          ],
          "choropleth": [
           {
            "colorbar": {
             "outlinewidth": 0,
             "ticks": ""
            },
            "type": "choropleth"
           }
          ],
          "contour": [
           {
            "colorbar": {
             "outlinewidth": 0,
             "ticks": ""
            },
            "colorscale": [
             [
              0,
              "#0d0887"
             ],
             [
              0.1111111111111111,
              "#46039f"
             ],
             [
              0.2222222222222222,
              "#7201a8"
             ],
             [
              0.3333333333333333,
              "#9c179e"
             ],
             [
              0.4444444444444444,
              "#bd3786"
             ],
             [
              0.5555555555555556,
              "#d8576b"
             ],
             [
              0.6666666666666666,
              "#ed7953"
             ],
             [
              0.7777777777777778,
              "#fb9f3a"
             ],
             [
              0.8888888888888888,
              "#fdca26"
             ],
             [
              1,
              "#f0f921"
             ]
            ],
            "type": "contour"
           }
          ],
          "contourcarpet": [
           {
            "colorbar": {
             "outlinewidth": 0,
             "ticks": ""
            },
            "type": "contourcarpet"
           }
          ],
          "heatmap": [
           {
            "colorbar": {
             "outlinewidth": 0,
             "ticks": ""
            },
            "colorscale": [
             [
              0,
              "#0d0887"
             ],
             [
              0.1111111111111111,
              "#46039f"
             ],
             [
              0.2222222222222222,
              "#7201a8"
             ],
             [
              0.3333333333333333,
              "#9c179e"
             ],
             [
              0.4444444444444444,
              "#bd3786"
             ],
             [
              0.5555555555555556,
              "#d8576b"
             ],
             [
              0.6666666666666666,
              "#ed7953"
             ],
             [
              0.7777777777777778,
              "#fb9f3a"
             ],
             [
              0.8888888888888888,
              "#fdca26"
             ],
             [
              1,
              "#f0f921"
             ]
            ],
            "type": "heatmap"
           }
          ],
          "heatmapgl": [
           {
            "colorbar": {
             "outlinewidth": 0,
             "ticks": ""
            },
            "colorscale": [
             [
              0,
              "#0d0887"
             ],
             [
              0.1111111111111111,
              "#46039f"
             ],
             [
              0.2222222222222222,
              "#7201a8"
             ],
             [
              0.3333333333333333,
              "#9c179e"
             ],
             [
              0.4444444444444444,
              "#bd3786"
             ],
             [
              0.5555555555555556,
              "#d8576b"
             ],
             [
              0.6666666666666666,
              "#ed7953"
             ],
             [
              0.7777777777777778,
              "#fb9f3a"
             ],
             [
              0.8888888888888888,
              "#fdca26"
             ],
             [
              1,
              "#f0f921"
             ]
            ],
            "type": "heatmapgl"
           }
          ],
          "histogram": [
           {
            "marker": {
             "pattern": {
              "fillmode": "overlay",
              "size": 10,
              "solidity": 0.2
             }
            },
            "type": "histogram"
           }
          ],
          "histogram2d": [
           {
            "colorbar": {
             "outlinewidth": 0,
             "ticks": ""
            },
            "colorscale": [
             [
              0,
              "#0d0887"
             ],
             [
              0.1111111111111111,
              "#46039f"
             ],
             [
              0.2222222222222222,
              "#7201a8"
             ],
             [
              0.3333333333333333,
              "#9c179e"
             ],
             [
              0.4444444444444444,
              "#bd3786"
             ],
             [
              0.5555555555555556,
              "#d8576b"
             ],
             [
              0.6666666666666666,
              "#ed7953"
             ],
             [
              0.7777777777777778,
              "#fb9f3a"
             ],
             [
              0.8888888888888888,
              "#fdca26"
             ],
             [
              1,
              "#f0f921"
             ]
            ],
            "type": "histogram2d"
           }
          ],
          "histogram2dcontour": [
           {
            "colorbar": {
             "outlinewidth": 0,
             "ticks": ""
            },
            "colorscale": [
             [
              0,
              "#0d0887"
             ],
             [
              0.1111111111111111,
              "#46039f"
             ],
             [
              0.2222222222222222,
              "#7201a8"
             ],
             [
              0.3333333333333333,
              "#9c179e"
             ],
             [
              0.4444444444444444,
              "#bd3786"
             ],
             [
              0.5555555555555556,
              "#d8576b"
             ],
             [
              0.6666666666666666,
              "#ed7953"
             ],
             [
              0.7777777777777778,
              "#fb9f3a"
             ],
             [
              0.8888888888888888,
              "#fdca26"
             ],
             [
              1,
              "#f0f921"
             ]
            ],
            "type": "histogram2dcontour"
           }
          ],
          "mesh3d": [
           {
            "colorbar": {
             "outlinewidth": 0,
             "ticks": ""
            },
            "type": "mesh3d"
           }
          ],
          "parcoords": [
           {
            "line": {
             "colorbar": {
              "outlinewidth": 0,
              "ticks": ""
             }
            },
            "type": "parcoords"
           }
          ],
          "pie": [
           {
            "automargin": true,
            "type": "pie"
           }
          ],
          "scatter": [
           {
            "marker": {
             "colorbar": {
              "outlinewidth": 0,
              "ticks": ""
             }
            },
            "type": "scatter"
           }
          ],
          "scatter3d": [
           {
            "line": {
             "colorbar": {
              "outlinewidth": 0,
              "ticks": ""
             }
            },
            "marker": {
             "colorbar": {
              "outlinewidth": 0,
              "ticks": ""
             }
            },
            "type": "scatter3d"
           }
          ],
          "scattercarpet": [
           {
            "marker": {
             "colorbar": {
              "outlinewidth": 0,
              "ticks": ""
             }
            },
            "type": "scattercarpet"
           }
          ],
          "scattergeo": [
           {
            "marker": {
             "colorbar": {
              "outlinewidth": 0,
              "ticks": ""
             }
            },
            "type": "scattergeo"
           }
          ],
          "scattergl": [
           {
            "marker": {
             "colorbar": {
              "outlinewidth": 0,
              "ticks": ""
             }
            },
            "type": "scattergl"
           }
          ],
          "scattermapbox": [
           {
            "marker": {
             "colorbar": {
              "outlinewidth": 0,
              "ticks": ""
             }
            },
            "type": "scattermapbox"
           }
          ],
          "scatterpolar": [
           {
            "marker": {
             "colorbar": {
              "outlinewidth": 0,
              "ticks": ""
             }
            },
            "type": "scatterpolar"
           }
          ],
          "scatterpolargl": [
           {
            "marker": {
             "colorbar": {
              "outlinewidth": 0,
              "ticks": ""
             }
            },
            "type": "scatterpolargl"
           }
          ],
          "scatterternary": [
           {
            "marker": {
             "colorbar": {
              "outlinewidth": 0,
              "ticks": ""
             }
            },
            "type": "scatterternary"
           }
          ],
          "surface": [
           {
            "colorbar": {
             "outlinewidth": 0,
             "ticks": ""
            },
            "colorscale": [
             [
              0,
              "#0d0887"
             ],
             [
              0.1111111111111111,
              "#46039f"
             ],
             [
              0.2222222222222222,
              "#7201a8"
             ],
             [
              0.3333333333333333,
              "#9c179e"
             ],
             [
              0.4444444444444444,
              "#bd3786"
             ],
             [
              0.5555555555555556,
              "#d8576b"
             ],
             [
              0.6666666666666666,
              "#ed7953"
             ],
             [
              0.7777777777777778,
              "#fb9f3a"
             ],
             [
              0.8888888888888888,
              "#fdca26"
             ],
             [
              1,
              "#f0f921"
             ]
            ],
            "type": "surface"
           }
          ],
          "table": [
           {
            "cells": {
             "fill": {
              "color": "#EBF0F8"
             },
             "line": {
              "color": "white"
             }
            },
            "header": {
             "fill": {
              "color": "#C8D4E3"
             },
             "line": {
              "color": "white"
             }
            },
            "type": "table"
           }
          ]
         },
         "layout": {
          "annotationdefaults": {
           "arrowcolor": "#2a3f5f",
           "arrowhead": 0,
           "arrowwidth": 1
          },
          "autotypenumbers": "strict",
          "coloraxis": {
           "colorbar": {
            "outlinewidth": 0,
            "ticks": ""
           }
          },
          "colorscale": {
           "diverging": [
            [
             0,
             "#8e0152"
            ],
            [
             0.1,
             "#c51b7d"
            ],
            [
             0.2,
             "#de77ae"
            ],
            [
             0.3,
             "#f1b6da"
            ],
            [
             0.4,
             "#fde0ef"
            ],
            [
             0.5,
             "#f7f7f7"
            ],
            [
             0.6,
             "#e6f5d0"
            ],
            [
             0.7,
             "#b8e186"
            ],
            [
             0.8,
             "#7fbc41"
            ],
            [
             0.9,
             "#4d9221"
            ],
            [
             1,
             "#276419"
            ]
           ],
           "sequential": [
            [
             0,
             "#0d0887"
            ],
            [
             0.1111111111111111,
             "#46039f"
            ],
            [
             0.2222222222222222,
             "#7201a8"
            ],
            [
             0.3333333333333333,
             "#9c179e"
            ],
            [
             0.4444444444444444,
             "#bd3786"
            ],
            [
             0.5555555555555556,
             "#d8576b"
            ],
            [
             0.6666666666666666,
             "#ed7953"
            ],
            [
             0.7777777777777778,
             "#fb9f3a"
            ],
            [
             0.8888888888888888,
             "#fdca26"
            ],
            [
             1,
             "#f0f921"
            ]
           ],
           "sequentialminus": [
            [
             0,
             "#0d0887"
            ],
            [
             0.1111111111111111,
             "#46039f"
            ],
            [
             0.2222222222222222,
             "#7201a8"
            ],
            [
             0.3333333333333333,
             "#9c179e"
            ],
            [
             0.4444444444444444,
             "#bd3786"
            ],
            [
             0.5555555555555556,
             "#d8576b"
            ],
            [
             0.6666666666666666,
             "#ed7953"
            ],
            [
             0.7777777777777778,
             "#fb9f3a"
            ],
            [
             0.8888888888888888,
             "#fdca26"
            ],
            [
             1,
             "#f0f921"
            ]
           ]
          },
          "colorway": [
           "#636efa",
           "#EF553B",
           "#00cc96",
           "#ab63fa",
           "#FFA15A",
           "#19d3f3",
           "#FF6692",
           "#B6E880",
           "#FF97FF",
           "#FECB52"
          ],
          "font": {
           "color": "#2a3f5f"
          },
          "geo": {
           "bgcolor": "white",
           "lakecolor": "white",
           "landcolor": "#E5ECF6",
           "showlakes": true,
           "showland": true,
           "subunitcolor": "white"
          },
          "hoverlabel": {
           "align": "left"
          },
          "hovermode": "closest",
          "mapbox": {
           "style": "light"
          },
          "paper_bgcolor": "white",
          "plot_bgcolor": "#E5ECF6",
          "polar": {
           "angularaxis": {
            "gridcolor": "white",
            "linecolor": "white",
            "ticks": ""
           },
           "bgcolor": "#E5ECF6",
           "radialaxis": {
            "gridcolor": "white",
            "linecolor": "white",
            "ticks": ""
           }
          },
          "scene": {
           "xaxis": {
            "backgroundcolor": "#E5ECF6",
            "gridcolor": "white",
            "gridwidth": 2,
            "linecolor": "white",
            "showbackground": true,
            "ticks": "",
            "zerolinecolor": "white"
           },
           "yaxis": {
            "backgroundcolor": "#E5ECF6",
            "gridcolor": "white",
            "gridwidth": 2,
            "linecolor": "white",
            "showbackground": true,
            "ticks": "",
            "zerolinecolor": "white"
           },
           "zaxis": {
            "backgroundcolor": "#E5ECF6",
            "gridcolor": "white",
            "gridwidth": 2,
            "linecolor": "white",
            "showbackground": true,
            "ticks": "",
            "zerolinecolor": "white"
           }
          },
          "shapedefaults": {
           "line": {
            "color": "#2a3f5f"
           }
          },
          "ternary": {
           "aaxis": {
            "gridcolor": "white",
            "linecolor": "white",
            "ticks": ""
           },
           "baxis": {
            "gridcolor": "white",
            "linecolor": "white",
            "ticks": ""
           },
           "bgcolor": "#E5ECF6",
           "caxis": {
            "gridcolor": "white",
            "linecolor": "white",
            "ticks": ""
           }
          },
          "title": {
           "x": 0.05
          },
          "xaxis": {
           "automargin": true,
           "gridcolor": "white",
           "linecolor": "white",
           "ticks": "",
           "title": {
            "standoff": 15
           },
           "zerolinecolor": "white",
           "zerolinewidth": 2
          },
          "yaxis": {
           "automargin": true,
           "gridcolor": "white",
           "linecolor": "white",
           "ticks": "",
           "title": {
            "standoff": 15
           },
           "zerolinecolor": "white",
           "zerolinewidth": 2
          }
         }
        },
        "xaxis": {
         "anchor": "y",
         "domain": [
          0,
          1
         ],
         "title": {
          "text": "Date"
         }
        },
        "yaxis": {
         "anchor": "x",
         "domain": [
          0,
          1
         ],
         "title": {
          "text": "value"
         }
        }
       }
      }
     },
     "metadata": {},
     "output_type": "display_data"
    }
   ],
   "source": [
    "px.line(x)"
   ]
  },
  {
   "cell_type": "code",
   "execution_count": 50,
   "metadata": {},
   "outputs": [],
   "source": [
    "returns = (x+1).cumprod()"
   ]
  },
  {
   "cell_type": "code",
   "execution_count": 51,
   "metadata": {},
   "outputs": [
    {
     "data": {
      "text/plain": [
       "(array([10., 20., 39., 20., 40., 56., 17., 24., 19.,  6.]),\n",
       " array([0.46855048, 0.52721141, 0.58587235, 0.64453328, 0.70319422,\n",
       "        0.76185515, 0.82051609, 0.87917702, 0.93783796, 0.99649889,\n",
       "        1.05515983]),\n",
       " <BarContainer object of 10 artists>)"
      ]
     },
     "execution_count": 51,
     "metadata": {},
     "output_type": "execute_result"
    },
    {
     "data": {
      "image/png": "[encoded data removed]",
      "text/plain": [
       "<Figure size 432x288 with 1 Axes>"
      ]
     },
     "metadata": {
      "needs_background": "light"
     },
     "output_type": "display_data"
    }
   ],
   "source": [
    "plt.hist(returns)"
   ]
  },
  {
   "cell_type": "code",
   "execution_count": 52,
   "metadata": {},
   "outputs": [
    {
     "data": {
      "application/vnd.plotly.v1+json": {
       "config": {
        "plotlyServerURL": "https://plot.ly"
       },
       "data": [
        {
         "alignmentgroup": "True",
         "bingroup": "x",
         "hovertemplate": "variable=Close<br>value=%{x}<br>count=%{y}<extra></extra>",
         "legendgroup": "Close",
         "marker": {
          "color": "#636efa",
          "pattern": {
           "shape": ""
          }
         },
         "name": "Close",
         "offsetgroup": "Close",
         "orientation": "v",
         "showlegend": true,
         "type": "histogram",
         "x": [
          null,
          1.0174221220804611,
          0.975348733510809,
          0.9814785783938729,
          0.9515065830351987,
          0.9999384849602572,
          1.0067718879811125,
          0.9630098954671064,
          0.9538634786416802,
          0.8926266253678522,
          0.8873850447759438,
          0.9249732300879075,
          0.9401087479620122,
          0.8828030600028485,
          0.8944383399087594,
          0.8499199700605333,
          0.8429722328035067,
          0.858345195510336,
          0.8151900601357822,
          0.8201590099363696,
          0.7914622438963431,
          0.8254005905282781,
          0.8872619341793906,
          0.938384958059062,
          0.9620776688569724,
          0.9572670156115347,
          0.9552618185568812,
          0.9413223817238493,
          0.929396918305853,
          1.055159827587192,
          1.011019646406076,
          0.9569591988616171,
          0.9363622082836438,
          0.9031713821084791,
          0.9305753661090936,
          0.936098353852705,
          0.9728774231510882,
          0.9072168816593147,
          0.9230911436298074,
          0.9062934314095629,
          0.8756354306338614,
          0.8761806922165033,
          0.8301233191357584,
          0.8178988153282271,
          0.8076970612961134,
          0.8244156252387831,
          0.7291611965383777,
          0.7443319003710788,
          0.8238087680993307,
          0.8189981148538931,
          0.7964927087366733,
          0.7837229433465001,
          0.81202404851572,
          0.7979701969294491,
          0.8108631534332434,
          0.8196577106727062,
          0.7955165198075608,
          0.7563365120666499,
          0.7701968811391745,
          0.8112412615832857,
          0.8120855635554628,
          0.7707157331236022,
          0.7536805760706332,
          0.7225036427934364,
          0.6719434332171712,
          0.7042460756182481,
          0.7122491500819622,
          0.7655093384902903,
          0.7601797527433573,
          0.7738290060643039,
          0.7381229072104402,
          0.7372434192796669,
          0.7075967933916743,
          0.7250276918325175,
          0.7554306950547299,
          0.7372521956400487,
          0.6994793846917888,
          0.673992592590803,
          0.7052310409077427,
          0.738949575944785,
          0.7665382660987634,
          0.7962552639039486,
          0.8101244093368556,
          0.8741667188014679,
          0.8786784121744381,
          0.8917031751181003,
          0.8888185706497412,
          0.9602307683574686,
          0.9670290659367954,
          0.9621216311759508,
          0.9477073046774699,
          0.9538547022812981,
          1.007378745120565,
          0.9597206927334231,
          0.9197052398977851,
          0.9298190692919416,
          0.9018785195519996,
          0.8582924568309752,
          0.8679841352390434,
          0.8991346589180259,
          0.8662692022135429,
          0.8832339873493191,
          0.9042179429547845,
          0.8594093895944732,
          0.8871827859018155,
          0.8839023595285144,
          0.8777197759660899,
          0.7707773286804129,
          0.775253755577719,
          0.7717358843716934,
          0.7657995220023757,
          0.7941006271715956,
          0.7996500245134213,
          0.837792247768409,
          0.7680157542915395,
          0.7613054618672374,
          0.6922326070452272,
          0.7036040325201994,
          0.6455244547645853,
          0.6402476882140806,
          0.6768244583798017,
          0.6370552267372703,
          0.6698063492055822,
          0.6242502753885008,
          0.6239072726799871,
          0.583874226865051,
          0.593548272035287,
          0.5524422960343653,
          0.5793889833488289,
          0.6224210081268293,
          0.6680650468404017,
          0.6668601491804129,
          0.6511265907857718,
          0.6815823729458789,
          0.6187448403656539,
          0.6286739636064466,
          0.6302746026543098,
          0.6381369735421724,
          0.6324380560055791,
          0.6127117367394632,
          0.5691960056770976,
          0.5827924800601497,
          0.614743303133797,
          0.5622394920596888,
          0.5718959442506266,
          0.6253935774916793,
          0.6228871214318964,
          0.6202047758376655,
          0.6482683556570932,
          0.6461928269437809,
          0.6138550388426415,
          0.6028442090554811,
          0.5922466733769594,
          0.5996077852596924,
          0.6149191926682449,
          0.6114013617207531,
          0.6451990450353702,
          0.6616097922281224,
          0.618287543679503,
          0.6149280092871608,
          0.6254023538520614,
          0.6287619285029374,
          0.6333878755950113,
          0.6346542882947429,
          0.6478022423520262,
          0.652999860624956,
          0.7168663208136541,
          0.7182822939666872,
          0.7082299796122735,
          0.6829718559836301,
          0.7250805110289463,
          0.7411218459149708,
          0.7839955741378214,
          0.7843298004859529,
          0.7930628426856727,
          0.8110302263487759,
          0.814293019484245,
          0.7603029438569788,
          0.7662480825866788,
          0.7475419548271878,
          0.7766256858947064,
          0.7562398110683112,
          0.7915941308532791,
          0.8161047340251524,
          0.8088315467803764,
          0.8020597393163316,
          0.7990871296929477,
          0.7827203448191739,
          0.7649024813508384,
          0.7821575305157676,
          0.7838549108205037,
          0.7811461556280587,
          0.7600918281054005,
          0.7514643437814698,
          0.732679067744404,
          0.7271647758441069,
          0.7312543182309886,
          0.7129175222611578,
          0.7240251738222588,
          0.7485093673959179,
          0.7631787719649554,
          0.7906706806035269,
          0.8031766720798289,
          0.7707509190821986,
          0.7984011242759198,
          0.8014089198579,
          0.8003535826512126,
          0.8154451382063387,
          0.814548097554801,
          0.7936256569890784,
          0.7614110197430263,
          0.7264260317477185,
          0.7282201935678615,
          0.746504170341264,
          0.7593530840090121,
          0.7076407557106527,
          0.6998311637606847,
          0.639544089817755,
          0.6581183306203104,
          0.6353490700721518,
          0.6282782222185718,
          0.5885441765346369,
          0.5882539527640177,
          0.5712099790921327,
          0.5731623972088916,
          0.5849823430096327,
          0.5408422020870505,
          0.5787293875300155,
          0.5809456198191794,
          0.5858266047232759,
          0.5468840820736234,
          0.5657749159864782,
          0.5573584668970578,
          0.5868292032506024,
          0.5926864173423454,
          0.5938736817645022,
          0.6029233573330552,
          0.6003377127371635,
          0.6010764970920853,
          0.5671996252413595,
          0.5680702965532168,
          0.5473853813372866,
          0.5199725807177561,
          0.5047227286074802,
          0.4685504761900157,
          0.5031924614768098,
          0.5170439736718846,
          0.5037992783577283,
          0.5129544715435366,
          0.493166596979144,
          0.4832726596969477,
          0.47541028880908526
         ],
         "xaxis": "x",
         "yaxis": "y"
        }
       ],
       "layout": {
        "barmode": "relative",
        "legend": {
         "title": {
          "text": "variable"
         },
         "tracegroupgap": 0
        },
        "margin": {
         "t": 60
        },
        "template": {
         "data": {
          "bar": [
           {
            "error_x": {
             "color": "#2a3f5f"
            },
            "error_y": {
             "color": "#2a3f5f"
            },
            "marker": {
             "line": {
              "color": "#E5ECF6",
              "width": 0.5
             },
             "pattern": {
              "fillmode": "overlay",
              "size": 10,
              "solidity": 0.2
             }
            },
            "type": "bar"
           }
          ],
          "barpolar": [
           {
            "marker": {
             "line": {
              "color": "#E5ECF6",
              "width": 0.5
             },
             "pattern": {
              "fillmode": "overlay",
              "size": 10,
              "solidity": 0.2
             }
            },
            "type": "barpolar"
           }
          ],
          "carpet": [
           {
            "aaxis": {
             "endlinecolor": "#2a3f5f",
             "gridcolor": "white",
             "linecolor": "white",
             "minorgridcolor": "white",
             "startlinecolor": "#2a3f5f"
            },
            "baxis": {
             "endlinecolor": "#2a3f5f",
             "gridcolor": "white",
             "linecolor": "white",
             "minorgridcolor": "white",
             "startlinecolor": "#2a3f5f"
            },
            "type": "carpet"
           }
          ],
          "choropleth": [
           {
            "colorbar": {
             "outlinewidth": 0,
             "ticks": ""
            },
            "type": "choropleth"
           }
          ],
          "contour": [
           {
            "colorbar": {
             "outlinewidth": 0,
             "ticks": ""
            },
            "colorscale": [
             [
              0,
              "#0d0887"
             ],
             [
              0.1111111111111111,
              "#46039f"
             ],
             [
              0.2222222222222222,
              "#7201a8"
             ],
             [
              0.3333333333333333,
              "#9c179e"
             ],
             [
              0.4444444444444444,
              "#bd3786"
             ],
             [
              0.5555555555555556,
              "#d8576b"
             ],
             [
              0.6666666666666666,
              "#ed7953"
             ],
             [
              0.7777777777777778,
              "#fb9f3a"
             ],
             [
              0.8888888888888888,
              "#fdca26"
             ],
             [
              1,
              "#f0f921"
             ]
            ],
            "type": "contour"
           }
          ],
          "contourcarpet": [
           {
            "colorbar": {
             "outlinewidth": 0,
             "ticks": ""
            },
            "type": "contourcarpet"
           }
          ],
          "heatmap": [
           {
            "colorbar": {
             "outlinewidth": 0,
             "ticks": ""
            },
            "colorscale": [
             [
              0,
              "#0d0887"
             ],
             [
              0.1111111111111111,
              "#46039f"
             ],
             [
              0.2222222222222222,
              "#7201a8"
             ],
             [
              0.3333333333333333,
              "#9c179e"
             ],
             [
              0.4444444444444444,
              "#bd3786"
             ],
             [
              0.5555555555555556,
              "#d8576b"
             ],
             [
              0.6666666666666666,
              "#ed7953"
             ],
             [
              0.7777777777777778,
              "#fb9f3a"
             ],
             [
              0.8888888888888888,
              "#fdca26"
             ],
             [
              1,
              "#f0f921"
             ]
            ],
            "type": "heatmap"
           }
          ],
          "heatmapgl": [
           {
            "colorbar": {
             "outlinewidth": 0,
             "ticks": ""
            },
            "colorscale": [
             [
              0,
              "#0d0887"
             ],
             [
              0.1111111111111111,
              "#46039f"
             ],
             [
              0.2222222222222222,
              "#7201a8"
             ],
             [
              0.3333333333333333,
              "#9c179e"
             ],
             [
              0.4444444444444444,
              "#bd3786"
             ],
             [
              0.5555555555555556,
              "#d8576b"
             ],
             [
              0.6666666666666666,
              "#ed7953"
             ],
             [
              0.7777777777777778,
              "#fb9f3a"
             ],
             [
              0.8888888888888888,
              "#fdca26"
             ],
             [
              1,
              "#f0f921"
             ]
            ],
            "type": "heatmapgl"
           }
          ],
          "histogram": [
           {
            "marker": {
             "pattern": {
              "fillmode": "overlay",
              "size": 10,
              "solidity": 0.2
             }
            },
            "type": "histogram"
           }
          ],
          "histogram2d": [
           {
            "colorbar": {
             "outlinewidth": 0,
             "ticks": ""
            },
            "colorscale": [
             [
              0,
              "#0d0887"
             ],
             [
              0.1111111111111111,
              "#46039f"
             ],
             [
              0.2222222222222222,
              "#7201a8"
             ],
             [
              0.3333333333333333,
              "#9c179e"
             ],
             [
              0.4444444444444444,
              "#bd3786"
             ],
             [
              0.5555555555555556,
              "#d8576b"
             ],
             [
              0.6666666666666666,
              "#ed7953"
             ],
             [
              0.7777777777777778,
              "#fb9f3a"
             ],
             [
              0.8888888888888888,
              "#fdca26"
             ],
             [
              1,
              "#f0f921"
             ]
            ],
            "type": "histogram2d"
           }
          ],
          "histogram2dcontour": [
           {
            "colorbar": {
             "outlinewidth": 0,
             "ticks": ""
            },
            "colorscale": [
             [
              0,
              "#0d0887"
             ],
             [
              0.1111111111111111,
              "#46039f"
             ],
             [
              0.2222222222222222,
              "#7201a8"
             ],
             [
              0.3333333333333333,
              "#9c179e"
             ],
             [
              0.4444444444444444,
              "#bd3786"
             ],
             [
              0.5555555555555556,
              "#d8576b"
             ],
             [
              0.6666666666666666,
              "#ed7953"
             ],
             [
              0.7777777777777778,
              "#fb9f3a"
             ],
             [
              0.8888888888888888,
              "#fdca26"
             ],
             [
              1,
              "#f0f921"
             ]
            ],
            "type": "histogram2dcontour"
           }
          ],
          "mesh3d": [
           {
            "colorbar": {
             "outlinewidth": 0,
             "ticks": ""
            },
            "type": "mesh3d"
           }
          ],
          "parcoords": [
           {
            "line": {
             "colorbar": {
              "outlinewidth": 0,
              "ticks": ""
             }
            },
            "type": "parcoords"
           }
          ],
          "pie": [
           {
            "automargin": true,
            "type": "pie"
           }
          ],
          "scatter": [
           {
            "marker": {
             "colorbar": {
              "outlinewidth": 0,
              "ticks": ""
             }
            },
            "type": "scatter"
           }
          ],
          "scatter3d": [
           {
            "line": {
             "colorbar": {
              "outlinewidth": 0,
              "ticks": ""
             }
            },
            "marker": {
             "colorbar": {
              "outlinewidth": 0,
              "ticks": ""
             }
            },
            "type": "scatter3d"
           }
          ],
          "scattercarpet": [
           {
            "marker": {
             "colorbar": {
              "outlinewidth": 0,
              "ticks": ""
             }
            },
            "type": "scattercarpet"
           }
          ],
          "scattergeo": [
           {
            "marker": {
             "colorbar": {
              "outlinewidth": 0,
              "ticks": ""
             }
            },
            "type": "scattergeo"
           }
          ],
          "scattergl": [
           {
            "marker": {
             "colorbar": {
              "outlinewidth": 0,
              "ticks": ""
             }
            },
            "type": "scattergl"
           }
          ],
          "scattermapbox": [
           {
            "marker": {
             "colorbar": {
              "outlinewidth": 0,
              "ticks": ""
             }
            },
            "type": "scattermapbox"
           }
          ],
          "scatterpolar": [
           {
            "marker": {
             "colorbar": {
              "outlinewidth": 0,
              "ticks": ""
             }
            },
            "type": "scatterpolar"
           }
          ],
          "scatterpolargl": [
           {
            "marker": {
             "colorbar": {
              "outlinewidth": 0,
              "ticks": ""
             }
            },
            "type": "scatterpolargl"
           }
          ],
          "scatterternary": [
           {
            "marker": {
             "colorbar": {
              "outlinewidth": 0,
              "ticks": ""
             }
            },
            "type": "scatterternary"
           }
          ],
          "surface": [
           {
            "colorbar": {
             "outlinewidth": 0,
             "ticks": ""
            },
            "colorscale": [
             [
              0,
              "#0d0887"
             ],
             [
              0.1111111111111111,
              "#46039f"
             ],
             [
              0.2222222222222222,
              "#7201a8"
             ],
             [
              0.3333333333333333,
              "#9c179e"
             ],
             [
              0.4444444444444444,
              "#bd3786"
             ],
             [
              0.5555555555555556,
              "#d8576b"
             ],
             [
              0.6666666666666666,
              "#ed7953"
             ],
             [
              0.7777777777777778,
              "#fb9f3a"
             ],
             [
              0.8888888888888888,
              "#fdca26"
             ],
             [
              1,
              "#f0f921"
             ]
            ],
            "type": "surface"
           }
          ],
          "table": [
           {
            "cells": {
             "fill": {
              "color": "#EBF0F8"
             },
             "line": {
              "color": "white"
             }
            },
            "header": {
             "fill": {
              "color": "#C8D4E3"
             },
             "line": {
              "color": "white"
             }
            },
            "type": "table"
           }
          ]
         },
         "layout": {
          "annotationdefaults": {
           "arrowcolor": "#2a3f5f",
           "arrowhead": 0,
           "arrowwidth": 1
          },
          "autotypenumbers": "strict",
          "coloraxis": {
           "colorbar": {
            "outlinewidth": 0,
            "ticks": ""
           }
          },
          "colorscale": {
           "diverging": [
            [
             0,
             "#8e0152"
            ],
            [
             0.1,
             "#c51b7d"
            ],
            [
             0.2,
             "#de77ae"
            ],
            [
             0.3,
             "#f1b6da"
            ],
            [
             0.4,
             "#fde0ef"
            ],
            [
             0.5,
             "#f7f7f7"
            ],
            [
             0.6,
             "#e6f5d0"
            ],
            [
             0.7,
             "#b8e186"
            ],
            [
             0.8,
             "#7fbc41"
            ],
            [
             0.9,
             "#4d9221"
            ],
            [
             1,
             "#276419"
            ]
           ],
           "sequential": [
            [
             0,
             "#0d0887"
            ],
            [
             0.1111111111111111,
             "#46039f"
            ],
            [
             0.2222222222222222,
             "#7201a8"
            ],
            [
             0.3333333333333333,
             "#9c179e"
            ],
            [
             0.4444444444444444,
             "#bd3786"
            ],
            [
             0.5555555555555556,
             "#d8576b"
            ],
            [
             0.6666666666666666,
             "#ed7953"
            ],
            [
             0.7777777777777778,
             "#fb9f3a"
            ],
            [
             0.8888888888888888,
             "#fdca26"
            ],
            [
             1,
             "#f0f921"
            ]
           ],
           "sequentialminus": [
            [
             0,
             "#0d0887"
            ],
            [
             0.1111111111111111,
             "#46039f"
            ],
            [
             0.2222222222222222,
             "#7201a8"
            ],
            [
             0.3333333333333333,
             "#9c179e"
            ],
            [
             0.4444444444444444,
             "#bd3786"
            ],
            [
             0.5555555555555556,
             "#d8576b"
            ],
            [
             0.6666666666666666,
             "#ed7953"
            ],
            [
             0.7777777777777778,
             "#fb9f3a"
            ],
            [
             0.8888888888888888,
             "#fdca26"
            ],
            [
             1,
             "#f0f921"
            ]
           ]
          },
          "colorway": [
           "#636efa",
           "#EF553B",
           "#00cc96",
           "#ab63fa",
           "#FFA15A",
           "#19d3f3",
           "#FF6692",
           "#B6E880",
           "#FF97FF",
           "#FECB52"
          ],
          "font": {
           "color": "#2a3f5f"
          },
          "geo": {
           "bgcolor": "white",
           "lakecolor": "white",
           "landcolor": "#E5ECF6",
           "showlakes": true,
           "showland": true,
           "subunitcolor": "white"
          },
          "hoverlabel": {
           "align": "left"
          },
          "hovermode": "closest",
          "mapbox": {
           "style": "light"
          },
          "paper_bgcolor": "white",
          "plot_bgcolor": "#E5ECF6",
          "polar": {
           "angularaxis": {
            "gridcolor": "white",
            "linecolor": "white",
            "ticks": ""
           },
           "bgcolor": "#E5ECF6",
           "radialaxis": {
            "gridcolor": "white",
            "linecolor": "white",
            "ticks": ""
           }
          },
          "scene": {
           "xaxis": {
            "backgroundcolor": "#E5ECF6",
            "gridcolor": "white",
            "gridwidth": 2,
            "linecolor": "white",
            "showbackground": true,
            "ticks": "",
            "zerolinecolor": "white"
           },
           "yaxis": {
            "backgroundcolor": "#E5ECF6",
            "gridcolor": "white",
            "gridwidth": 2,
            "linecolor": "white",
            "showbackground": true,
            "ticks": "",
            "zerolinecolor": "white"
           },
           "zaxis": {
            "backgroundcolor": "#E5ECF6",
            "gridcolor": "white",
            "gridwidth": 2,
            "linecolor": "white",
            "showbackground": true,
            "ticks": "",
            "zerolinecolor": "white"
           }
          },
          "shapedefaults": {
           "line": {
            "color": "#2a3f5f"
           }
          },
          "ternary": {
           "aaxis": {
            "gridcolor": "white",
            "linecolor": "white",
            "ticks": ""
           },
           "baxis": {
            "gridcolor": "white",
            "linecolor": "white",
            "ticks": ""
           },
           "bgcolor": "#E5ECF6",
           "caxis": {
            "gridcolor": "white",
            "linecolor": "white",
            "ticks": ""
           }
          },
          "title": {
           "x": 0.05
          },
          "xaxis": {
           "automargin": true,
           "gridcolor": "white",
           "linecolor": "white",
           "ticks": "",
           "title": {
            "standoff": 15
           },
           "zerolinecolor": "white",
           "zerolinewidth": 2
          },
          "yaxis": {
           "automargin": true,
           "gridcolor": "white",
           "linecolor": "white",
           "ticks": "",
           "title": {
            "standoff": 15
           },
           "zerolinecolor": "white",
           "zerolinewidth": 2
          }
         }
        },
        "xaxis": {
         "anchor": "y",
         "domain": [
          0,
          1
         ],
         "title": {
          "text": "value"
         }
        },
        "yaxis": {
         "anchor": "x",
         "domain": [
          0,
          1
         ],
         "title": {
          "text": "count"
         }
        }
       }
      }
     },
     "metadata": {},
     "output_type": "display_data"
    }
   ],
   "source": [
    "px.histogram(returns)"
   ]
  },
  {
   "cell_type": "markdown",
   "metadata": {},
   "source": [
    "# Analyzing a Portfolio"
   ]
  },
  {
   "cell_type": "code",
   "execution_count": 53,
   "metadata": {},
   "outputs": [],
   "source": [
    "stocks = ['AAPL','AMZN','MSFT','TSLA']\n",
    "weights = [0.3,0.2,0.4,0.1]"
   ]
  },
  {
   "cell_type": "code",
   "execution_count": 54,
   "metadata": {},
   "outputs": [
    {
     "name": "stdout",
     "output_type": "stream",
     "text": [
      "[*********************100%***********************]  4 of 4 completed\n"
     ]
    }
   ],
   "source": [
    "data = yf.download(stocks, start='2021-01-01')"
   ]
  },
  {
   "cell_type": "code",
   "execution_count": 55,
   "metadata": {},
   "outputs": [],
   "source": [
    "# daily return\n",
    "x = data['Close'].pct_change()"
   ]
  },
  {
   "cell_type": "code",
   "execution_count": 56,
   "metadata": {},
   "outputs": [],
   "source": [
    "# portfolio return\n",
    "ret = (x*weights).sum(axis=1)"
   ]
  },
  {
   "cell_type": "code",
   "execution_count": 57,
   "metadata": {},
   "outputs": [],
   "source": [
    "# total cumulative return\n",
    "cumulative = (ret + 1).cumprod()"
   ]
  },
  {
   "cell_type": "code",
   "execution_count": 58,
   "metadata": {},
   "outputs": [
    {
     "data": {
      "application/vnd.plotly.v1+json": {
       "config": {
        "plotlyServerURL": "https://plot.ly"
       },
       "data": [
        {
         "hovertemplate": "variable=0<br>Date=%{x}<br>value=%{y}<extra></extra>",
         "legendgroup": "0",
         "line": {
          "color": "#636efa",
          "dash": "solid"
         },
         "marker": {
          "symbol": "circle"
         },
         "mode": "lines",
         "name": "0",
         "orientation": "v",
         "showlegend": true,
         "type": "scatter",
         "x": [
          "2021-01-04T00:00:00",
          "2021-01-05T00:00:00",
          "2021-01-06T00:00:00",
          "2021-01-07T00:00:00",
          "2021-01-08T00:00:00",
          "2021-01-11T00:00:00",
          "2021-01-12T00:00:00",
          "2021-01-13T00:00:00",
          "2021-01-14T00:00:00",
          "2021-01-15T00:00:00",
          "2021-01-19T00:00:00",
          "2021-01-20T00:00:00",
          "2021-01-21T00:00:00",
          "2021-01-22T00:00:00",
          "2021-01-25T00:00:00",
          "2021-01-26T00:00:00",
          "2021-01-27T00:00:00",
          "2021-01-28T00:00:00",
          "2021-01-29T00:00:00",
          "2021-02-01T00:00:00",
          "2021-02-02T00:00:00",
          "2021-02-03T00:00:00",
          "2021-02-04T00:00:00",
          "2021-02-05T00:00:00",
          "2021-02-08T00:00:00",
          "2021-02-09T00:00:00",
          "2021-02-10T00:00:00",
          "2021-02-11T00:00:00",
          "2021-02-12T00:00:00",
          "2021-02-16T00:00:00",
          "2021-02-17T00:00:00",
          "2021-02-18T00:00:00",
          "2021-02-19T00:00:00",
          "2021-02-22T00:00:00",
          "2021-02-23T00:00:00",
          "2021-02-24T00:00:00",
          "2021-02-25T00:00:00",
          "2021-02-26T00:00:00",
          "2021-03-01T00:00:00",
          "2021-03-02T00:00:00",
          "2021-03-03T00:00:00",
          "2021-03-04T00:00:00",
          "2021-03-05T00:00:00",
          "2021-03-08T00:00:00",
          "2021-03-09T00:00:00",
          "2021-03-10T00:00:00",
          "2021-03-11T00:00:00",
          "2021-03-12T00:00:00",
          "2021-03-15T00:00:00",
          "2021-03-16T00:00:00",
          "2021-03-17T00:00:00",
          "2021-03-18T00:00:00",
          "2021-03-19T00:00:00",
          "2021-03-22T00:00:00",
          "2021-03-23T00:00:00",
          "2021-03-24T00:00:00",
          "2021-03-25T00:00:00",
          "2021-03-26T00:00:00",
          "2021-03-29T00:00:00",
          "2021-03-30T00:00:00",
          "2021-03-31T00:00:00",
          "2021-04-01T00:00:00",
          "2021-04-05T00:00:00",
          "2021-04-06T00:00:00",
          "2021-04-07T00:00:00",
          "2021-04-08T00:00:00",
          "2021-04-09T00:00:00",
          "2021-04-12T00:00:00",
          "2021-04-13T00:00:00",
          "2021-04-14T00:00:00",
          "2021-04-15T00:00:00",
          "2021-04-16T00:00:00",
          "2021-04-19T00:00:00",
          "2021-04-20T00:00:00",
          "2021-04-21T00:00:00",
          "2021-04-22T00:00:00",
          "2021-04-23T00:00:00",
          "2021-04-26T00:00:00",
          "2021-04-27T00:00:00",
          "2021-04-28T00:00:00",
          "2021-04-29T00:00:00",
          "2021-04-30T00:00:00",
          "2021-05-03T00:00:00",
          "2021-05-04T00:00:00",
          "2021-05-05T00:00:00",
          "2021-05-06T00:00:00",
          "2021-05-07T00:00:00",
          "2021-05-10T00:00:00",
          "2021-05-11T00:00:00",
          "2021-05-12T00:00:00",
          "2021-05-13T00:00:00",
          "2021-05-14T00:00:00",
          "2021-05-17T00:00:00",
          "2021-05-18T00:00:00",
          "2021-05-19T00:00:00",
          "2021-05-20T00:00:00",
          "2021-05-21T00:00:00",
          "2021-05-24T00:00:00",
          "2021-05-25T00:00:00",
          "2021-05-26T00:00:00",
          "2021-05-27T00:00:00",
          "2021-05-28T00:00:00",
          "2021-06-01T00:00:00",
          "2021-06-02T00:00:00",
          "2021-06-03T00:00:00",
          "2021-06-04T00:00:00",
          "2021-06-07T00:00:00",
          "2021-06-08T00:00:00",
          "2021-06-09T00:00:00",
          "2021-06-10T00:00:00",
          "2021-06-11T00:00:00",
          "2021-06-14T00:00:00",
          "2021-06-15T00:00:00",
          "2021-06-16T00:00:00",
          "2021-06-17T00:00:00",
          "2021-06-18T00:00:00",
          "2021-06-21T00:00:00",
          "2021-06-22T00:00:00",
          "2021-06-23T00:00:00",
          "2021-06-24T00:00:00",
          "2021-06-25T00:00:00",
          "2021-06-28T00:00:00",
          "2021-06-29T00:00:00",
          "2021-06-30T00:00:00",
          "2021-07-01T00:00:00",
          "2021-07-02T00:00:00",
          "2021-07-06T00:00:00",
          "2021-07-07T00:00:00",
          "2021-07-08T00:00:00",
          "2021-07-09T00:00:00",
          "2021-07-12T00:00:00",
          "2021-07-13T00:00:00",
          "2021-07-14T00:00:00",
          "2021-07-15T00:00:00",
          "2021-07-16T00:00:00",
          "2021-07-19T00:00:00",
          "2021-07-20T00:00:00",
          "2021-07-21T00:00:00",
          "2021-07-22T00:00:00",
          "2021-07-23T00:00:00",
          "2021-07-26T00:00:00",
          "2021-07-27T00:00:00",
          "2021-07-28T00:00:00",
          "2021-07-29T00:00:00",
          "2021-07-30T00:00:00",
          "2021-08-02T00:00:00",
          "2021-08-03T00:00:00",
          "2021-08-04T00:00:00",
          "2021-08-05T00:00:00",
          "2021-08-06T00:00:00",
          "2021-08-09T00:00:00",
          "2021-08-10T00:00:00",
          "2021-08-11T00:00:00",
          "2021-08-12T00:00:00",
          "2021-08-13T00:00:00",
          "2021-08-16T00:00:00",
          "2021-08-17T00:00:00",
          "2021-08-18T00:00:00",
          "2021-08-19T00:00:00",
          "2021-08-20T00:00:00",
          "2021-08-23T00:00:00",
          "2021-08-24T00:00:00",
          "2021-08-25T00:00:00",
          "2021-08-26T00:00:00",
          "2021-08-27T00:00:00",
          "2021-08-30T00:00:00",
          "2021-08-31T00:00:00",
          "2021-09-01T00:00:00",
          "2021-09-02T00:00:00",
          "2021-09-03T00:00:00",
          "2021-09-07T00:00:00",
          "2021-09-08T00:00:00",
          "2021-09-09T00:00:00",
          "2021-09-10T00:00:00",
          "2021-09-13T00:00:00",
          "2021-09-14T00:00:00",
          "2021-09-15T00:00:00",
          "2021-09-16T00:00:00",
          "2021-09-17T00:00:00",
          "2021-09-20T00:00:00",
          "2021-09-21T00:00:00",
          "2021-09-22T00:00:00",
          "2021-09-23T00:00:00",
          "2021-09-24T00:00:00",
          "2021-09-27T00:00:00",
          "2021-09-28T00:00:00",
          "2021-09-29T00:00:00",
          "2021-09-30T00:00:00",
          "2021-10-01T00:00:00",
          "2021-10-04T00:00:00",
          "2021-10-05T00:00:00",
          "2021-10-06T00:00:00",
          "2021-10-07T00:00:00",
          "2021-10-08T00:00:00",
          "2021-10-11T00:00:00",
          "2021-10-12T00:00:00",
          "2021-10-13T00:00:00",
          "2021-10-14T00:00:00",
          "2021-10-15T00:00:00",
          "2021-10-18T00:00:00",
          "2021-10-19T00:00:00",
          "2021-10-20T00:00:00",
          "2021-10-21T00:00:00",
          "2021-10-22T00:00:00",
          "2021-10-25T00:00:00",
          "2021-10-26T00:00:00",
          "2021-10-27T00:00:00",
          "2021-10-28T00:00:00",
          "2021-10-29T00:00:00",
          "2021-11-01T00:00:00",
          "2021-11-02T00:00:00",
          "2021-11-03T00:00:00",
          "2021-11-04T00:00:00",
          "2021-11-05T00:00:00",
          "2021-11-08T00:00:00",
          "2021-11-09T00:00:00",
          "2021-11-10T00:00:00",
          "2021-11-11T00:00:00",
          "2021-11-12T00:00:00",
          "2021-11-15T00:00:00",
          "2021-11-16T00:00:00",
          "2021-11-17T00:00:00",
          "2021-11-18T00:00:00",
          "2021-11-19T00:00:00",
          "2021-11-22T00:00:00",
          "2021-11-23T00:00:00",
          "2021-11-24T00:00:00",
          "2021-11-26T00:00:00",
          "2021-11-29T00:00:00",
          "2021-11-30T00:00:00",
          "2021-12-01T00:00:00",
          "2021-12-02T00:00:00",
          "2021-12-03T00:00:00",
          "2021-12-06T00:00:00",
          "2021-12-07T00:00:00",
          "2021-12-08T00:00:00",
          "2021-12-09T00:00:00",
          "2021-12-10T00:00:00",
          "2021-12-13T00:00:00",
          "2021-12-14T00:00:00",
          "2021-12-15T00:00:00",
          "2021-12-16T00:00:00",
          "2021-12-17T00:00:00",
          "2021-12-20T00:00:00",
          "2021-12-21T00:00:00",
          "2021-12-22T00:00:00",
          "2021-12-23T00:00:00",
          "2021-12-27T00:00:00",
          "2021-12-28T00:00:00",
          "2021-12-29T00:00:00",
          "2021-12-30T00:00:00",
          "2021-12-31T00:00:00",
          "2022-01-03T00:00:00",
          "2022-01-04T00:00:00",
          "2022-01-05T00:00:00",
          "2022-01-06T00:00:00",
          "2022-01-07T00:00:00",
          "2022-01-10T00:00:00",
          "2022-01-11T00:00:00",
          "2022-01-12T00:00:00",
          "2022-01-13T00:00:00",
          "2022-01-14T00:00:00",
          "2022-01-18T00:00:00",
          "2022-01-19T00:00:00",
          "2022-01-20T00:00:00",
          "2022-01-21T00:00:00",
          "2022-01-24T00:00:00",
          "2022-01-25T00:00:00",
          "2022-01-26T00:00:00",
          "2022-01-27T00:00:00",
          "2022-01-28T00:00:00",
          "2022-01-31T00:00:00",
          "2022-02-01T00:00:00",
          "2022-02-02T00:00:00",
          "2022-02-03T00:00:00",
          "2022-02-04T00:00:00",
          "2022-02-07T00:00:00",
          "2022-02-08T00:00:00",
          "2022-02-09T00:00:00",
          "2022-02-10T00:00:00",
          "2022-02-11T00:00:00",
          "2022-02-14T00:00:00",
          "2022-02-15T00:00:00",
          "2022-02-16T00:00:00",
          "2022-02-17T00:00:00",
          "2022-02-18T00:00:00",
          "2022-02-22T00:00:00",
          "2022-02-23T00:00:00",
          "2022-02-24T00:00:00",
          "2022-02-25T00:00:00",
          "2022-02-28T00:00:00",
          "2022-03-01T00:00:00",
          "2022-03-02T00:00:00",
          "2022-03-03T00:00:00",
          "2022-03-04T00:00:00",
          "2022-03-07T00:00:00",
          "2022-03-08T00:00:00",
          "2022-03-09T00:00:00",
          "2022-03-10T00:00:00",
          "2022-03-11T00:00:00",
          "2022-03-14T00:00:00",
          "2022-03-15T00:00:00",
          "2022-03-16T00:00:00",
          "2022-03-17T00:00:00",
          "2022-03-18T00:00:00",
          "2022-03-21T00:00:00",
          "2022-03-22T00:00:00",
          "2022-03-23T00:00:00",
          "2022-03-24T00:00:00",
          "2022-03-25T00:00:00",
          "2022-03-28T00:00:00",
          "2022-03-29T00:00:00",
          "2022-03-30T00:00:00",
          "2022-03-31T00:00:00",
          "2022-04-01T00:00:00",
          "2022-04-04T00:00:00",
          "2022-04-05T00:00:00",
          "2022-04-06T00:00:00",
          "2022-04-07T00:00:00",
          "2022-04-08T00:00:00",
          "2022-04-11T00:00:00",
          "2022-04-12T00:00:00",
          "2022-04-13T00:00:00",
          "2022-04-14T00:00:00",
          "2022-04-18T00:00:00",
          "2022-04-19T00:00:00",
          "2022-04-20T00:00:00",
          "2022-04-21T00:00:00",
          "2022-04-22T00:00:00",
          "2022-04-25T00:00:00",
          "2022-04-26T00:00:00",
          "2022-04-27T00:00:00",
          "2022-04-28T00:00:00",
          "2022-04-29T00:00:00",
          "2022-05-02T00:00:00",
          "2022-05-03T00:00:00",
          "2022-05-04T00:00:00",
          "2022-05-05T00:00:00",
          "2022-05-06T00:00:00",
          "2022-05-09T00:00:00",
          "2022-05-10T00:00:00",
          "2022-05-11T00:00:00",
          "2022-05-12T00:00:00",
          "2022-05-13T00:00:00",
          "2022-05-16T00:00:00",
          "2022-05-17T00:00:00",
          "2022-05-18T00:00:00",
          "2022-05-19T00:00:00",
          "2022-05-20T00:00:00",
          "2022-05-23T00:00:00",
          "2022-05-24T00:00:00",
          "2022-05-25T00:00:00",
          "2022-05-26T00:00:00",
          "2022-05-27T00:00:00",
          "2022-05-31T00:00:00",
          "2022-06-01T00:00:00",
          "2022-06-02T00:00:00",
          "2022-06-03T00:00:00",
          "2022-06-06T00:00:00",
          "2022-06-07T00:00:00",
          "2022-06-08T00:00:00",
          "2022-06-09T00:00:00",
          "2022-06-10T00:00:00",
          "2022-06-13T00:00:00",
          "2022-06-14T00:00:00",
          "2022-06-15T00:00:00",
          "2022-06-16T00:00:00",
          "2022-06-17T00:00:00",
          "2022-06-21T00:00:00",
          "2022-06-22T00:00:00",
          "2022-06-23T00:00:00",
          "2022-06-24T00:00:00",
          "2022-06-27T00:00:00",
          "2022-06-28T00:00:00",
          "2022-06-29T00:00:00",
          "2022-06-30T00:00:00",
          "2022-07-01T00:00:00",
          "2022-07-05T00:00:00",
          "2022-07-06T00:00:00",
          "2022-07-07T00:00:00",
          "2022-07-08T00:00:00",
          "2022-07-11T00:00:00",
          "2022-07-12T00:00:00",
          "2022-07-13T00:00:00",
          "2022-07-14T00:00:00",
          "2022-07-15T00:00:00",
          "2022-07-18T00:00:00",
          "2022-07-19T00:00:00",
          "2022-07-20T00:00:00",
          "2022-07-21T00:00:00",
          "2022-07-22T00:00:00",
          "2022-07-25T00:00:00",
          "2022-07-26T00:00:00",
          "2022-07-27T00:00:00",
          "2022-07-28T00:00:00",
          "2022-07-29T00:00:00",
          "2022-08-01T00:00:00",
          "2022-08-02T00:00:00",
          "2022-08-03T00:00:00",
          "2022-08-04T00:00:00",
          "2022-08-05T00:00:00",
          "2022-08-08T00:00:00",
          "2022-08-09T00:00:00",
          "2022-08-10T00:00:00",
          "2022-08-11T00:00:00",
          "2022-08-12T00:00:00",
          "2022-08-15T00:00:00",
          "2022-08-16T00:00:00",
          "2022-08-17T00:00:00",
          "2022-08-18T00:00:00",
          "2022-08-19T00:00:00",
          "2022-08-22T00:00:00",
          "2022-08-23T00:00:00",
          "2022-08-24T00:00:00",
          "2022-08-25T00:00:00",
          "2022-08-26T00:00:00",
          "2022-08-29T00:00:00",
          "2022-08-30T00:00:00",
          "2022-08-31T00:00:00",
          "2022-09-01T00:00:00",
          "2022-09-02T00:00:00",
          "2022-09-06T00:00:00",
          "2022-09-07T00:00:00",
          "2022-09-08T00:00:00",
          "2022-09-09T00:00:00",
          "2022-09-12T00:00:00",
          "2022-09-13T00:00:00",
          "2022-09-14T00:00:00",
          "2022-09-15T00:00:00",
          "2022-09-16T00:00:00",
          "2022-09-19T00:00:00",
          "2022-09-20T00:00:00",
          "2022-09-21T00:00:00",
          "2022-09-22T00:00:00",
          "2022-09-23T00:00:00",
          "2022-09-26T00:00:00",
          "2022-09-27T00:00:00",
          "2022-09-28T00:00:00",
          "2022-09-29T00:00:00",
          "2022-09-30T00:00:00",
          "2022-10-03T00:00:00",
          "2022-10-04T00:00:00",
          "2022-10-05T00:00:00",
          "2022-10-06T00:00:00",
          "2022-10-07T00:00:00",
          "2022-10-10T00:00:00",
          "2022-10-11T00:00:00",
          "2022-10-12T00:00:00",
          "2022-10-13T00:00:00",
          "2022-10-14T00:00:00",
          "2022-10-17T00:00:00",
          "2022-10-18T00:00:00",
          "2022-10-19T00:00:00",
          "2022-10-20T00:00:00",
          "2022-10-21T00:00:00",
          "2022-10-24T00:00:00",
          "2022-10-25T00:00:00",
          "2022-10-26T00:00:00",
          "2022-10-27T00:00:00",
          "2022-10-28T00:00:00",
          "2022-10-31T00:00:00",
          "2022-11-01T00:00:00",
          "2022-11-02T00:00:00",
          "2022-11-03T00:00:00",
          "2022-11-04T00:00:00",
          "2022-11-07T00:00:00",
          "2022-11-08T00:00:00",
          "2022-11-09T00:00:00",
          "2022-11-10T00:00:00",
          "2022-11-11T00:00:00",
          "2022-11-14T00:00:00",
          "2022-11-15T00:00:00",
          "2022-11-16T00:00:00",
          "2022-11-17T00:00:00",
          "2022-11-18T00:00:00"
         ],
         "xaxis": "x",
         "y": [
          1,
          1.0068275828358806,
          0.9840627390409923,
          1.014647250325544,
          1.0290206514267242,
          1.005374414638936,
          1.00538800304561,
          1.0164119792671418,
          1.0019737611695203,
          0.993428469922017,
          1.0053962038032282,
          1.0398766770107366,
          1.054592455155537,
          1.0607799278136558,
          1.0807068338748878,
          1.0889138847162585,
          1.0790128831945867,
          1.0756118412217415,
          1.0435035906100092,
          1.0774957856291003,
          1.085916690047478,
          1.0831247367490906,
          1.0903415448806733,
          1.0908559702181477,
          1.0912325956337445,
          1.0884781926183644,
          1.0783595331006184,
          1.0800168949205,
          1.0831008960012358,
          1.0723670416590765,
          1.0704348313159138,
          1.0667656804472112,
          1.056379558906176,
          1.0220799673968377,
          1.0182217231357116,
          1.0232809118831834,
          0.9880228199405581,
          0.9958738513724918,
          1.0295350092542823,
          1.009783929029698,
          0.9807445606200477,
          0.9681023920455449,
          0.9773679189161565,
          0.9491692107871267,
          0.9971880441317317,
          0.990968892578248,
          1.0122129478573816,
          1.0051248395846666,
          1.012447038299173,
          1.0175461046503174,
          1.021065010545121,
          0.9856950935967729,
          0.9870540268245644,
          1.0096975678280404,
          1.0108792370841913,
          0.993089695310411,
          0.9880353835123866,
          0.9936309165756039,
          0.9923410751833693,
          0.9855974456296397,
          1.0053242800229107,
          1.0220644006980912,
          1.0494056876298445,
          1.0480388741842404,
          1.056183199873385,
          1.0712429925717986,
          1.0858223037685186,
          1.0860797026450388,
          1.1090394722201966,
          1.0893741216507091,
          1.1061519208566528,
          1.108898867279563,
          1.1016232764106377,
          1.0947993414685104,
          1.1053165600294683,
          1.088543605247694,
          1.1047363634967071,
          1.1122380406295354,
          1.1076438515548146,
          1.094145998288613,
          1.0884446050664545,
          1.0879056734650279,
          1.081193228505299,
          1.056178358704089,
          1.0514942462420414,
          1.0622400864457366,
          1.0685046117458095,
          1.0378432931860575,
          1.034161350324333,
          1.0050846203596235,
          1.0147737102079426,
          1.0365140468494463,
          1.0294584365011419,
          1.0202447059390263,
          1.0173451885691136,
          1.0345924564850915,
          1.023927756991545,
          1.0445743948309845,
          1.046251216037231,
          1.048635892289629,
          1.0408399963852932,
          1.03840535795735,
          1.0332833543967792,
          1.0329364531775773,
          1.0180023863367387,
          1.0381155870009335,
          1.0436626808111182,
          1.047760847756189,
          1.0506795913313616,
          1.0605765281855855,
          1.0645584636098073,
          1.079428023875923,
          1.0715509435303714,
          1.0742095667428526,
          1.0908844529793211,
          1.0861640217063075,
          1.093634489311652,
          1.1063652086064848,
          1.1109980936613046,
          1.113116856429938,
          1.1052024136795697,
          1.121063225980323,
          1.128384199153225,
          1.1284190260313276,
          1.1295844030892153,
          1.1515868855529636,
          1.1642193365725375,
          1.172982522864676,
          1.1692333839438196,
          1.1746743952224485,
          1.177235686897673,
          1.1806825665842766,
          1.189390765283875,
          1.1815278721083595,
          1.1711625716109415,
          1.1542534961010469,
          1.1711832998904994,
          1.1727322472888002,
          1.186398445805505,
          1.196659367331517,
          1.2021486883113117,
          1.1854804278328355,
          1.1812748513016071,
          1.1869170329419065,
          1.1685882992621006,
          1.1717177279446198,
          1.1824037828027683,
          1.1797993142888912,
          1.187133857357231,
          1.1800439461469967,
          1.1803380703487854,
          1.1739352846827071,
          1.173021426786228,
          1.1882112945176955,
          1.1921783609412204,
          1.195083587428455,
          1.1827154134637878,
          1.1710374267753998,
          1.177961603637792,
          1.1956908948289924,
          1.2093293049866454,
          1.2092185357944132,
          1.2051683068038757,
          1.198036567767914,
          1.2058967523371567,
          1.2315254284221488,
          1.2299917846980717,
          1.2318722542542118,
          1.2321147363885367,
          1.2349229867224383,
          1.244562543485198,
          1.2421541898434887,
          1.2320067401720605,
          1.2131235168901586,
          1.2169119279584786,
          1.2177495438319834,
          1.2318422410261125,
          1.2329652055304192,
          1.216122717720532,
          1.1870974623269037,
          1.1897662536932223,
          1.2065036690160555,
          1.2133589337291404,
          1.2172588627283938,
          1.2062467984887513,
          1.1716982412221366,
          1.1742868913460998,
          1.165546098695453,
          1.1800962184258348,
          1.155845378038256,
          1.1721052831981875,
          1.1846948525546677,
          1.195316315034034,
          1.1921175658694758,
          1.188800376602877,
          1.1855160383732835,
          1.1930481966667312,
          1.212855998137253,
          1.22961570443774,
          1.2456214753871069,
          1.2517576111605595,
          1.2497948276669306,
          1.2613262391554316,
          1.2516367136174658,
          1.2645509404207425,
          1.272986032728597,
          1.2968952065120638,
          1.3175434780992956,
          1.3210327310100487,
          1.3221865440601106,
          1.3266165564462291,
          1.3423468827968852,
          1.3540135973564442,
          1.3566723221932304,
          1.347033840565057,
          1.3369506703852572,
          1.319831148235716,
          1.3210259919360428,
          1.3337952821384425,
          1.3317604162270602,
          1.3449353456000577,
          1.3559725237383207,
          1.3831745915931224,
          1.3968752512725218,
          1.3872914859157364,
          1.3796320344779982,
          1.3822625339175125,
          1.3455821511144208,
          1.3769854017504224,
          1.3768741184396935,
          1.3637408920368006,
          1.3584590278248017,
          1.3305132025172814,
          1.346504402224845,
          1.3884782615714675,
          1.400313050373469,
          1.384243573378725,
          1.4102789855976399,
          1.3850103528160935,
          1.3617136209451657,
          1.3931134759878259,
          1.3463200892977976,
          1.3445194990749048,
          1.3254304751096448,
          1.3562301193087452,
          1.3834102101482775,
          1.3954189873035832,
          1.4192191824558156,
          1.4157234497824818,
          1.4143794825298162,
          1.4042426468564728,
          1.3927982976224536,
          1.425653434230076,
          1.3996599164446488,
          1.3542257431043714,
          1.3384310150627359,
          1.3332087252940164,
          1.3359390677765839,
          1.3510789601188187,
          1.362820639791597,
          1.3161842596993443,
          1.3313413301292134,
          1.3031219750848668,
          1.287371237332604,
          1.2728887682568897,
          1.2367720974935554,
          1.237010678449514,
          1.210285266844317,
          1.2244544894068061,
          1.215741523059796,
          1.2649345062277015,
          1.3026517469257868,
          1.3006129889121625,
          1.3067072179235695,
          1.2572801958396407,
          1.3025742284994284,
          1.2906560889147596,
          1.31176887590132,
          1.3275482414985753,
          1.2955722462509476,
          1.2594484730518323,
          1.2653044252240464,
          1.2924115950892514,
          1.2929646147665266,
          1.257343897195923,
          1.2428570051412666,
          1.2267958933004397,
          1.187212433686708,
          1.2338317656918536,
          1.2485524895770441,
          1.2606222870290982,
          1.244891709519169,
          1.2651624231346028,
          1.24446155655259,
          1.223447807905418,
          1.177579086172924,
          1.1687224786076733,
          1.212942400149887,
          1.2083673339591008,
          1.1820384739393204,
          1.1562195338031878,
          1.1987783626813815,
          1.2363695233089682,
          1.251451992074876,
          1.2793769212239183,
          1.283101336516585,
          1.3150566571527815,
          1.3087152627337908,
          1.3280036443189782,
          1.3301522558367358,
          1.3619570506200682,
          1.3795209535021502,
          1.3684457535326808,
          1.3439819991552742,
          1.3470241622513004,
          1.3817059536656557,
          1.3530962862044171,
          1.3114113636221312,
          1.3152334888155928,
          1.293359891980592,
          1.2512183619590465,
          1.2507884149769066,
          1.2791579631199237,
          1.2428094103957237,
          1.247739946267954,
          1.2731988693868177,
          1.2617627204532784,
          1.244881409734877,
          1.2153830972877437,
          1.2317612238647877,
          1.1732596665200727,
          1.1939419991053049,
          1.2314947529516767,
          1.1618237516303085,
          1.178849697286094,
          1.1781508242512508,
          1.2151550829535922,
          1.145177414053709,
          1.1377513547591451,
          1.0874233711265033,
          1.1026943221044103,
          1.0547301044215036,
          1.0400580629821412,
          1.077272901529946,
          1.0638435379158395,
          1.094835582959581,
          1.0322782633609757,
          1.0234609073969165,
          1.0170111542595344,
          1.0439031875618892,
          1.0222952854417966,
          1.0374529373664154,
          1.0660825719126037,
          1.10651746086757,
          1.1120547544756467,
          1.112767683201494,
          1.1341132080772631,
          1.0972931549454337,
          1.103087135007639,
          1.112179835820444,
          1.10518111742203,
          1.0739102811775612,
          1.0269529437520482,
          0.9792405472222346,
          0.9845762464008848,
          1.0179414641836864,
          0.9785746940673836,
          0.9927568769077749,
          1.0261641591137947,
          1.0240978108076928,
          1.0461186763725965,
          1.0803167899132295,
          1.0694239236315857,
          1.0299389382831052,
          1.0411026056858137,
          1.0229728003213985,
          1.0400395310720185,
          1.0613229523229772,
          1.070753665951873,
          1.0916516043494546,
          1.0932856806098483,
          1.068967372240217,
          1.0482146644508663,
          1.0498971786701279,
          1.0596099550114892,
          1.0740267884030263,
          1.0638539355952026,
          1.091746603298099,
          1.1100807363365772,
          1.1336792959661708,
          1.1194532375599868,
          1.1104296341043782,
          1.0800319314356932,
          1.1382537210680497,
          1.1574514571471008,
          1.2067726144151092,
          1.200689268252894,
          1.190988301208905,
          1.230129992250493,
          1.23734781585404,
          1.2237504947333357,
          1.2167441265449315,
          1.214564135174034,
          1.2492050784149316,
          1.2369777501352317,
          1.2642602885397378,
          1.2726278446509114,
          1.2726669107108797,
          1.2678263566919743,
          1.2648398098937264,
          1.2422742205449007,
          1.207271805727038,
          1.2077076840819367,
          1.2078092654699943,
          1.224442229975158,
          1.1767461345553052,
          1.1638280730084658,
          1.149707052408929,
          1.139049416276075,
          1.1413207697224725,
          1.1256360261996505,
          1.1172027800198485,
          1.1385938609476343,
          1.1388968169536549,
          1.1659570559953345,
          1.1906972095249335,
          1.1219374657809842,
          1.1326490773176454,
          1.110356714042892,
          1.1005651331852793,
          1.1125397753540527,
          1.1094698433503882,
          1.0868393453958036,
          1.0817868587573487,
          1.0599029594617495,
          1.0625983366765996,
          1.0641321245247017,
          1.0770118634872932,
          1.0415678467160925,
          1.019696306226453,
          1.0392475655655773,
          1.0736552274542697,
          1.0709059173601718,
          1.0622917493008486,
          1.012126235164675,
          1.0025944618409521,
          0.9873121005176915,
          0.9880955240202935,
          1.0143135041647278,
          0.9768617636312604,
          1.020166891976003,
          1.0297119283229816,
          1.0250418136344723,
          1.0169717547566106,
          1.0462067669151702,
          1.059039997579744,
          1.078004739029142,
          1.0306319358687237,
          1.0048980314305682,
          1.0316979421390309,
          1.0180068475818094,
          0.9945984091316437,
          0.9541932332928929,
          0.9262143984616998,
          0.9376730508519023,
          0.944125480992524,
          0.9430492110283905,
          0.911665435757291,
          0.9949449127621404,
          1.0187663263077675,
          0.9994390109636798,
          1.006422454021396,
          0.9959227398006931,
          0.9930622712835921,
          0.9903305702055218
         ],
         "yaxis": "y"
        }
       ],
       "layout": {
        "legend": {
         "title": {
          "text": "variable"
         },
         "tracegroupgap": 0
        },
        "margin": {
         "t": 60
        },
        "template": {
         "data": {
          "bar": [
           {
            "error_x": {
             "color": "#2a3f5f"
            },
            "error_y": {
             "color": "#2a3f5f"
            },
            "marker": {
             "line": {
              "color": "#E5ECF6",
              "width": 0.5
             },
             "pattern": {
              "fillmode": "overlay",
              "size": 10,
              "solidity": 0.2
             }
            },
            "type": "bar"
           }
          ],
          "barpolar": [
           {
            "marker": {
             "line": {
              "color": "#E5ECF6",
              "width": 0.5
             },
             "pattern": {
              "fillmode": "overlay",
              "size": 10,
              "solidity": 0.2
             }
            },
            "type": "barpolar"
           }
          ],
          "carpet": [
           {
            "aaxis": {
             "endlinecolor": "#2a3f5f",
             "gridcolor": "white",
             "linecolor": "white",
             "minorgridcolor": "white",
             "startlinecolor": "#2a3f5f"
            },
            "baxis": {
             "endlinecolor": "#2a3f5f",
             "gridcolor": "white",
             "linecolor": "white",
             "minorgridcolor": "white",
             "startlinecolor": "#2a3f5f"
            },
            "type": "carpet"
           }
          ],
          "choropleth": [
           {
            "colorbar": {
             "outlinewidth": 0,
             "ticks": ""
            },
            "type": "choropleth"
           }
          ],
          "contour": [
           {
            "colorbar": {
             "outlinewidth": 0,
             "ticks": ""
            },
            "colorscale": [
             [
              0,
              "#0d0887"
             ],
             [
              0.1111111111111111,
              "#46039f"
             ],
             [
              0.2222222222222222,
              "#7201a8"
             ],
             [
              0.3333333333333333,
              "#9c179e"
             ],
             [
              0.4444444444444444,
              "#bd3786"
             ],
             [
              0.5555555555555556,
              "#d8576b"
             ],
             [
              0.6666666666666666,
              "#ed7953"
             ],
             [
              0.7777777777777778,
              "#fb9f3a"
             ],
             [
              0.8888888888888888,
              "#fdca26"
             ],
             [
              1,
              "#f0f921"
             ]
            ],
            "type": "contour"
           }
          ],
          "contourcarpet": [
           {
            "colorbar": {
             "outlinewidth": 0,
             "ticks": ""
            },
            "type": "contourcarpet"
           }
          ],
          "heatmap": [
           {
            "colorbar": {
             "outlinewidth": 0,
             "ticks": ""
            },
            "colorscale": [
             [
              0,
              "#0d0887"
             ],
             [
              0.1111111111111111,
              "#46039f"
             ],
             [
              0.2222222222222222,
              "#7201a8"
             ],
             [
              0.3333333333333333,
              "#9c179e"
             ],
             [
              0.4444444444444444,
              "#bd3786"
             ],
             [
              0.5555555555555556,
              "#d8576b"
             ],
             [
              0.6666666666666666,
              "#ed7953"
             ],
             [
              0.7777777777777778,
              "#fb9f3a"
             ],
             [
              0.8888888888888888,
              "#fdca26"
             ],
             [
              1,
              "#f0f921"
             ]
            ],
            "type": "heatmap"
           }
          ],
          "heatmapgl": [
           {
            "colorbar": {
             "outlinewidth": 0,
             "ticks": ""
            },
            "colorscale": [
             [
              0,
              "#0d0887"
             ],
             [
              0.1111111111111111,
              "#46039f"
             ],
             [
              0.2222222222222222,
              "#7201a8"
             ],
             [
              0.3333333333333333,
              "#9c179e"
             ],
             [
              0.4444444444444444,
              "#bd3786"
             ],
             [
              0.5555555555555556,
              "#d8576b"
             ],
             [
              0.6666666666666666,
              "#ed7953"
             ],
             [
              0.7777777777777778,
              "#fb9f3a"
             ],
             [
              0.8888888888888888,
              "#fdca26"
             ],
             [
              1,
              "#f0f921"
             ]
            ],
            "type": "heatmapgl"
           }
          ],
          "histogram": [
           {
            "marker": {
             "pattern": {
              "fillmode": "overlay",
              "size": 10,
              "solidity": 0.2
             }
            },
            "type": "histogram"
           }
          ],
          "histogram2d": [
           {
            "colorbar": {
             "outlinewidth": 0,
             "ticks": ""
            },
            "colorscale": [
             [
              0,
              "#0d0887"
             ],
             [
              0.1111111111111111,
              "#46039f"
             ],
             [
              0.2222222222222222,
              "#7201a8"
             ],
             [
              0.3333333333333333,
              "#9c179e"
             ],
             [
              0.4444444444444444,
              "#bd3786"
             ],
             [
              0.5555555555555556,
              "#d8576b"
             ],
             [
              0.6666666666666666,
              "#ed7953"
             ],
             [
              0.7777777777777778,
              "#fb9f3a"
             ],
             [
              0.8888888888888888,
              "#fdca26"
             ],
             [
              1,
              "#f0f921"
             ]
            ],
            "type": "histogram2d"
           }
          ],
          "histogram2dcontour": [
           {
            "colorbar": {
             "outlinewidth": 0,
             "ticks": ""
            },
            "colorscale": [
             [
              0,
              "#0d0887"
             ],
             [
              0.1111111111111111,
              "#46039f"
             ],
             [
              0.2222222222222222,
              "#7201a8"
             ],
             [
              0.3333333333333333,
              "#9c179e"
             ],
             [
              0.4444444444444444,
              "#bd3786"
             ],
             [
              0.5555555555555556,
              "#d8576b"
             ],
             [
              0.6666666666666666,
              "#ed7953"
             ],
             [
              0.7777777777777778,
              "#fb9f3a"
             ],
             [
              0.8888888888888888,
              "#fdca26"
             ],
             [
              1,
              "#f0f921"
             ]
            ],
            "type": "histogram2dcontour"
           }
          ],
          "mesh3d": [
           {
            "colorbar": {
             "outlinewidth": 0,
             "ticks": ""
            },
            "type": "mesh3d"
           }
          ],
          "parcoords": [
           {
            "line": {
             "colorbar": {
              "outlinewidth": 0,
              "ticks": ""
             }
            },
            "type": "parcoords"
           }
          ],
          "pie": [
           {
            "automargin": true,
            "type": "pie"
           }
          ],
          "scatter": [
           {
            "marker": {
             "colorbar": {
              "outlinewidth": 0,
              "ticks": ""
             }
            },
            "type": "scatter"
           }
          ],
          "scatter3d": [
           {
            "line": {
             "colorbar": {
              "outlinewidth": 0,
              "ticks": ""
             }
            },
            "marker": {
             "colorbar": {
              "outlinewidth": 0,
              "ticks": ""
             }
            },
            "type": "scatter3d"
           }
          ],
          "scattercarpet": [
           {
            "marker": {
             "colorbar": {
              "outlinewidth": 0,
              "ticks": ""
             }
            },
            "type": "scattercarpet"
           }
          ],
          "scattergeo": [
           {
            "marker": {
             "colorbar": {
              "outlinewidth": 0,
              "ticks": ""
             }
            },
            "type": "scattergeo"
           }
          ],
          "scattergl": [
           {
            "marker": {
             "colorbar": {
              "outlinewidth": 0,
              "ticks": ""
             }
            },
            "type": "scattergl"
           }
          ],
          "scattermapbox": [
           {
            "marker": {
             "colorbar": {
              "outlinewidth": 0,
              "ticks": ""
             }
            },
            "type": "scattermapbox"
           }
          ],
          "scatterpolar": [
           {
            "marker": {
             "colorbar": {
              "outlinewidth": 0,
              "ticks": ""
             }
            },
            "type": "scatterpolar"
           }
          ],
          "scatterpolargl": [
           {
            "marker": {
             "colorbar": {
              "outlinewidth": 0,
              "ticks": ""
             }
            },
            "type": "scatterpolargl"
           }
          ],
          "scatterternary": [
           {
            "marker": {
             "colorbar": {
              "outlinewidth": 0,
              "ticks": ""
             }
            },
            "type": "scatterternary"
           }
          ],
          "surface": [
           {
            "colorbar": {
             "outlinewidth": 0,
             "ticks": ""
            },
            "colorscale": [
             [
              0,
              "#0d0887"
             ],
             [
              0.1111111111111111,
              "#46039f"
             ],
             [
              0.2222222222222222,
              "#7201a8"
             ],
             [
              0.3333333333333333,
              "#9c179e"
             ],
             [
              0.4444444444444444,
              "#bd3786"
             ],
             [
              0.5555555555555556,
              "#d8576b"
             ],
             [
              0.6666666666666666,
              "#ed7953"
             ],
             [
              0.7777777777777778,
              "#fb9f3a"
             ],
             [
              0.8888888888888888,
              "#fdca26"
             ],
             [
              1,
              "#f0f921"
             ]
            ],
            "type": "surface"
           }
          ],
          "table": [
           {
            "cells": {
             "fill": {
              "color": "#EBF0F8"
             },
             "line": {
              "color": "white"
             }
            },
            "header": {
             "fill": {
              "color": "#C8D4E3"
             },
             "line": {
              "color": "white"
             }
            },
            "type": "table"
           }
          ]
         },
         "layout": {
          "annotationdefaults": {
           "arrowcolor": "#2a3f5f",
           "arrowhead": 0,
           "arrowwidth": 1
          },
          "autotypenumbers": "strict",
          "coloraxis": {
           "colorbar": {
            "outlinewidth": 0,
            "ticks": ""
           }
          },
          "colorscale": {
           "diverging": [
            [
             0,
             "#8e0152"
            ],
            [
             0.1,
             "#c51b7d"
            ],
            [
             0.2,
             "#de77ae"
            ],
            [
             0.3,
             "#f1b6da"
            ],
            [
             0.4,
             "#fde0ef"
            ],
            [
             0.5,
             "#f7f7f7"
            ],
            [
             0.6,
             "#e6f5d0"
            ],
            [
             0.7,
             "#b8e186"
            ],
            [
             0.8,
             "#7fbc41"
            ],
            [
             0.9,
             "#4d9221"
            ],
            [
             1,
             "#276419"
            ]
           ],
           "sequential": [
            [
             0,
             "#0d0887"
            ],
            [
             0.1111111111111111,
             "#46039f"
            ],
            [
             0.2222222222222222,
             "#7201a8"
            ],
            [
             0.3333333333333333,
             "#9c179e"
            ],
            [
             0.4444444444444444,
             "#bd3786"
            ],
            [
             0.5555555555555556,
             "#d8576b"
            ],
            [
             0.6666666666666666,
             "#ed7953"
            ],
            [
             0.7777777777777778,
             "#fb9f3a"
            ],
            [
             0.8888888888888888,
             "#fdca26"
            ],
            [
             1,
             "#f0f921"
            ]
           ],
           "sequentialminus": [
            [
             0,
             "#0d0887"
            ],
            [
             0.1111111111111111,
             "#46039f"
            ],
            [
             0.2222222222222222,
             "#7201a8"
            ],
            [
             0.3333333333333333,
             "#9c179e"
            ],
            [
             0.4444444444444444,
             "#bd3786"
            ],
            [
             0.5555555555555556,
             "#d8576b"
            ],
            [
             0.6666666666666666,
             "#ed7953"
            ],
            [
             0.7777777777777778,
             "#fb9f3a"
            ],
            [
             0.8888888888888888,
             "#fdca26"
            ],
            [
             1,
             "#f0f921"
            ]
           ]
          },
          "colorway": [
           "#636efa",
           "#EF553B",
           "#00cc96",
           "#ab63fa",
           "#FFA15A",
           "#19d3f3",
           "#FF6692",
           "#B6E880",
           "#FF97FF",
           "#FECB52"
          ],
          "font": {
           "color": "#2a3f5f"
          },
          "geo": {
           "bgcolor": "white",
           "lakecolor": "white",
           "landcolor": "#E5ECF6",
           "showlakes": true,
           "showland": true,
           "subunitcolor": "white"
          },
          "hoverlabel": {
           "align": "left"
          },
          "hovermode": "closest",
          "mapbox": {
           "style": "light"
          },
          "paper_bgcolor": "white",
          "plot_bgcolor": "#E5ECF6",
          "polar": {
           "angularaxis": {
            "gridcolor": "white",
            "linecolor": "white",
            "ticks": ""
           },
           "bgcolor": "#E5ECF6",
           "radialaxis": {
            "gridcolor": "white",
            "linecolor": "white",
            "ticks": ""
           }
          },
          "scene": {
           "xaxis": {
            "backgroundcolor": "#E5ECF6",
            "gridcolor": "white",
            "gridwidth": 2,
            "linecolor": "white",
            "showbackground": true,
            "ticks": "",
            "zerolinecolor": "white"
           },
           "yaxis": {
            "backgroundcolor": "#E5ECF6",
            "gridcolor": "white",
            "gridwidth": 2,
            "linecolor": "white",
            "showbackground": true,
            "ticks": "",
            "zerolinecolor": "white"
           },
           "zaxis": {
            "backgroundcolor": "#E5ECF6",
            "gridcolor": "white",
            "gridwidth": 2,
            "linecolor": "white",
            "showbackground": true,
            "ticks": "",
            "zerolinecolor": "white"
           }
          },
          "shapedefaults": {
           "line": {
            "color": "#2a3f5f"
           }
          },
          "ternary": {
           "aaxis": {
            "gridcolor": "white",
            "linecolor": "white",
            "ticks": ""
           },
           "baxis": {
            "gridcolor": "white",
            "linecolor": "white",
            "ticks": ""
           },
           "bgcolor": "#E5ECF6",
           "caxis": {
            "gridcolor": "white",
            "linecolor": "white",
            "ticks": ""
           }
          },
          "title": {
           "x": 0.05
          },
          "xaxis": {
           "automargin": true,
           "gridcolor": "white",
           "linecolor": "white",
           "ticks": "",
           "title": {
            "standoff": 15
           },
           "zerolinecolor": "white",
           "zerolinewidth": 2
          },
          "yaxis": {
           "automargin": true,
           "gridcolor": "white",
           "linecolor": "white",
           "ticks": "",
           "title": {
            "standoff": 15
           },
           "zerolinecolor": "white",
           "zerolinewidth": 2
          }
         }
        },
        "xaxis": {
         "anchor": "y",
         "domain": [
          0,
          1
         ],
         "title": {
          "text": "Date"
         }
        },
        "yaxis": {
         "anchor": "x",
         "domain": [
          0,
          1
         ],
         "title": {
          "text": "value"
         }
        }
       }
      }
     },
     "metadata": {},
     "output_type": "display_data"
    }
   ],
   "source": [
    "px.line(cumulative)"
   ]
  },
  {
   "cell_type": "code",
   "execution_count": 59,
   "metadata": {},
   "outputs": [
    {
     "name": "stdout",
     "output_type": "stream",
     "text": [
      "0.018778719254058357\n"
     ]
    }
   ],
   "source": [
    "print(np.std(ret))"
   ]
  },
  {
   "cell_type": "code",
   "execution_count": 60,
   "metadata": {},
   "outputs": [
    {
     "name": "stdout",
     "output_type": "stream",
     "text": [
      "0.29810292651923265\n"
     ]
    }
   ],
   "source": [
    "annual_std = np.std(ret) * np.sqrt(252)\n",
    "print(annual_std)"
   ]
  },
  {
   "cell_type": "markdown",
   "metadata": {},
   "source": [
    "# Portfolio Optimization"
   ]
  },
  {
   "cell_type": "code",
   "execution_count": 61,
   "metadata": {},
   "outputs": [
    {
     "name": "stdout",
     "output_type": "stream",
     "text": [
      "[*********************100%***********************]  4 of 4 completed\n"
     ]
    }
   ],
   "source": [
    "data = yf.download(stocks, start='2018-01-01')"
   ]
  },
  {
   "cell_type": "code",
   "execution_count": 62,
   "metadata": {},
   "outputs": [],
   "source": [
    "data = data['Close']\n",
    "x = data.pct_change()"
   ]
  },
  {
   "cell_type": "code",
   "execution_count": 63,
   "metadata": {},
   "outputs": [
    {
     "name": "stdout",
     "output_type": "stream",
     "text": [
      "[0.06823594 0.13886925 0.40699937 0.38589544]\n"
     ]
    }
   ],
   "source": [
    "# We are going to randomly assign a weight to each stock in our portfolio,\n",
    "# and then calculate the metrics for that portfolio, including the Sharpe ratio. \n",
    "\n",
    "wts = np.random.uniform(size =len(x.columns))\n",
    "wts = wts/np.sum(wts)\n",
    "\n",
    "print(wts)"
   ]
  },
  {
   "cell_type": "code",
   "execution_count": 64,
   "metadata": {},
   "outputs": [],
   "source": [
    "p_weights=[]\n",
    "p_returns=[]\n",
    "p_risk=[]\n",
    "p_sharpe=[]"
   ]
  },
  {
   "cell_type": "code",
   "execution_count": 65,
   "metadata": {},
   "outputs": [],
   "source": [
    "count = 500\n",
    "for k in range(0,count):\n",
    "    wts = np.random.uniform(size=len(x.columns))\n",
    "    wts = wts/np.sum(wts)\n",
    "    p_weights.append(wts)\n",
    "\n",
    "    #returns\n",
    "    mean_ret = (x.mean()*wts).sum()*252\n",
    "    p_returns.append(mean_ret)\n",
    "\n",
    "    #volatility\n",
    "    ret = (x*wts).sum(axis=1)\n",
    "    annual_std = np.std(ret)*np.sqrt(252)\n",
    "    p_risk.append(annual_std)\n",
    "\n",
    "    #sharpe ratio\n",
    "    sharpe = (np.mean(ret)/np.std(ret))*np.sqrt(252)\n",
    "    p_sharpe.append(sharpe)\n"
   ]
  },
  {
   "cell_type": "code",
   "execution_count": 66,
   "metadata": {},
   "outputs": [
    {
     "name": "stdout",
     "output_type": "stream",
     "text": [
      "1.1283063637520347\n",
      "[0.4371142  0.00102231 0.16773189 0.3941316 ]\n"
     ]
    }
   ],
   "source": [
    "max_ind = np.argmax(p_sharpe)\n",
    "print(p_sharpe[max_ind])\n",
    "print(p_weights[max_ind])"
   ]
  },
  {
   "cell_type": "code",
   "execution_count": 67,
   "metadata": {},
   "outputs": [
    {
     "data": {
      "application/vnd.plotly.v1+json": {
       "config": {
        "plotlyServerURL": "https://plot.ly"
       },
       "data": [
        {
         "alignmentgroup": "True",
         "hovertemplate": "variable=0<br>index=%{x}<br>value=%{y}<extra></extra>",
         "legendgroup": "0",
         "marker": {
          "color": "#636efa",
          "pattern": {
           "shape": ""
          }
         },
         "name": "0",
         "offsetgroup": "0",
         "orientation": "v",
         "showlegend": true,
         "textposition": "auto",
         "type": "bar",
         "x": [
          "AAPL",
          "AMZN",
          "MSFT",
          "TSLA"
         ],
         "xaxis": "x",
         "y": [
          0.43711419989690586,
          0.0010223071796618256,
          0.16773188883904247,
          0.3941316040843898
         ],
         "yaxis": "y"
        }
       ],
       "layout": {
        "barmode": "relative",
        "legend": {
         "title": {
          "text": "variable"
         },
         "tracegroupgap": 0
        },
        "margin": {
         "t": 60
        },
        "template": {
         "data": {
          "bar": [
           {
            "error_x": {
             "color": "#2a3f5f"
            },
            "error_y": {
             "color": "#2a3f5f"
            },
            "marker": {
             "line": {
              "color": "#E5ECF6",
              "width": 0.5
             },
             "pattern": {
              "fillmode": "overlay",
              "size": 10,
              "solidity": 0.2
             }
            },
            "type": "bar"
           }
          ],
          "barpolar": [
           {
            "marker": {
             "line": {
              "color": "#E5ECF6",
              "width": 0.5
             },
             "pattern": {
              "fillmode": "overlay",
              "size": 10,
              "solidity": 0.2
             }
            },
            "type": "barpolar"
           }
          ],
          "carpet": [
           {
            "aaxis": {
             "endlinecolor": "#2a3f5f",
             "gridcolor": "white",
             "linecolor": "white",
             "minorgridcolor": "white",
             "startlinecolor": "#2a3f5f"
            },
            "baxis": {
             "endlinecolor": "#2a3f5f",
             "gridcolor": "white",
             "linecolor": "white",
             "minorgridcolor": "white",
             "startlinecolor": "#2a3f5f"
            },
            "type": "carpet"
           }
          ],
          "choropleth": [
           {
            "colorbar": {
             "outlinewidth": 0,
             "ticks": ""
            },
            "type": "choropleth"
           }
          ],
          "contour": [
           {
            "colorbar": {
             "outlinewidth": 0,
             "ticks": ""
            },
            "colorscale": [
             [
              0,
              "#0d0887"
             ],
             [
              0.1111111111111111,
              "#46039f"
             ],
             [
              0.2222222222222222,
              "#7201a8"
             ],
             [
              0.3333333333333333,
              "#9c179e"
             ],
             [
              0.4444444444444444,
              "#bd3786"
             ],
             [
              0.5555555555555556,
              "#d8576b"
             ],
             [
              0.6666666666666666,
              "#ed7953"
             ],
             [
              0.7777777777777778,
              "#fb9f3a"
             ],
             [
              0.8888888888888888,
              "#fdca26"
             ],
             [
              1,
              "#f0f921"
             ]
            ],
            "type": "contour"
           }
          ],
          "contourcarpet": [
           {
            "colorbar": {
             "outlinewidth": 0,
             "ticks": ""
            },
            "type": "contourcarpet"
           }
          ],
          "heatmap": [
           {
            "colorbar": {
             "outlinewidth": 0,
             "ticks": ""
            },
            "colorscale": [
             [
              0,
              "#0d0887"
             ],
             [
              0.1111111111111111,
              "#46039f"
             ],
             [
              0.2222222222222222,
              "#7201a8"
             ],
             [
              0.3333333333333333,
              "#9c179e"
             ],
             [
              0.4444444444444444,
              "#bd3786"
             ],
             [
              0.5555555555555556,
              "#d8576b"
             ],
             [
              0.6666666666666666,
              "#ed7953"
             ],
             [
              0.7777777777777778,
              "#fb9f3a"
             ],
             [
              0.8888888888888888,
              "#fdca26"
             ],
             [
              1,
              "#f0f921"
             ]
            ],
            "type": "heatmap"
           }
          ],
          "heatmapgl": [
           {
            "colorbar": {
             "outlinewidth": 0,
             "ticks": ""
            },
            "colorscale": [
             [
              0,
              "#0d0887"
             ],
             [
              0.1111111111111111,
              "#46039f"
             ],
             [
              0.2222222222222222,
              "#7201a8"
             ],
             [
              0.3333333333333333,
              "#9c179e"
             ],
             [
              0.4444444444444444,
              "#bd3786"
             ],
             [
              0.5555555555555556,
              "#d8576b"
             ],
             [
              0.6666666666666666,
              "#ed7953"
             ],
             [
              0.7777777777777778,
              "#fb9f3a"
             ],
             [
              0.8888888888888888,
              "#fdca26"
             ],
             [
              1,
              "#f0f921"
             ]
            ],
            "type": "heatmapgl"
           }
          ],
          "histogram": [
           {
            "marker": {
             "pattern": {
              "fillmode": "overlay",
              "size": 10,
              "solidity": 0.2
             }
            },
            "type": "histogram"
           }
          ],
          "histogram2d": [
           {
            "colorbar": {
             "outlinewidth": 0,
             "ticks": ""
            },
            "colorscale": [
             [
              0,
              "#0d0887"
             ],
             [
              0.1111111111111111,
              "#46039f"
             ],
             [
              0.2222222222222222,
              "#7201a8"
             ],
             [
              0.3333333333333333,
              "#9c179e"
             ],
             [
              0.4444444444444444,
              "#bd3786"
             ],
             [
              0.5555555555555556,
              "#d8576b"
             ],
             [
              0.6666666666666666,
              "#ed7953"
             ],
             [
              0.7777777777777778,
              "#fb9f3a"
             ],
             [
              0.8888888888888888,
              "#fdca26"
             ],
             [
              1,
              "#f0f921"
             ]
            ],
            "type": "histogram2d"
           }
          ],
          "histogram2dcontour": [
           {
            "colorbar": {
             "outlinewidth": 0,
             "ticks": ""
            },
            "colorscale": [
             [
              0,
              "#0d0887"
             ],
             [
              0.1111111111111111,
              "#46039f"
             ],
             [
              0.2222222222222222,
              "#7201a8"
             ],
             [
              0.3333333333333333,
              "#9c179e"
             ],
             [
              0.4444444444444444,
              "#bd3786"
             ],
             [
              0.5555555555555556,
              "#d8576b"
             ],
             [
              0.6666666666666666,
              "#ed7953"
             ],
             [
              0.7777777777777778,
              "#fb9f3a"
             ],
             [
              0.8888888888888888,
              "#fdca26"
             ],
             [
              1,
              "#f0f921"
             ]
            ],
            "type": "histogram2dcontour"
           }
          ],
          "mesh3d": [
           {
            "colorbar": {
             "outlinewidth": 0,
             "ticks": ""
            },
            "type": "mesh3d"
           }
          ],
          "parcoords": [
           {
            "line": {
             "colorbar": {
              "outlinewidth": 0,
              "ticks": ""
             }
            },
            "type": "parcoords"
           }
          ],
          "pie": [
           {
            "automargin": true,
            "type": "pie"
           }
          ],
          "scatter": [
           {
            "marker": {
             "colorbar": {
              "outlinewidth": 0,
              "ticks": ""
             }
            },
            "type": "scatter"
           }
          ],
          "scatter3d": [
           {
            "line": {
             "colorbar": {
              "outlinewidth": 0,
              "ticks": ""
             }
            },
            "marker": {
             "colorbar": {
              "outlinewidth": 0,
              "ticks": ""
             }
            },
            "type": "scatter3d"
           }
          ],
          "scattercarpet": [
           {
            "marker": {
             "colorbar": {
              "outlinewidth": 0,
              "ticks": ""
             }
            },
            "type": "scattercarpet"
           }
          ],
          "scattergeo": [
           {
            "marker": {
             "colorbar": {
              "outlinewidth": 0,
              "ticks": ""
             }
            },
            "type": "scattergeo"
           }
          ],
          "scattergl": [
           {
            "marker": {
             "colorbar": {
              "outlinewidth": 0,
              "ticks": ""
             }
            },
            "type": "scattergl"
           }
          ],
          "scattermapbox": [
           {
            "marker": {
             "colorbar": {
              "outlinewidth": 0,
              "ticks": ""
             }
            },
            "type": "scattermapbox"
           }
          ],
          "scatterpolar": [
           {
            "marker": {
             "colorbar": {
              "outlinewidth": 0,
              "ticks": ""
             }
            },
            "type": "scatterpolar"
           }
          ],
          "scatterpolargl": [
           {
            "marker": {
             "colorbar": {
              "outlinewidth": 0,
              "ticks": ""
             }
            },
            "type": "scatterpolargl"
           }
          ],
          "scatterternary": [
           {
            "marker": {
             "colorbar": {
              "outlinewidth": 0,
              "ticks": ""
             }
            },
            "type": "scatterternary"
           }
          ],
          "surface": [
           {
            "colorbar": {
             "outlinewidth": 0,
             "ticks": ""
            },
            "colorscale": [
             [
              0,
              "#0d0887"
             ],
             [
              0.1111111111111111,
              "#46039f"
             ],
             [
              0.2222222222222222,
              "#7201a8"
             ],
             [
              0.3333333333333333,
              "#9c179e"
             ],
             [
              0.4444444444444444,
              "#bd3786"
             ],
             [
              0.5555555555555556,
              "#d8576b"
             ],
             [
              0.6666666666666666,
              "#ed7953"
             ],
             [
              0.7777777777777778,
              "#fb9f3a"
             ],
             [
              0.8888888888888888,
              "#fdca26"
             ],
             [
              1,
              "#f0f921"
             ]
            ],
            "type": "surface"
           }
          ],
          "table": [
           {
            "cells": {
             "fill": {
              "color": "#EBF0F8"
             },
             "line": {
              "color": "white"
             }
            },
            "header": {
             "fill": {
              "color": "#C8D4E3"
             },
             "line": {
              "color": "white"
             }
            },
            "type": "table"
           }
          ]
         },
         "layout": {
          "annotationdefaults": {
           "arrowcolor": "#2a3f5f",
           "arrowhead": 0,
           "arrowwidth": 1
          },
          "autotypenumbers": "strict",
          "coloraxis": {
           "colorbar": {
            "outlinewidth": 0,
            "ticks": ""
           }
          },
          "colorscale": {
           "diverging": [
            [
             0,
             "#8e0152"
            ],
            [
             0.1,
             "#c51b7d"
            ],
            [
             0.2,
             "#de77ae"
            ],
            [
             0.3,
             "#f1b6da"
            ],
            [
             0.4,
             "#fde0ef"
            ],
            [
             0.5,
             "#f7f7f7"
            ],
            [
             0.6,
             "#e6f5d0"
            ],
            [
             0.7,
             "#b8e186"
            ],
            [
             0.8,
             "#7fbc41"
            ],
            [
             0.9,
             "#4d9221"
            ],
            [
             1,
             "#276419"
            ]
           ],
           "sequential": [
            [
             0,
             "#0d0887"
            ],
            [
             0.1111111111111111,
             "#46039f"
            ],
            [
             0.2222222222222222,
             "#7201a8"
            ],
            [
             0.3333333333333333,
             "#9c179e"
            ],
            [
             0.4444444444444444,
             "#bd3786"
            ],
            [
             0.5555555555555556,
             "#d8576b"
            ],
            [
             0.6666666666666666,
             "#ed7953"
            ],
            [
             0.7777777777777778,
             "#fb9f3a"
            ],
            [
             0.8888888888888888,
             "#fdca26"
            ],
            [
             1,
             "#f0f921"
            ]
           ],
           "sequentialminus": [
            [
             0,
             "#0d0887"
            ],
            [
             0.1111111111111111,
             "#46039f"
            ],
            [
             0.2222222222222222,
             "#7201a8"
            ],
            [
             0.3333333333333333,
             "#9c179e"
            ],
            [
             0.4444444444444444,
             "#bd3786"
            ],
            [
             0.5555555555555556,
             "#d8576b"
            ],
            [
             0.6666666666666666,
             "#ed7953"
            ],
            [
             0.7777777777777778,
             "#fb9f3a"
            ],
            [
             0.8888888888888888,
             "#fdca26"
            ],
            [
             1,
             "#f0f921"
            ]
           ]
          },
          "colorway": [
           "#636efa",
           "#EF553B",
           "#00cc96",
           "#ab63fa",
           "#FFA15A",
           "#19d3f3",
           "#FF6692",
           "#B6E880",
           "#FF97FF",
           "#FECB52"
          ],
          "font": {
           "color": "#2a3f5f"
          },
          "geo": {
           "bgcolor": "white",
           "lakecolor": "white",
           "landcolor": "#E5ECF6",
           "showlakes": true,
           "showland": true,
           "subunitcolor": "white"
          },
          "hoverlabel": {
           "align": "left"
          },
          "hovermode": "closest",
          "mapbox": {
           "style": "light"
          },
          "paper_bgcolor": "white",
          "plot_bgcolor": "#E5ECF6",
          "polar": {
           "angularaxis": {
            "gridcolor": "white",
            "linecolor": "white",
            "ticks": ""
           },
           "bgcolor": "#E5ECF6",
           "radialaxis": {
            "gridcolor": "white",
            "linecolor": "white",
            "ticks": ""
           }
          },
          "scene": {
           "xaxis": {
            "backgroundcolor": "#E5ECF6",
            "gridcolor": "white",
            "gridwidth": 2,
            "linecolor": "white",
            "showbackground": true,
            "ticks": "",
            "zerolinecolor": "white"
           },
           "yaxis": {
            "backgroundcolor": "#E5ECF6",
            "gridcolor": "white",
            "gridwidth": 2,
            "linecolor": "white",
            "showbackground": true,
            "ticks": "",
            "zerolinecolor": "white"
           },
           "zaxis": {
            "backgroundcolor": "#E5ECF6",
            "gridcolor": "white",
            "gridwidth": 2,
            "linecolor": "white",
            "showbackground": true,
            "ticks": "",
            "zerolinecolor": "white"
           }
          },
          "shapedefaults": {
           "line": {
            "color": "#2a3f5f"
           }
          },
          "ternary": {
           "aaxis": {
            "gridcolor": "white",
            "linecolor": "white",
            "ticks": ""
           },
           "baxis": {
            "gridcolor": "white",
            "linecolor": "white",
            "ticks": ""
           },
           "bgcolor": "#E5ECF6",
           "caxis": {
            "gridcolor": "white",
            "linecolor": "white",
            "ticks": ""
           }
          },
          "title": {
           "x": 0.05
          },
          "xaxis": {
           "automargin": true,
           "gridcolor": "white",
           "linecolor": "white",
           "ticks": "",
           "title": {
            "standoff": 15
           },
           "zerolinecolor": "white",
           "zerolinewidth": 2
          },
          "yaxis": {
           "automargin": true,
           "gridcolor": "white",
           "linecolor": "white",
           "ticks": "",
           "title": {
            "standoff": 15
           },
           "zerolinecolor": "white",
           "zerolinewidth": 2
          }
         }
        },
        "xaxis": {
         "anchor": "y",
         "domain": [
          0,
          1
         ],
         "title": {
          "text": "index"
         }
        },
        "yaxis": {
         "anchor": "x",
         "domain": [
          0,
          1
         ],
         "title": {
          "text": "value"
         }
        }
       }
      }
     },
     "metadata": {},
     "output_type": "display_data"
    }
   ],
   "source": [
    "grafico_max = pd.Series(p_weights[max_ind], index=x.columns)\n",
    "px.bar(grafico_max)"
   ]
  },
  {
   "cell_type": "code",
   "execution_count": 74,
   "metadata": {},
   "outputs": [
    {
     "data": {
      "image/png": "[encoded data removed]",
      "text/plain": [
       "<Figure size 432x288 with 2 Axes>"
      ]
     },
     "metadata": {
      "needs_background": "light"
     },
     "output_type": "display_data"
    }
   ],
   "source": [
    "# The chart is called Efficient Frontier and shows the \n",
    "# returns on the Y-axis and volatility on the X-axis.\n",
    "max_ind = np.argmax(p_sharpe)\n",
    "\n",
    "plt.scatter(p_risk, p_returns, c=p_sharpe, cmap='plasma')\n",
    "plt.colorbar(label='Sharpe Ratio')\n",
    "\n",
    "plt.scatter(p_risk[max_ind], p_returns[max_ind], color='r', marker='*', s=500)\n",
    "plt.show()"
   ]
  },
  {
   "cell_type": "code",
   "execution_count": 71,
   "metadata": {},
   "outputs": [
    {
     "data": {
      "application/vnd.plotly.v1+json": {
       "config": {
        "plotlyServerURL": "https://plot.ly"
       },
       "data": [
        {
         "hovertemplate": "risk=%{x}<br>return=%{y}<br>color=%{marker.color}<extra></extra>",
         "legendgroup": "",
         "marker": {
          "color": [
           1.1093251472734416,
           1.0986402753473803,
           0.7478399418734588,
           0.847742270075015,
           1.1088225640601281,
           1.0108995091719506,
           1.0738748335908197,
           1.0095461801233292,
           1.0411783178964353,
           0.9971657052143722,
           1.120035026415549,
           1.0103569305794315,
           1.046723105019509,
           0.9978794255885713,
           0.9906262732156114,
           0.9750508296269429,
           1.1245483295337344,
           0.7041559196614363,
           1.0063257473570641,
           1.0373972725131562,
           0.8732992414719142,
           1.0822582920102974,
           0.6459277408091095,
           1.058271333915734,
           1.016183857102967,
           0.9494078877033878,
           1.043680305486633,
           1.0433502084790496,
           1.0417088094225613,
           1.036587796659759,
           1.0639612060692274,
           0.8011831056796214,
           1.066882632757831,
           0.9676945896395714,
           1.0260505636817383,
           0.8413429685982549,
           1.0080699834611815,
           1.0869656419141727,
           1.020836999814654,
           1.030905816364158,
           1.0673208682598698,
           1.098029412080499,
           0.9700707835009171,
           1.0978562192002868,
           0.9081166939914098,
           0.9128073861899637,
           0.928750824633399,
           1.0191477984413249,
           1.0895154878498,
           0.9800019401375636,
           0.9226618515871672,
           1.0847889082488644,
           0.9183724290121164,
           1.0754527777770166,
           0.9961345106197693,
           1.022918470883097,
           0.9127759351325592,
           0.8347106539427229,
           0.8416796851339037,
           1.0434761189444308,
           0.9797756422022038,
           1.0891710743796499,
           0.9785096321524883,
           1.0155819267623596,
           0.9343532843034973,
           0.930581233186597,
           0.9891305120751984,
           1.0028822643110162,
           1.1004537421247356,
           0.9996200978470363,
           1.006272927569491,
           0.9607941864723308,
           0.9897640420563301,
           1.0204510959225954,
           0.7771479926215366,
           1.0873575416983847,
           0.8662985673326414,
           0.929923872659121,
           0.993050253528977,
           1.0454283419956372,
           1.0512750724844138,
           0.8419067370391419,
           1.091938397515602,
           0.9917455428099846,
           1.1074566712015852,
           1.0552498336569995,
           0.9603834845681014,
           1.0097610081119996,
           1.0824301936473513,
           1.082226592538793,
           1.1050947722582587,
           1.05269895937639,
           1.0684596937638713,
           1.001735235323209,
           0.9622922785160507,
           1.1102236106619483,
           0.9318628548912349,
           0.8420388446433577,
           1.070700394974699,
           0.915015822535749,
           1.079765402640492,
           1.1100225070309673,
           1.0798547169898014,
           0.9897204384012946,
           0.8464228282681545,
           0.89147602015465,
           0.9963753789347144,
           1.1116738243066357,
           1.1109070572345237,
           1.1232015941264752,
           1.1180129503932097,
           0.7944521067773576,
           0.9310564346879762,
           0.8992679462839748,
           0.9424478771621001,
           1.0522893722493245,
           0.8542145072243028,
           0.8587302995404877,
           0.7598715364006933,
           1.075129226638073,
           0.9715815310988578,
           1.026390604815065,
           1.03847824939252,
           0.9578726133892268,
           1.08392327217859,
           0.9794760422830678,
           0.9413592667836084,
           0.8097733897416883,
           1.0233665282024533,
           1.0405679090441728,
           0.9040877067029858,
           1.001962462782356,
           0.9048684080580524,
           0.9196235286974747,
           0.9847472927431181,
           1.031491028820443,
           1.1029165201903794,
           1.1247632982360118,
           0.9067324774806551,
           0.9261771977673058,
           0.7348715325742398,
           0.9410810083867162,
           0.9411333711977591,
           0.9182217727317222,
           1.0125162505432626,
           0.989240207090758,
           1.0718707267424334,
           0.9730899279860593,
           1.0671721090480166,
           0.948064979004044,
           1.0161394748696189,
           1.030311209588358,
           1.0366090578354705,
           1.0304683392378744,
           0.7482264532554204,
           0.7815987717833014,
           1.001098832938362,
           0.9201649378195264,
           0.9992036785740992,
           0.9783804041723048,
           0.9577840561367451,
           1.0386208299630715,
           0.841483227019242,
           1.0097047339785212,
           0.9725501841029657,
           0.9444704650054587,
           1.0322380201485017,
           0.9901902769775223,
           0.8650486266729069,
           0.9770046680933864,
           1.035252555893648,
           1.067325569035001,
           1.0093149638187096,
           1.042551538031672,
           0.9480949832983245,
           0.9957052691276849,
           1.0743470117011893,
           0.9749703242997515,
           0.8226204912079916,
           0.9087136070264825,
           0.7514592168627723,
           0.9965197366955711,
           1.0831760128547605,
           1.120113457929734,
           1.0291386804655758,
           0.8742480853064363,
           1.0348127255817354,
           0.8920245484097252,
           0.8176210730318653,
           0.9635075165135641,
           0.9561780707541396,
           0.9375488637007823,
           0.8827907352821405,
           1.107412072252082,
           1.0083614028893564,
           1.0249909750983413,
           0.8254991234852367,
           0.9810864389691747,
           1.091768597447603,
           1.116585408653408,
           1.0416684192035826,
           0.9856914703569698,
           1.047480947558079,
           0.9428607512528544,
           1.0228202147808778,
           1.0631198148813714,
           0.9310923067448508,
           0.9537754029225528,
           0.8920869883271217,
           1.0557014046309292,
           0.889316143131747,
           0.9656300553919237,
           0.7530266394853093,
           1.0981006299588818,
           0.8374190044948421,
           1.0250041551040996,
           0.9829855578696609,
           0.8603066118219359,
           1.021154302919431,
           1.0269945926305901,
           0.8659398079058644,
           0.9015892887365012,
           0.9456356965389057,
           1.047042621201361,
           1.112341956195536,
           1.101154901426498,
           0.862309317418953,
           1.0576388579055274,
           0.9920297459809327,
           1.0141267941912497,
           1.0777160988320638,
           0.817166217873051,
           1.1004907827286738,
           0.9327546156370565,
           0.9400548179219692,
           0.9925566138029267,
           0.9459197900099358,
           1.0222181789071725,
           0.9113743678515149,
           1.0935071152980358,
           0.7882208733747051,
           0.9975001937879444,
           1.0212900077966554,
           0.9091022140653329,
           0.8387052312171117,
           0.963204664538029,
           0.9377943625937138,
           1.0135599709777323,
           1.0938060498473434,
           0.9605805714761759,
           0.8762655935977307,
           1.014966938511528,
           1.014905040556216,
           1.059756293548779,
           0.9738164841029471,
           1.0196462597563798,
           0.9544599813493091,
           1.0800238811193468,
           1.093861595356796,
           1.0275097126317907,
           0.879626094501191,
           1.0953514220906702,
           1.058692247418348,
           0.9432992000994619,
           0.9371754847883079,
           1.1009968020950496,
           1.0098412410626902,
           0.9412326086833311,
           0.8729029897325458,
           1.0776177636534898,
           1.0604239410957934,
           0.8695610627935345,
           1.0238244180945744,
           0.9256419930488964,
           1.0572318217471801,
           1.0294813930443723,
           0.9687663851709966,
           0.9417237744391037,
           1.0975839451669331,
           0.9930621925429751,
           0.8364056499325332,
           0.9904969528479775,
           1.0768028202829005,
           1.073999715736189,
           1.053521110414939,
           0.8058199643132862,
           0.9991418751430382,
           0.9075234110698167,
           1.0841910794165748,
           0.8984685638462849,
           0.9426170447000526,
           1.0510148269184219,
           0.8371341070327798,
           0.9078378011996078,
           1.062736055314807,
           0.9914460915465326,
           1.017648116314784,
           1.0112831671624947,
           0.9443799992436279,
           0.9501631452322036,
           1.0606673070792292,
           1.0944024808679198,
           0.9957000062426595,
           0.9815484839947924,
           1.0057472471343654,
           1.0033349338180482,
           1.0110245599571481,
           1.0412106378041728,
           0.952502040346338,
           0.8651367664993429,
           0.7177782702988033,
           1.063408994095719,
           0.9716228454710606,
           0.9014357727124628,
           0.927454771330432,
           0.9610900968542777,
           0.9992655050531706,
           1.0364437527041295,
           1.0390438156047266,
           0.9741620317022706,
           0.8699846937112518,
           1.0103806424780688,
           1.0952502005211424,
           1.0142464503397994,
           0.9038673994775592,
           1.1008091690334685,
           0.986230106408032,
           0.9325128364394344,
           0.7624494487634534,
           0.9754674735071593,
           1.1075996927977174,
           1.0291223450348528,
           1.0893861181720939,
           1.0306748920381854,
           0.7003264242834116,
           0.891819421237572,
           0.6016253517994382,
           1.0704672371557864,
           1.0911227078818657,
           0.9773758175589579,
           1.0425791581525625,
           1.101347747118475,
           1.0442188201438551,
           0.8550736850840626,
           1.0020356813730389,
           0.9214106714715983,
           1.08008320406953,
           1.096616405338035,
           1.042697327041189,
           1.069550875093214,
           1.0787440869383493,
           0.8336503088374864,
           0.9588360448568112,
           0.93239817325618,
           1.0080856237714635,
           0.9494548794811294,
           0.9074073506054416,
           0.866686037599318,
           0.9715454420426474,
           1.0010696208343886,
           1.029093274590958,
           1.059451260627446,
           1.0931027183148228,
           0.8365880039015682,
           1.0184194898610448,
           0.8630241382694794,
           1.0437185367650517,
           1.014046860752911,
           1.072492141049811,
           0.937173229964002,
           1.0717855559469303,
           0.994304954908531,
           1.037485325581957,
           0.9432533584254572,
           1.1119796513428344,
           0.833937810848735,
           0.959660240121168,
           1.0767623939375297,
           1.0246642388635385,
           0.9151548094147264,
           1.0905680106924485,
           1.1128589784496135,
           1.0471326893039328,
           0.9699493809150519,
           1.027824107126522,
           1.0285036105481498,
           1.1104161953699714,
           1.0912953561387442,
           0.9348932204775748,
           0.9747105782464558,
           0.762321206420876,
           1.0602575107603294,
           1.1283063637520347,
           0.9078614960914877,
           1.0019034659072665,
           0.839381185612512,
           1.053419417210628,
           0.9408602822200735,
           0.8567767063168812,
           0.9067041519914495,
           0.9039522936320109,
           1.0449199616598606,
           1.0943307997962837,
           1.070347321042766,
           1.0494537350443902,
           0.7543715488184598,
           0.7372197758284,
           0.9207490676877557,
           0.9388490701834469,
           1.0408504469322295,
           0.9362406882120372,
           0.994716624721345,
           0.9335614254072366,
           1.0558411453684997,
           0.9720754417682423,
           0.9992886439244796,
           0.8067079587076155,
           0.731475344763843,
           1.027269230013445,
           0.9147507140926934,
           1.0616427148955772,
           0.8372922400499437,
           1.097454196007718,
           1.0470890225752159,
           1.0805094949331184,
           1.01609174533846,
           0.9398995412923018,
           0.8318310905096734,
           1.011341614271112,
           0.9063046341844249,
           1.1240363391164012,
           0.9115526835665029,
           0.9913900848230243,
           0.9856433927800741,
           1.0154438159946482,
           1.0429646253593399,
           0.9637515298837024,
           1.0003662564652127,
           1.0915407549779512,
           1.0022458746880336,
           1.0485947772776583,
           1.0501035335159834,
           0.8491487626328567,
           1.0203376985377521,
           1.0865177613538934,
           1.0244378326694294,
           1.0532842085293843,
           0.9538994981789447,
           1.0497656859682507,
           1.0396961336809087,
           0.932499625193337,
           0.9436447236900577,
           1.052934177660879,
           0.8938478760365184,
           1.0214969653868766,
           1.0676516459916128,
           1.0823754968581363,
           0.9901708591573279,
           0.98376658102635,
           1.0039063739390643,
           0.9832237500277166,
           0.9529282174981297,
           1.1019648774608177,
           0.95080793576164,
           0.7629778011690604,
           0.9537449697878039,
           1.1133834622161682,
           1.0371847470982887,
           1.0070931578347593,
           0.981782631730264,
           1.052015542816982,
           0.9953300786669942,
           0.9383058849583201,
           1.0196260056150932,
           1.007845248610413,
           1.0176215544856213,
           1.0393772744077299,
           1.0530517786678866,
           0.9887810443071295,
           0.8637430437965353,
           1.0361477587071262,
           0.9881001932138719,
           1.0480251463560553,
           1.0807737139216897,
           0.9913031964772981,
           1.102830638133128,
           1.011551164737246,
           1.0628877354504838,
           0.8342854622456107,
           1.0129712292013726,
           1.0173258298270178,
           0.821616777810743,
           0.9559659227965687,
           0.9457701025247549,
           1.0125099950245775,
           0.915030659213362,
           1.111354408784787,
           1.0676036515072005,
           0.8402513264498529,
           1.116828509781011
          ],
          "coloraxis": "coloraxis",
          "symbol": "circle"
         },
         "mode": "markers",
         "name": "",
         "orientation": "v",
         "showlegend": false,
         "type": "scatter",
         "x": [
          0.37871847520229446,
          0.4414891007233492,
          0.3188133301200621,
          0.3214141598697914,
          0.34738442249071416,
          0.3416466361556005,
          0.39607664249223107,
          0.3496090823487555,
          0.340442204747112,
          0.36777878786321694,
          0.35702510060671994,
          0.31811126430543185,
          0.32330012819427817,
          0.37903800501247087,
          0.34214190951096396,
          0.31070167690247286,
          0.4051590204543078,
          0.3454963081857457,
          0.3479506815190884,
          0.32851683087203293,
          0.31525623283378196,
          0.4452925494056524,
          0.32027634038506164,
          0.34116091669825266,
          0.44637674570820535,
          0.3371666694996368,
          0.34315855936621037,
          0.3332604828816249,
          0.3594887589388911,
          0.3188199953451978,
          0.3593468856706012,
          0.30418108688399514,
          0.42867995574405793,
          0.3593723042885734,
          0.3465872983515646,
          0.31189123054593876,
          0.33620311426642674,
          0.3588339356232275,
          0.34095809867370297,
          0.3669836770944625,
          0.3218616629592957,
          0.3490674548145807,
          0.33147459281528324,
          0.40976627905898755,
          0.3012097276602069,
          0.32064189385993336,
          0.369391801251631,
          0.3571613278042969,
          0.33388973200380545,
          0.32896242256312735,
          0.3050651058304124,
          0.41482324007657884,
          0.33444462728842816,
          0.3492829307983123,
          0.4165797910893951,
          0.3223076176593487,
          0.30225008018900584,
          0.3025986811410521,
          0.2979298565596773,
          0.3475008376864821,
          0.34004232617645247,
          0.35155194637075454,
          0.3585561474677383,
          0.31448036662764706,
          0.32653036676607067,
          0.3061053467787812,
          0.310324555223567,
          0.33269783657717145,
          0.4062550836567196,
          0.3671857508697307,
          0.41651537173704023,
          0.32097714150900664,
          0.3601727884488824,
          0.3323740577241416,
          0.3242524422032913,
          0.375378208404636,
          0.308216688700835,
          0.39842170346216393,
          0.33951842817024547,
          0.32615085070958516,
          0.4202073589468989,
          0.305850558610762,
          0.34966159387147144,
          0.3657533001715604,
          0.38239443474620527,
          0.3865409911504709,
          0.31447007279876704,
          0.3384786858064703,
          0.3481749805549044,
          0.47706930767985783,
          0.3731111554624565,
          0.3808985632649308,
          0.3743093501457813,
          0.38844740601555616,
          0.335818402610736,
          0.3564439868643927,
          0.3267202437439939,
          0.30181083052195096,
          0.34108803130204596,
          0.31294105477164913,
          0.40509457600821247,
          0.41225474339635254,
          0.4327923396658028,
          0.33130281596092753,
          0.3025195587590908,
          0.3071323178620692,
          0.32920213979818735,
          0.3723537438723651,
          0.36377051933357596,
          0.3829556890339401,
          0.3475187191852678,
          0.30077104602235505,
          0.3373729100806207,
          0.313067060293747,
          0.30177033593424135,
          0.36419509424170826,
          0.3118161541932497,
          0.3090132868456416,
          0.3200828436547303,
          0.3671089319403291,
          0.32385575460025673,
          0.3319577412318139,
          0.34519249036876376,
          0.3155670540747425,
          0.3389873557023518,
          0.3331474017881355,
          0.3542067694018078,
          0.35886511500818347,
          0.4828644242483638,
          0.3704765927973845,
          0.34075141513312707,
          0.33369315418259865,
          0.3055765849868509,
          0.30655936367983727,
          0.3249635627999217,
          0.3582797842468842,
          0.3508313774289397,
          0.35994321156864495,
          0.3283772810409643,
          0.32640837402247724,
          0.3142315951899296,
          0.3210573575669853,
          0.32390909580752647,
          0.39514459087638154,
          0.3248983110862141,
          0.39994849132447824,
          0.3417247234579677,
          0.3439493223415629,
          0.3216827512110578,
          0.34057794625343624,
          0.3267114565471768,
          0.3149079002919457,
          0.4094729374123324,
          0.31100402746902894,
          0.3294987172160333,
          0.3095000933500888,
          0.33073666293460535,
          0.319441269254526,
          0.3834846284060185,
          0.34469507005173966,
          0.3223370508513152,
          0.3414374279457206,
          0.3037506635589409,
          0.3640579789295175,
          0.31782808883218777,
          0.32354869209309073,
          0.3722223094068437,
          0.32038269392801433,
          0.3041536835064113,
          0.3035726300229836,
          0.4157672644742953,
          0.35523199915949555,
          0.39672010730704,
          0.36999515062951926,
          0.43488311742748126,
          0.3727214107427073,
          0.37609155459142374,
          0.3222444285984898,
          0.3063487850983655,
          0.299726122770879,
          0.3088583764900918,
          0.413934262582399,
          0.3710513951858425,
          0.39913861693856206,
          0.3353723157175068,
          0.304246470986988,
          0.3524520950353831,
          0.298856834429243,
          0.30603158076553594,
          0.34801768345581413,
          0.3120310698393544,
          0.34387498006418055,
          0.3111199918975135,
          0.41319492728464613,
          0.3644451932152599,
          0.31623061440088857,
          0.3343247939006047,
          0.33182053704460823,
          0.3550498622072531,
          0.3583546994063798,
          0.35189944555692226,
          0.3668108988630358,
          0.38857581799690044,
          0.33328080733071225,
          0.3451579459644291,
          0.40051470593330823,
          0.3097265818013389,
          0.32421475534085514,
          0.3215885626115692,
          0.357329639441167,
          0.3057091862177446,
          0.30515673525485904,
          0.3519022487240057,
          0.3445453085473096,
          0.3093649426843123,
          0.3177759164585311,
          0.3344078908671978,
          0.30016984391830326,
          0.4950716545032443,
          0.3096519124460322,
          0.31499283057019406,
          0.31275203254812817,
          0.3127862499686295,
          0.34586190574627235,
          0.3748125476481071,
          0.3687357322209543,
          0.3159862698771618,
          0.33265279589993424,
          0.3160731364326073,
          0.3715551737340704,
          0.39380385782422417,
          0.31252751146075125,
          0.421146733184419,
          0.30640715122825646,
          0.3029503906648651,
          0.3258165346181629,
          0.3345624371013665,
          0.3385841807292805,
          0.3120944220393163,
          0.4350705158455234,
          0.3109872378562534,
          0.36357580194156747,
          0.3511358843083379,
          0.3554147551076733,
          0.31031469928584504,
          0.3460526691191128,
          0.3280247823625913,
          0.3506143160032044,
          0.40857004941956454,
          0.31097998383492165,
          0.3058989957303329,
          0.34931878174968695,
          0.3676135105741456,
          0.32031554288540404,
          0.38388434821620543,
          0.36762910625145884,
          0.31321690801522817,
          0.41073396319038236,
          0.3859313881108838,
          0.35661219977781294,
          0.31589137682579993,
          0.3387335492862648,
          0.39003797609682717,
          0.3095598198099951,
          0.30580652982183415,
          0.36166950456241087,
          0.39911750945276697,
          0.34950232874145554,
          0.30505461969892034,
          0.3258550089683396,
          0.44097795984674926,
          0.3158372153896381,
          0.34283588026798284,
          0.30277524975091014,
          0.35110610297785466,
          0.35930729690265056,
          0.3656755935673165,
          0.3320638526322845,
          0.3324949682448688,
          0.35033874609628435,
          0.3292355077527821,
          0.35529179670563954,
          0.4179674136864943,
          0.35125687705714126,
          0.41817345694465213,
          0.3105248357146321,
          0.3204930385179476,
          0.3299637203147004,
          0.37692079703323467,
          0.3194935028287522,
          0.3035433325916483,
          0.41081859553527694,
          0.30476900405224605,
          0.3209005216650474,
          0.3974439222231533,
          0.3819816963290513,
          0.4087968120873768,
          0.3562571664865052,
          0.3176288452319721,
          0.31803224904873123,
          0.4598485209437689,
          0.3686689264904431,
          0.38370070614279006,
          0.35024008685382396,
          0.3247844318833174,
          0.4060359679552897,
          0.3153511199116959,
          0.337543285375633,
          0.3012213856616305,
          0.3067854517459593,
          0.3146723206113995,
          0.4209745770074438,
          0.35818796095697325,
          0.2985089518228551,
          0.3018877783767601,
          0.30857774016467865,
          0.3261032767792885,
          0.3678353605752489,
          0.31845864614577296,
          0.3984949487652328,
          0.3080206043211561,
          0.3111204640670561,
          0.3518391392227407,
          0.31933781930271926,
          0.3114255599573038,
          0.3570283020848252,
          0.34985842256999994,
          0.32952034550293724,
          0.3018239215706476,
          0.3297790946186846,
          0.38524258325812627,
          0.33294517989685485,
          0.4072535885901318,
          0.32185208173418794,
          0.325756557463675,
          0.3249400139410371,
          0.3346084262684782,
          0.3721390247275788,
          0.3361174050024074,
          0.3324029775185548,
          0.3600549822784657,
          0.4000223611727656,
          0.4112293721695763,
          0.3361600708854667,
          0.3735917269962889,
          0.37367747203030155,
          0.3751740080266414,
          0.37760719628237394,
          0.38022093662452155,
          0.333522718117991,
          0.35396956198675356,
          0.3245466086793632,
          0.3021389470706688,
          0.3233759213726021,
          0.44604369425367674,
          0.339357739657624,
          0.3161792100918235,
          0.3014078812251746,
          0.3218010096560612,
          0.3378891772702683,
          0.3955670585523181,
          0.4039033610770974,
          0.4026409229938341,
          0.3083022975799934,
          0.4198051564524327,
          0.32416926176131,
          0.42915460774425673,
          0.3461527765379963,
          0.3533337373160638,
          0.31096117878808827,
          0.3238368345480688,
          0.36266115922757,
          0.34573680854604416,
          0.36709382329291174,
          0.3678339246584561,
          0.30603045553818065,
          0.3138084564639892,
          0.33174883210302925,
          0.3671792892000263,
          0.3367566469025919,
          0.3625525197311755,
          0.3867507767378739,
          0.37995174813338084,
          0.42036184943294,
          0.30989774884805366,
          0.3498738231029598,
          0.44121746743164103,
          0.4546894358046561,
          0.30598145595274256,
          0.3221269475611167,
          0.3040313817728414,
          0.32088365411338976,
          0.38665497279221467,
          0.3341224472389871,
          0.43592872290953105,
          0.3103482136809026,
          0.3563926707659193,
          0.3078777854582077,
          0.3026569296928255,
          0.32366473702071613,
          0.31064776163577185,
          0.5425233532734088,
          0.4036839095696289,
          0.3331147118818632,
          0.37968326111574197,
          0.3110306982052119,
          0.30749201965641043,
          0.3558370291332644,
          0.31502159578577255,
          0.33740233276589593,
          0.3044513749286927,
          0.36113443424028413,
          0.3026781015772033,
          0.38494832397672046,
          0.3470112404139645,
          0.3252052251521367,
          0.30829086867263666,
          0.30742933837060527,
          0.3486789539641169,
          0.299841815866208,
          0.3554764247881821,
          0.3140119922292849,
          0.3986955219938925,
          0.3531576292788387,
          0.376107491638763,
          0.3126520267257158,
          0.3342978008750383,
          0.306045728437964,
          0.31234656073930983,
          0.316212555074383,
          0.3928556964154408,
          0.3026378737294575,
          0.3561408307091192,
          0.3224976009029038,
          0.3384248594647354,
          0.3243426714309083,
          0.3240747241167516,
          0.33081458198173236,
          0.39503335236745224,
          0.3081022409819559,
          0.35100943302809795,
          0.3452080159349096,
          0.29886367599260816,
          0.3852306097996073,
          0.32363781552129217,
          0.32010436708608775,
          0.3208069239380105,
          0.3034458854544336,
          0.3598576443952763,
          0.34064512788472967,
          0.3347768456340131,
          0.36266432357287137,
          0.35434429265052686,
          0.3205025317554688,
          0.35738095740304826,
          0.37297290818510825,
          0.3824435577196449,
          0.3450512752533435,
          0.36948927789213637,
          0.3317140256320574,
          0.31784541656302334,
          0.37480158129287955,
          0.3375159537179858,
          0.3605066947300836,
          0.3032448031777831,
          0.31964716818086386,
          0.3629797628311966,
          0.5386313283571156,
          0.3172194777159033,
          0.34015743264242254,
          0.3668167704085676,
          0.32821822162103104,
          0.3451258320116116,
          0.33541016129197615,
          0.33590820627423573,
          0.38195302115522944,
          0.38469674026197404,
          0.379402162951282,
          0.3322625538119153,
          0.32460411963197117,
          0.35532257649566856,
          0.35276889537237927,
          0.41912352582810486,
          0.3302974540463406,
          0.3128387087493307,
          0.38171247122196317,
          0.3467995961312782,
          0.36111853871205973,
          0.31635117725973966,
          0.3327423609557952,
          0.3133321393846807,
          0.30031055483787095,
          0.32358352743383734,
          0.31486376859517573,
          0.34690293107738357,
          0.32377824436575314,
          0.40150916743865894,
          0.3324199984194372,
          0.3601231229900088,
          0.3947905654665032
         ],
         "xaxis": "x",
         "y": [
          0.42046349082227497,
          0.4854320467809014,
          0.23861518075511773,
          0.27269789502594843,
          0.38550084678107494,
          0.34565120575669267,
          0.42568254077201567,
          0.3532334620066668,
          0.35474922178856017,
          0.36703455403272556,
          0.4002057241825484,
          0.3216672262128719,
          0.33868084063349824,
          0.37854173421947995,
          0.3392103214490117,
          0.30319622858457224,
          0.4559913231430641,
          0.2434810619070995,
          0.35043640582604196,
          0.3410795394955579,
          0.2755368607339315,
          0.48231336010610704,
          0.20704356433967872,
          0.36133434751482013,
          0.45396962434814897,
          0.32036894646558267,
          0.3584390071672967,
          0.34799008323082065,
          0.3747870644791529,
          0.3307536034299422,
          0.3826419842052939,
          0.24390288182008635,
          0.4577230300384673,
          0.34804536837556693,
          0.35590521161321864,
          0.2626208332131263,
          0.33919180951932365,
          0.39035726499575885,
          0.34834562027071203,
          0.3786331890218813,
          0.3438089619835654,
          0.3835979470907063,
          0.3218152438312315,
          0.4502302013451641,
          0.2737559671069219,
          0.2929222437438196,
          0.34335186111471977,
          0.36429611602656864,
          0.3640737887515573,
          0.32264591300466033,
          0.28170077437199303,
          0.450361499840652,
          0.3073944358912457,
          0.37594269433450594,
          0.41530687991330323,
          0.3299624596502459,
          0.2761108976368566,
          0.25278769451584077,
          0.25096537900574056,
          0.36290362936215054,
          0.33343605451238,
          0.3832115121135484,
          0.35113588839065807,
          0.31964023567406097,
          0.30534276510100694,
          0.28508748124576766,
          0.30720104027163053,
          0.3339280253361642,
          0.44742839448761407,
          0.3673446678028544,
          0.4194688970829208,
          0.30864369754549187,
          0.3567759010110474,
          0.33944722062463023,
          0.252197006215033,
          0.40850217169142117,
          0.26722475526080386,
          0.3708030744540321,
          0.33743297406748485,
          0.3412445523198183,
          0.44211267094004747,
          0.257706993501116,
          0.38211933424125744,
          0.3630291110710844,
          0.423829564755727,
          0.4082289404477904,
          0.302257402407927,
          0.3420604510198168,
          0.37718151415498524,
          0.5167168449879423,
          0.41265840947635424,
          0.4012975142836034,
          0.4002596035920153,
          0.3894378125811111,
          0.32341818382876386,
          0.3960542638596316,
          0.3047059862885475,
          0.2543430580278913,
          0.3655000029174104,
          0.2865788182766279,
          0.43776272350592277,
          0.45798408611226077,
          0.4677328111314024,
          0.32816375132005576,
          0.2562676389545001,
          0.2740236989059397,
          0.32827558069549573,
          0.41427244370601013,
          0.4044437861148232,
          0.430486144825816,
          0.3888463069503881,
          0.2391424579921792,
          0.31436859542063667,
          0.28176005949151905,
          0.2846340342904936,
          0.3835502032154809,
          0.26657443362274674,
          0.2655748114581798,
          0.24341958351853105,
          0.39501042789551133,
          0.3149080847632787,
          0.3409953135494567,
          0.3587663361041199,
          0.30251878922415043,
          0.36773501250609364,
          0.3265751912008184,
          0.3337069107702455,
          0.2908356803317951,
          0.49454903519929316,
          0.38581947307268866,
          0.3083196281996558,
          0.33461984223253816,
          0.2767314001090604,
          0.28214840638720623,
          0.3202671569908833,
          0.3698628404805468,
          0.3872523054813183,
          0.40518006090601877,
          0.2979924190383312,
          0.3025577752881974,
          0.23110759365912276,
          0.3023866248837544,
          0.30508949804635327,
          0.3631253507578467,
          0.32923227082181905,
          0.3959667910894661,
          0.3665825201402767,
          0.33496572994341506,
          0.34356995831447984,
          0.32315253567820273,
          0.33225431391241067,
          0.32471692269909747,
          0.4248084480193571,
          0.32074035636822074,
          0.2467400952799134,
          0.24210156347382358,
          0.3313692743365861,
          0.2941776301773783,
          0.38349077922656616,
          0.3375170831745228,
          0.30898028742867356,
          0.35491233700871977,
          0.25580889434388726,
          0.3678899192919886,
          0.30935507018188435,
          0.3058306244728039,
          0.3845343953430106,
          0.3174977469990918,
          0.2633216349352269,
          0.2968330082448638,
          0.4307740615154728,
          0.37945644620791213,
          0.4007410818428027,
          0.3860526223070113,
          0.41264571374433795,
          0.3714223967172775,
          0.4043813360434656,
          0.31443418493661535,
          0.252213673272149,
          0.2725866412701337,
          0.23228316841283195,
          0.4128290230589927,
          0.40224073012745154,
          0.44744401652324955,
          0.34542522784631513,
          0.26620314422951813,
          0.365018434981127,
          0.2668043706837273,
          0.25042129860930773,
          0.3355902698680874,
          0.29859983325757494,
          0.3226617103076464,
          0.27487714221826764,
          0.4579490645306701,
          0.3677912406696737,
          0.32439704900242994,
          0.2762092022302855,
          0.325809299496069,
          0.3879474382892998,
          0.40045894037261415,
          0.3668605574964268,
          0.36185632739305895,
          0.40735668129048735,
          0.3144928699327727,
          0.35332154436322016,
          0.42614129492341796,
          0.2886184960766869,
          0.3094794638346032,
          0.28711821211548105,
          0.3775400960972906,
          0.27209314864646483,
          0.294908083065878,
          0.265207208245574,
          0.37865301826791437,
          0.2592787067854777,
          0.32598644909921326,
          0.32898537766999647,
          0.25844805106840346,
          0.5059555620789028,
          0.31826938507790964,
          0.2729865912210402,
          0.28220312963496663,
          0.2960223164002562,
          0.3624265727535657,
          0.41725868158147794,
          0.40636526875144907,
          0.27269943144331876,
          0.3521125609583737,
          0.31380887515984485,
          0.37711040196606016,
          0.42475380512955097,
          0.2555945561676107,
          0.4638449013774902,
          0.2860350444785144,
          0.2850215109003498,
          0.32365427612349484,
          0.3167265223052489,
          0.34638829235920515,
          0.2846661044469574,
          0.476139495550323,
          0.24532592217634627,
          0.36296178405827484,
          0.35890312414491793,
          0.3233710304878248,
          0.26047415719315187,
          0.33359053657142274,
          0.30786988908228646,
          0.3556575535427911,
          0.44725972224141936,
          0.29896419346019876,
          0.2682666908998535,
          0.35483526408232297,
          0.37339613234189156,
          0.3397323933174668,
          0.37413683547415644,
          0.37515640060034966,
          0.2991960554054159,
          0.44396314146251575,
          0.4224987397703215,
          0.3667204033853541,
          0.2780922056433004,
          0.37133392717656305,
          0.4132658970871635,
          0.29224493490597037,
          0.28682738640048994,
          0.3985207053108238,
          0.4033730001984575,
          0.32923043820646497,
          0.26649957988363304,
          0.3514326315243352,
          0.4680037678944043,
          0.2748630290292357,
          0.3512891145161844,
          0.28048934049167185,
          0.3715023339387067,
          0.3702009083971996,
          0.35454223448882183,
          0.3129666623992884,
          0.3652378391073602,
          0.34819101549644255,
          0.27559832050042854,
          0.35220155212427384,
          0.45043439918530476,
          0.37755649325293017,
          0.44091273914923507,
          0.2504305487104042,
          0.3204783553250915,
          0.29969325611203895,
          0.40898640494919725,
          0.2872882465867565,
          0.28635774115399865,
          0.43212747283347885,
          0.2553399528781063,
          0.29156247409301056,
          0.4227213828489559,
          0.37902215764000313,
          0.41634952635001066,
          0.36056978367779186,
          0.3002062004318109,
          0.3024281988886024,
          0.4881428340749108,
          0.403800213938973,
          0.3823614059045357,
          0.34405712029068586,
          0.32691661823669554,
          0.40772128247603434,
          0.3190869367750586,
          0.3517393941349605,
          0.287147247840637,
          0.26562715533720016,
          0.22604858404326306,
          0.44803210932208476,
          0.3483065518594977,
          0.2693054172802569,
          0.2802148923809447,
          0.2968121248243694,
          0.32612868545292756,
          0.38155061324919853,
          0.33116150508557385,
          0.3885142575698834,
          0.26819107550636984,
          0.31460566355456326,
          0.38566518200260447,
          0.3241505726542606,
          0.2817162625631173,
          0.3933395570179151,
          0.34532143038344454,
          0.30753177477468946,
          0.23031257651347772,
          0.32195031583686035,
          0.427041473021227,
          0.342919894485863,
          0.4440171022508877,
          0.33199455460144955,
          0.22832140143725854,
          0.29002341501955564,
          0.20147257795108045,
          0.39868650569784986,
          0.3670435000499422,
          0.32514676413229626,
          0.3756910120363502,
          0.4409219081659176,
          0.42976256644128025,
          0.2876753229727491,
          0.37465659213127356,
          0.34459033758019125,
          0.4055485911321063,
          0.41442690495371215,
          0.3967776757297487,
          0.35700953089243986,
          0.3821530130647732,
          0.27077834672076495,
          0.28993724285441447,
          0.30176025260541944,
          0.4500158050484047,
          0.32246681697981944,
          0.2871365940933787,
          0.2614383811438948,
          0.31289848653718655,
          0.33852559105413255,
          0.4074063552153544,
          0.4282638241908618,
          0.440485714980105,
          0.25813169641667366,
          0.42788534494465236,
          0.27999334973442663,
          0.44828077909385755,
          0.35130051454892497,
          0.37925574396479766,
          0.29166142279980584,
          0.3473658235747584,
          0.3608889548798144,
          0.3589884888478484,
          0.3465439958910273,
          0.40935637900051997,
          0.25541785624873414,
          0.30139433567308366,
          0.3575050850694016,
          0.37654136940427047,
          0.30843502149090635,
          0.39570963401981474,
          0.43074899226170316,
          0.39818335915857916,
          0.40806120319146005,
          0.31877933666637615,
          0.3601390484198723,
          0.4903333426719216,
          0.49660388479504686,
          0.28629255785863167,
          0.3142358120604739,
          0.23195800028738472,
          0.34049590541439145,
          0.4366199535862629,
          0.3035835201979149,
          0.4371135865816461,
          0.2607122405372026,
          0.37573618795876157,
          0.28990548416437456,
          0.25952022802259506,
          0.29370675291064374,
          0.28103905807047075,
          0.5673543705113802,
          0.4421228931328605,
          0.35683831624273615,
          0.3987839677446867,
          0.23482346783558752,
          0.22687349796093395,
          0.3279029840531714,
          0.29599818573206554,
          0.3514708854154037,
          0.2852715044365116,
          0.35951847950261867,
          0.2827983305170333,
          0.4067747217987571,
          0.33759534962462046,
          0.32523809485279936,
          0.24890289304400703,
          0.22505980808920406,
          0.3584783696342385,
          0.27450350746722674,
          0.3776957769834936,
          0.2631335603147203,
          0.4379058053087928,
          0.37008811708164574,
          0.4067181123480978,
          0.3179414224978102,
          0.3144618020143012,
          0.2547853263023241,
          0.3161458953362622,
          0.28681789990816375,
          0.44194309024601497,
          0.2760946507973104,
          0.35336154079522186,
          0.3181260584844594,
          0.34393082212941595,
          0.3385529555065763,
          0.31258143596998295,
          0.33120479841235817,
          0.43154556872828587,
          0.30904525220143064,
          0.36836589943402376,
          0.36279887615838896,
          0.2539860456411811,
          0.3933848791050054,
          0.35192411955340674,
          0.3281936313823136,
          0.3381755831228021,
          0.2896922086544567,
          0.3780733339170214,
          0.35445536341282874,
          0.3124330873723096,
          0.3425045081544003,
          0.3734045507130771,
          0.28671341825547575,
          0.36536036311937115,
          0.39852888334982833,
          0.4142840785190315,
          0.3419374897991228,
          0.36378672494161335,
          0.3332805643518524,
          0.3127672381440079,
          0.35744937594989373,
          0.37223310928444814,
          0.343051303176468,
          0.2315571580657854,
          0.3051097339453984,
          0.4044642306367478,
          0.5591143933642844,
          0.31972929689369983,
          0.3342321721535254,
          0.3862106811884536,
          0.3269510662877468,
          0.3240968785765972,
          0.34227096602768203,
          0.3388187282722176,
          0.3889996300773494,
          0.400170126642938,
          0.399854943764117,
          0.32880201649916296,
          0.2806024971086916,
          0.36846601376724375,
          0.3488544047453221,
          0.43960910993994745,
          0.3572670311541585,
          0.3103701404300541,
          0.4213064555448488,
          0.35109074314935645,
          0.384140521504134,
          0.2641417631018026,
          0.3373324696354778,
          0.31902003389693895,
          0.24694079218926782,
          0.3095863171330285,
          0.2980308433712053,
          0.35152824817772493,
          0.2965078878771848,
          0.44658176306176434,
          0.3551813348816877,
          0.3028399431042674,
          0.44127182505101037
         ],
         "yaxis": "y"
        }
       ],
       "layout": {
        "coloraxis": {
         "colorbar": {
          "title": {
           "text": "color"
          }
         },
         "colorscale": [
          [
           0,
           "#0d0887"
          ],
          [
           0.1111111111111111,
           "#46039f"
          ],
          [
           0.2222222222222222,
           "#7201a8"
          ],
          [
           0.3333333333333333,
           "#9c179e"
          ],
          [
           0.4444444444444444,
           "#bd3786"
          ],
          [
           0.5555555555555556,
           "#d8576b"
          ],
          [
           0.6666666666666666,
           "#ed7953"
          ],
          [
           0.7777777777777778,
           "#fb9f3a"
          ],
          [
           0.8888888888888888,
           "#fdca26"
          ],
          [
           1,
           "#f0f921"
          ]
         ]
        },
        "legend": {
         "tracegroupgap": 0
        },
        "margin": {
         "t": 60
        },
        "template": {
         "data": {
          "bar": [
           {
            "error_x": {
             "color": "#2a3f5f"
            },
            "error_y": {
             "color": "#2a3f5f"
            },
            "marker": {
             "line": {
              "color": "#E5ECF6",
              "width": 0.5
             },
             "pattern": {
              "fillmode": "overlay",
              "size": 10,
              "solidity": 0.2
             }
            },
            "type": "bar"
           }
          ],
          "barpolar": [
           {
            "marker": {
             "line": {
              "color": "#E5ECF6",
              "width": 0.5
             },
             "pattern": {
              "fillmode": "overlay",
              "size": 10,
              "solidity": 0.2
             }
            },
            "type": "barpolar"
           }
          ],
          "carpet": [
           {
            "aaxis": {
             "endlinecolor": "#2a3f5f",
             "gridcolor": "white",
             "linecolor": "white",
             "minorgridcolor": "white",
             "startlinecolor": "#2a3f5f"
            },
            "baxis": {
             "endlinecolor": "#2a3f5f",
             "gridcolor": "white",
             "linecolor": "white",
             "minorgridcolor": "white",
             "startlinecolor": "#2a3f5f"
            },
            "type": "carpet"
           }
          ],
          "choropleth": [
           {
            "colorbar": {
             "outlinewidth": 0,
             "ticks": ""
            },
            "type": "choropleth"
           }
          ],
          "contour": [
           {
            "colorbar": {
             "outlinewidth": 0,
             "ticks": ""
            },
            "colorscale": [
             [
              0,
              "#0d0887"
             ],
             [
              0.1111111111111111,
              "#46039f"
             ],
             [
              0.2222222222222222,
              "#7201a8"
             ],
             [
              0.3333333333333333,
              "#9c179e"
             ],
             [
              0.4444444444444444,
              "#bd3786"
             ],
             [
              0.5555555555555556,
              "#d8576b"
             ],
             [
              0.6666666666666666,
              "#ed7953"
             ],
             [
              0.7777777777777778,
              "#fb9f3a"
             ],
             [
              0.8888888888888888,
              "#fdca26"
             ],
             [
              1,
              "#f0f921"
             ]
            ],
            "type": "contour"
           }
          ],
          "contourcarpet": [
           {
            "colorbar": {
             "outlinewidth": 0,
             "ticks": ""
            },
            "type": "contourcarpet"
           }
          ],
          "heatmap": [
           {
            "colorbar": {
             "outlinewidth": 0,
             "ticks": ""
            },
            "colorscale": [
             [
              0,
              "#0d0887"
             ],
             [
              0.1111111111111111,
              "#46039f"
             ],
             [
              0.2222222222222222,
              "#7201a8"
             ],
             [
              0.3333333333333333,
              "#9c179e"
             ],
             [
              0.4444444444444444,
              "#bd3786"
             ],
             [
              0.5555555555555556,
              "#d8576b"
             ],
             [
              0.6666666666666666,
              "#ed7953"
             ],
             [
              0.7777777777777778,
              "#fb9f3a"
             ],
             [
              0.8888888888888888,
              "#fdca26"
             ],
             [
              1,
              "#f0f921"
             ]
            ],
            "type": "heatmap"
           }
          ],
          "heatmapgl": [
           {
            "colorbar": {
             "outlinewidth": 0,
             "ticks": ""
            },
            "colorscale": [
             [
              0,
              "#0d0887"
             ],
             [
              0.1111111111111111,
              "#46039f"
             ],
             [
              0.2222222222222222,
              "#7201a8"
             ],
             [
              0.3333333333333333,
              "#9c179e"
             ],
             [
              0.4444444444444444,
              "#bd3786"
             ],
             [
              0.5555555555555556,
              "#d8576b"
             ],
             [
              0.6666666666666666,
              "#ed7953"
             ],
             [
              0.7777777777777778,
              "#fb9f3a"
             ],
             [
              0.8888888888888888,
              "#fdca26"
             ],
             [
              1,
              "#f0f921"
             ]
            ],
            "type": "heatmapgl"
           }
          ],
          "histogram": [
           {
            "marker": {
             "pattern": {
              "fillmode": "overlay",
              "size": 10,
              "solidity": 0.2
             }
            },
            "type": "histogram"
           }
          ],
          "histogram2d": [
           {
            "colorbar": {
             "outlinewidth": 0,
             "ticks": ""
            },
            "colorscale": [
             [
              0,
              "#0d0887"
             ],
             [
              0.1111111111111111,
              "#46039f"
             ],
             [
              0.2222222222222222,
              "#7201a8"
             ],
             [
              0.3333333333333333,
              "#9c179e"
             ],
             [
              0.4444444444444444,
              "#bd3786"
             ],
             [
              0.5555555555555556,
              "#d8576b"
             ],
             [
              0.6666666666666666,
              "#ed7953"
             ],
             [
              0.7777777777777778,
              "#fb9f3a"
             ],
             [
              0.8888888888888888,
              "#fdca26"
             ],
             [
              1,
              "#f0f921"
             ]
            ],
            "type": "histogram2d"
           }
          ],
          "histogram2dcontour": [
           {
            "colorbar": {
             "outlinewidth": 0,
             "ticks": ""
            },
            "colorscale": [
             [
              0,
              "#0d0887"
             ],
             [
              0.1111111111111111,
              "#46039f"
             ],
             [
              0.2222222222222222,
              "#7201a8"
             ],
             [
              0.3333333333333333,
              "#9c179e"
             ],
             [
              0.4444444444444444,
              "#bd3786"
             ],
             [
              0.5555555555555556,
              "#d8576b"
             ],
             [
              0.6666666666666666,
              "#ed7953"
             ],
             [
              0.7777777777777778,
              "#fb9f3a"
             ],
             [
              0.8888888888888888,
              "#fdca26"
             ],
             [
              1,
              "#f0f921"
             ]
            ],
            "type": "histogram2dcontour"
           }
          ],
          "mesh3d": [
           {
            "colorbar": {
             "outlinewidth": 0,
             "ticks": ""
            },
            "type": "mesh3d"
           }
          ],
          "parcoords": [
           {
            "line": {
             "colorbar": {
              "outlinewidth": 0,
              "ticks": ""
             }
            },
            "type": "parcoords"
           }
          ],
          "pie": [
           {
            "automargin": true,
            "type": "pie"
           }
          ],
          "scatter": [
           {
            "marker": {
             "colorbar": {
              "outlinewidth": 0,
              "ticks": ""
             }
            },
            "type": "scatter"
           }
          ],
          "scatter3d": [
           {
            "line": {
             "colorbar": {
              "outlinewidth": 0,
              "ticks": ""
             }
            },
            "marker": {
             "colorbar": {
              "outlinewidth": 0,
              "ticks": ""
             }
            },
            "type": "scatter3d"
           }
          ],
          "scattercarpet": [
           {
            "marker": {
             "colorbar": {
              "outlinewidth": 0,
              "ticks": ""
             }
            },
            "type": "scattercarpet"
           }
          ],
          "scattergeo": [
           {
            "marker": {
             "colorbar": {
              "outlinewidth": 0,
              "ticks": ""
             }
            },
            "type": "scattergeo"
           }
          ],
          "scattergl": [
           {
            "marker": {
             "colorbar": {
              "outlinewidth": 0,
              "ticks": ""
             }
            },
            "type": "scattergl"
           }
          ],
          "scattermapbox": [
           {
            "marker": {
             "colorbar": {
              "outlinewidth": 0,
              "ticks": ""
             }
            },
            "type": "scattermapbox"
           }
          ],
          "scatterpolar": [
           {
            "marker": {
             "colorbar": {
              "outlinewidth": 0,
              "ticks": ""
             }
            },
            "type": "scatterpolar"
           }
          ],
          "scatterpolargl": [
           {
            "marker": {
             "colorbar": {
              "outlinewidth": 0,
              "ticks": ""
             }
            },
            "type": "scatterpolargl"
           }
          ],
          "scatterternary": [
           {
            "marker": {
             "colorbar": {
              "outlinewidth": 0,
              "ticks": ""
             }
            },
            "type": "scatterternary"
           }
          ],
          "surface": [
           {
            "colorbar": {
             "outlinewidth": 0,
             "ticks": ""
            },
            "colorscale": [
             [
              0,
              "#0d0887"
             ],
             [
              0.1111111111111111,
              "#46039f"
             ],
             [
              0.2222222222222222,
              "#7201a8"
             ],
             [
              0.3333333333333333,
              "#9c179e"
             ],
             [
              0.4444444444444444,
              "#bd3786"
             ],
             [
              0.5555555555555556,
              "#d8576b"
             ],
             [
              0.6666666666666666,
              "#ed7953"
             ],
             [
              0.7777777777777778,
              "#fb9f3a"
             ],
             [
              0.8888888888888888,
              "#fdca26"
             ],
             [
              1,
              "#f0f921"
             ]
            ],
            "type": "surface"
           }
          ],
          "table": [
           {
            "cells": {
             "fill": {
              "color": "#EBF0F8"
             },
             "line": {
              "color": "white"
             }
            },
            "header": {
             "fill": {
              "color": "#C8D4E3"
             },
             "line": {
              "color": "white"
             }
            },
            "type": "table"
           }
          ]
         },
         "layout": {
          "annotationdefaults": {
           "arrowcolor": "#2a3f5f",
           "arrowhead": 0,
           "arrowwidth": 1
          },
          "autotypenumbers": "strict",
          "coloraxis": {
           "colorbar": {
            "outlinewidth": 0,
            "ticks": ""
           }
          },
          "colorscale": {
           "diverging": [
            [
             0,
             "#8e0152"
            ],
            [
             0.1,
             "#c51b7d"
            ],
            [
             0.2,
             "#de77ae"
            ],
            [
             0.3,
             "#f1b6da"
            ],
            [
             0.4,
             "#fde0ef"
            ],
            [
             0.5,
             "#f7f7f7"
            ],
            [
             0.6,
             "#e6f5d0"
            ],
            [
             0.7,
             "#b8e186"
            ],
            [
             0.8,
             "#7fbc41"
            ],
            [
             0.9,
             "#4d9221"
            ],
            [
             1,
             "#276419"
            ]
           ],
           "sequential": [
            [
             0,
             "#0d0887"
            ],
            [
             0.1111111111111111,
             "#46039f"
            ],
            [
             0.2222222222222222,
             "#7201a8"
            ],
            [
             0.3333333333333333,
             "#9c179e"
            ],
            [
             0.4444444444444444,
             "#bd3786"
            ],
            [
             0.5555555555555556,
             "#d8576b"
            ],
            [
             0.6666666666666666,
             "#ed7953"
            ],
            [
             0.7777777777777778,
             "#fb9f3a"
            ],
            [
             0.8888888888888888,
             "#fdca26"
            ],
            [
             1,
             "#f0f921"
            ]
           ],
           "sequentialminus": [
            [
             0,
             "#0d0887"
            ],
            [
             0.1111111111111111,
             "#46039f"
            ],
            [
             0.2222222222222222,
             "#7201a8"
            ],
            [
             0.3333333333333333,
             "#9c179e"
            ],
            [
             0.4444444444444444,
             "#bd3786"
            ],
            [
             0.5555555555555556,
             "#d8576b"
            ],
            [
             0.6666666666666666,
             "#ed7953"
            ],
            [
             0.7777777777777778,
             "#fb9f3a"
            ],
            [
             0.8888888888888888,
             "#fdca26"
            ],
            [
             1,
             "#f0f921"
            ]
           ]
          },
          "colorway": [
           "#636efa",
           "#EF553B",
           "#00cc96",
           "#ab63fa",
           "#FFA15A",
           "#19d3f3",
           "#FF6692",
           "#B6E880",
           "#FF97FF",
           "#FECB52"
          ],
          "font": {
           "color": "#2a3f5f"
          },
          "geo": {
           "bgcolor": "white",
           "lakecolor": "white",
           "landcolor": "#E5ECF6",
           "showlakes": true,
           "showland": true,
           "subunitcolor": "white"
          },
          "hoverlabel": {
           "align": "left"
          },
          "hovermode": "closest",
          "mapbox": {
           "style": "light"
          },
          "paper_bgcolor": "white",
          "plot_bgcolor": "#E5ECF6",
          "polar": {
           "angularaxis": {
            "gridcolor": "white",
            "linecolor": "white",
            "ticks": ""
           },
           "bgcolor": "#E5ECF6",
           "radialaxis": {
            "gridcolor": "white",
            "linecolor": "white",
            "ticks": ""
           }
          },
          "scene": {
           "xaxis": {
            "backgroundcolor": "#E5ECF6",
            "gridcolor": "white",
            "gridwidth": 2,
            "linecolor": "white",
            "showbackground": true,
            "ticks": "",
            "zerolinecolor": "white"
           },
           "yaxis": {
            "backgroundcolor": "#E5ECF6",
            "gridcolor": "white",
            "gridwidth": 2,
            "linecolor": "white",
            "showbackground": true,
            "ticks": "",
            "zerolinecolor": "white"
           },
           "zaxis": {
            "backgroundcolor": "#E5ECF6",
            "gridcolor": "white",
            "gridwidth": 2,
            "linecolor": "white",
            "showbackground": true,
            "ticks": "",
            "zerolinecolor": "white"
           }
          },
          "shapedefaults": {
           "line": {
            "color": "#2a3f5f"
           }
          },
          "ternary": {
           "aaxis": {
            "gridcolor": "white",
            "linecolor": "white",
            "ticks": ""
           },
           "baxis": {
            "gridcolor": "white",
            "linecolor": "white",
            "ticks": ""
           },
           "bgcolor": "#E5ECF6",
           "caxis": {
            "gridcolor": "white",
            "linecolor": "white",
            "ticks": ""
           }
          },
          "title": {
           "x": 0.05
          },
          "xaxis": {
           "automargin": true,
           "gridcolor": "white",
           "linecolor": "white",
           "ticks": "",
           "title": {
            "standoff": 15
           },
           "zerolinecolor": "white",
           "zerolinewidth": 2
          },
          "yaxis": {
           "automargin": true,
           "gridcolor": "white",
           "linecolor": "white",
           "ticks": "",
           "title": {
            "standoff": 15
           },
           "zerolinecolor": "white",
           "zerolinewidth": 2
          }
         }
        },
        "xaxis": {
         "anchor": "y",
         "domain": [
          0,
          1
         ],
         "title": {
          "text": "risk"
         }
        },
        "yaxis": {
         "anchor": "x",
         "domain": [
          0,
          1
         ],
         "title": {
          "text": "return"
         }
        }
       }
      }
     },
     "metadata": {},
     "output_type": "display_data"
    }
   ],
   "source": [
    "px.scatter(data_nueva, x='risk', y='return', color=p_sharpe)"
   ]
  }
 ],
 "metadata": {
  "kernelspec": {
   "display_name": "Python 3.8.8 ('base')",
   "language": "python",
   "name": "python3"
  },
  "language_info": {
   "codemirror_mode": {
    "name": "ipython",
    "version": 3
   },
   "file_extension": ".py",
   "mimetype": "text/x-python",
   "name": "python",
   "nbconvert_exporter": "python",
   "pygments_lexer": "ipython3",
   "version": "3.8.8"
  },
  "orig_nbformat": 4,
  "vscode": {
   "interpreter": {
    "hash": "c219ef5cc60cb1fe992d92d78fdbfe860a3f25886d77e6b32be4ebf606a655a4"
   }
  }
 },
 "nbformat": 4,
 "nbformat_minor": 2
}
